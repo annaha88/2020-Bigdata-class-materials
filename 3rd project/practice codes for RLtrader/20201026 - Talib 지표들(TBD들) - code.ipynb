{
 "cells": [
  {
   "cell_type": "markdown",
   "metadata": {},
   "source": [
    "## 매물대 지표 \n",
    " - 특정기간동안 거래된 주가의 누적 거래량 : 가격대마다의 volume 비율을 바차트로.\n",
    "-  군중심리에 기반한 매수세와 매도세에 따라 지지대= 저항대가 생성된다.\n",
    "- 지지 : 하락을 멈춤\n",
    "- 저항: 상승을 멈춤\n",
    "\n",
    "- 설정 기간에 따라 오류를 범할수 있으니 주의해야한다"
   ]
  },
  {
   "cell_type": "markdown",
   "metadata": {},
   "source": [
    "-Volume Indicator Functions\n",
    "\n",
    "- AD - Chaikin A/D Line\n",
    "- ADOSC - Chaikin A/D Oscillator\n",
    "- OBV - On Balance Volume"
   ]
  },
  {
   "cell_type": "markdown",
   "metadata": {},
   "source": [
    "-RSI\n",
    "- RSI: 주가의 상승추세 파악\n",
    ": Rsi 값이 클수록 주가의 상승추세가 크다 "
   ]
  },
  {
   "cell_type": "code",
   "execution_count": null,
   "metadata": {},
   "outputs": [],
   "source": []
  },
  {
   "cell_type": "code",
   "execution_count": null,
   "metadata": {},
   "outputs": [],
   "source": []
  },
  {
   "cell_type": "code",
   "execution_count": null,
   "metadata": {},
   "outputs": [],
   "source": []
  },
  {
   "cell_type": "code",
   "execution_count": null,
   "metadata": {},
   "outputs": [],
   "source": []
  },
  {
   "cell_type": "code",
   "execution_count": null,
   "metadata": {},
   "outputs": [],
   "source": []
  }
 ],
 "metadata": {
  "kernelspec": {
   "display_name": "py37_32",
   "language": "python",
   "name": "py37_32"
  },
  "language_info": {
   "codemirror_mode": {
    "name": "ipython",
    "version": 3
   },
   "file_extension": ".py",
   "mimetype": "text/x-python",
   "name": "python",
   "nbconvert_exporter": "python",
   "pygments_lexer": "ipython3",
   "version": "3.7.7"
  }
 },
 "nbformat": 4,
 "nbformat_minor": 4
}
