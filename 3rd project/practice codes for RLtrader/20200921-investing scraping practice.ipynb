{
 "cells": [
  {
   "cell_type": "markdown",
   "metadata": {
    "colab_type": "text",
    "id": "km2-GDFlSXTE"
   },
   "source": [
    "### rev. 인베스팅 실시간 선물 데이터 파일다운로드 없이 불러오기\n",
    "- 받아온 정보를 데이터 프레임으로 만들어서 csv 로 저장하는 구조.\n",
    "- 이전 코드는 장이 돌아가는 실시간 상황에서는 유효하지 않았다.(class 명이 실시간으로 바뀌기 때문)\n",
    "  => 코드 수정을 통해 해결했고,변동값(change)까지 추가하는 코드로 수정했다. 실시간상황에도 돌아간다.\n",
    " \n",
    "- 이전코드는 클래스 네임(pid-xxx-xx) 를 받아온 이후에, 그 이름을 이용해서 다시 driver로 Webelement를 선택하는 방법이어서 실시간 상황에서 부적합했다 => 처음 선택한 element 를 계속 유지하는 것으로 코드 변경(실시간에도 문제없음)\n",
    " \n",
    "\n",
    "- 실제 쓸때는 데이터프레임 구조는 손봐야 할거 같다.\n",
    "\n",
    "- 반복실행시 csv 파일 존재하면, 에러난다. 덮어쓰면서 업데이트 하도록 추가하기\n",
    "=> 차라리 데이터 프레임 구조를 만들어 놓고, 해당 데이터 프레임을 업데이트한 후 저장하는 게 나을듯.\n",
    "사실 일별로 매일 실행하는 것은 큰 의미는 없을듯. =>어차피 일별데이터는 나중에 한번에 받을 수도 있으니까.\n",
    "\n",
    "- 인베스팅 시간 기준: 미국 워싱턴 DC\n"
   ]
  },
  {
   "cell_type": "code",
   "execution_count": 1,
   "metadata": {
    "colab": {},
    "colab_type": "code",
    "id": "PIZyDsT7SXTE"
   },
   "outputs": [],
   "source": [
    "# 인베스팅 실시간 선물 데이터 페이지 14개\n",
    "# 변동률까지 포함하도록 수정한 코드\n",
    "# 실시간 환경에서 구동가능\n",
    "\n",
    "import numpy as np\n",
    "import pandas as pd\n",
    "\n",
    "from selenium import webdriver\n",
    "import time\n",
    "\n",
    "driver = webdriver.Chrome('./webdriver/chromedriver')\n",
    "time.sleep(1)\n",
    "driver.get('https://www.investing.com/commodities/real-time-futures')\n",
    "# 선물 항목명 얻기(names)\n",
    "elements = driver.find_elements_by_tag_name('a')\n",
    "names = [i.text for i in elements[315:351]]  # 이름 얻어오는 슬라이싱 구간이 변할수도 있을 것 같다. 다른 날 다시 테스트해 볼것.\n",
    "\n",
    "# 종가, high, low, time 얻기\n",
    "# 처음부터 pid 객체로 얻기.<td class=\"pid-8894-high\">2,662.00</td>\n",
    "elements = driver.find_elements_by_css_selector(\"td[class*='pid']\")\n",
    "numbers = [i.text for i in elements]\n",
    "numbers = numbers[:216]   # 필요한 선물데이터 영역만 슬라이싱\n",
    "\n",
    "price_last=[numbers[6*i] for i in range(36)]\n",
    "price_high=[numbers[6*i+1] for i in range(36)]\n",
    "price_low=[numbers[6*i+2] for i in range(36)]\n",
    "price_pc=[numbers[6*i+3] for i in range(36)]\n",
    "price_pcp=[numbers[6*i+4] for i in range(36)]\n",
    "price_time=[numbers[6*i+5] for i in range(36)]\n",
    "\n",
    "df = pd.DataFrame({\n",
    "    'Time':price_time\n",
    "    , 'Commodity': names\n",
    "    , 'Last':price_last\n",
    "    , 'High':price_high\n",
    "    , 'Low':price_low\n",
    "    , 'Change':price_pc\n",
    "    , 'Change(%)':price_pcp\n",
    "})\n",
    "\n",
    "# csv 저장위치&파일명 기입\n",
    "df.to_csv('./data/commodity_real_time_test12.csv'\n",
    "         , sep=','\n",
    "          , encoding='utf-8'\n",
    "         )\n",
    "\n",
    "driver.close()"
   ]
  },
  {
   "cell_type": "markdown",
   "metadata": {},
   "source": [
    "pid 부분 수정해서 change 부분까지 가져오자"
   ]
  },
  {
   "cell_type": "code",
   "execution_count": 80,
   "metadata": {},
   "outputs": [],
   "source": [
    "# 처음부터 pid 객체로 얻기.\n",
    "\n",
    "driver = webdriver.Chrome('./webdriver/chromedriver')\n",
    "time.sleep(1)\n",
    "driver.get('https://www.investing.com/commodities/real-time-futures')\n",
    "\n",
    "# 종가, high, low, time 얻기\n",
    "\n",
    "elements = driver.find_elements_by_css_selector(\"td[class*='pid']\")\n",
    "\n",
    "numbers = [i.text for i in elements]\n",
    "numbers = numbers[:216]\n",
    "\n",
    "price_last=[numbers[6*i] for i in range(36)]\n",
    "price_high=[numbers[6*i+1] for i in range(36)]\n",
    "price_low=[numbers[6*i+2] for i in range(36)]\n",
    "price_pc=[numbers[6*i+3] for i in range(36)]\n",
    "price_pcp=[numbers[6*i+4] for i in range(36)]\n",
    "price_time=[numbers[6*i+5] for i in range(36)]\n",
    "\n",
    "df = pd.DataFrame({\n",
    "    'Time':price_time\n",
    "    , 'Commodity': names\n",
    "    , 'Last':price_last\n",
    "    , 'High':price_high\n",
    "    , 'Low':price_low\n",
    "    , 'Change':price_pc\n",
    "    , 'Change(%)':price_pcp\n",
    "})\n",
    "\n",
    "df.to_csv('./data/commodity_real_time_test33333.csv'\n",
    "         , sep=','\n",
    "          , encoding='utf-8'\n",
    "         )\n",
    "\n",
    "driver.close()\n"
   ]
  },
  {
   "cell_type": "markdown",
   "metadata": {},
   "source": [
    "프로세스가 완료될때까지 driver 는 열려있는 것이 안전하다. 닫은 후에는 이미 선택되었다 해도 element를 인식 못하는 것 같다"
   ]
  },
  {
   "cell_type": "code",
   "execution_count": 94,
   "metadata": {},
   "outputs": [],
   "source": [
    "driver = webdriver.Chrome('./webdriver/chromedriver')\n",
    "time.sleep(1)\n",
    "driver.get('https://www.investing.com/commodities/real-time-futures')"
   ]
  },
  {
   "cell_type": "code",
   "execution_count": 95,
   "metadata": {},
   "outputs": [],
   "source": [
    "elements = driver.find_elements_by_css_selector(\"td[class*='pid']\")"
   ]
  },
  {
   "cell_type": "code",
   "execution_count": 96,
   "metadata": {},
   "outputs": [],
   "source": [
    "elements2 = driver.find_elements_by_css_selector(\"td[class*='pid']\")"
   ]
  },
  {
   "cell_type": "code",
   "execution_count": 92,
   "metadata": {
    "collapsed": true
   },
   "outputs": [
    {
     "ename": "InvalidSessionIdException",
     "evalue": "Message: invalid session id\n",
     "output_type": "error",
     "traceback": [
      "\u001b[1;31m---------------------------------------------------------------------------\u001b[0m",
      "\u001b[1;31mInvalidSessionIdException\u001b[0m                 Traceback (most recent call last)",
      "\u001b[1;32m<ipython-input-92-526092c81e1d>\u001b[0m in \u001b[0;36m<module>\u001b[1;34m\u001b[0m\n\u001b[1;32m----> 1\u001b[1;33m \u001b[0melements\u001b[0m\u001b[1;33m[\u001b[0m\u001b[1;36m0\u001b[0m\u001b[1;33m]\u001b[0m\u001b[1;33m.\u001b[0m\u001b[0mtext\u001b[0m\u001b[1;33m\u001b[0m\u001b[1;33m\u001b[0m\u001b[0m\n\u001b[0m",
      "\u001b[1;32m~\\anaconda3\\lib\\site-packages\\selenium\\webdriver\\remote\\webelement.py\u001b[0m in \u001b[0;36mtext\u001b[1;34m(self)\u001b[0m\n\u001b[0;32m     74\u001b[0m     \u001b[1;32mdef\u001b[0m \u001b[0mtext\u001b[0m\u001b[1;33m(\u001b[0m\u001b[0mself\u001b[0m\u001b[1;33m)\u001b[0m\u001b[1;33m:\u001b[0m\u001b[1;33m\u001b[0m\u001b[1;33m\u001b[0m\u001b[0m\n\u001b[0;32m     75\u001b[0m         \u001b[1;34m\"\"\"The text of the element.\"\"\"\u001b[0m\u001b[1;33m\u001b[0m\u001b[1;33m\u001b[0m\u001b[0m\n\u001b[1;32m---> 76\u001b[1;33m         \u001b[1;32mreturn\u001b[0m \u001b[0mself\u001b[0m\u001b[1;33m.\u001b[0m\u001b[0m_execute\u001b[0m\u001b[1;33m(\u001b[0m\u001b[0mCommand\u001b[0m\u001b[1;33m.\u001b[0m\u001b[0mGET_ELEMENT_TEXT\u001b[0m\u001b[1;33m)\u001b[0m\u001b[1;33m[\u001b[0m\u001b[1;34m'value'\u001b[0m\u001b[1;33m]\u001b[0m\u001b[1;33m\u001b[0m\u001b[1;33m\u001b[0m\u001b[0m\n\u001b[0m\u001b[0;32m     77\u001b[0m \u001b[1;33m\u001b[0m\u001b[0m\n\u001b[0;32m     78\u001b[0m     \u001b[1;32mdef\u001b[0m \u001b[0mclick\u001b[0m\u001b[1;33m(\u001b[0m\u001b[0mself\u001b[0m\u001b[1;33m)\u001b[0m\u001b[1;33m:\u001b[0m\u001b[1;33m\u001b[0m\u001b[1;33m\u001b[0m\u001b[0m\n",
      "\u001b[1;32m~\\anaconda3\\lib\\site-packages\\selenium\\webdriver\\remote\\webelement.py\u001b[0m in \u001b[0;36m_execute\u001b[1;34m(self, command, params)\u001b[0m\n\u001b[0;32m    631\u001b[0m             \u001b[0mparams\u001b[0m \u001b[1;33m=\u001b[0m \u001b[1;33m{\u001b[0m\u001b[1;33m}\u001b[0m\u001b[1;33m\u001b[0m\u001b[1;33m\u001b[0m\u001b[0m\n\u001b[0;32m    632\u001b[0m         \u001b[0mparams\u001b[0m\u001b[1;33m[\u001b[0m\u001b[1;34m'id'\u001b[0m\u001b[1;33m]\u001b[0m \u001b[1;33m=\u001b[0m \u001b[0mself\u001b[0m\u001b[1;33m.\u001b[0m\u001b[0m_id\u001b[0m\u001b[1;33m\u001b[0m\u001b[1;33m\u001b[0m\u001b[0m\n\u001b[1;32m--> 633\u001b[1;33m         \u001b[1;32mreturn\u001b[0m \u001b[0mself\u001b[0m\u001b[1;33m.\u001b[0m\u001b[0m_parent\u001b[0m\u001b[1;33m.\u001b[0m\u001b[0mexecute\u001b[0m\u001b[1;33m(\u001b[0m\u001b[0mcommand\u001b[0m\u001b[1;33m,\u001b[0m \u001b[0mparams\u001b[0m\u001b[1;33m)\u001b[0m\u001b[1;33m\u001b[0m\u001b[1;33m\u001b[0m\u001b[0m\n\u001b[0m\u001b[0;32m    634\u001b[0m \u001b[1;33m\u001b[0m\u001b[0m\n\u001b[0;32m    635\u001b[0m     \u001b[1;32mdef\u001b[0m \u001b[0mfind_element\u001b[0m\u001b[1;33m(\u001b[0m\u001b[0mself\u001b[0m\u001b[1;33m,\u001b[0m \u001b[0mby\u001b[0m\u001b[1;33m=\u001b[0m\u001b[0mBy\u001b[0m\u001b[1;33m.\u001b[0m\u001b[0mID\u001b[0m\u001b[1;33m,\u001b[0m \u001b[0mvalue\u001b[0m\u001b[1;33m=\u001b[0m\u001b[1;32mNone\u001b[0m\u001b[1;33m)\u001b[0m\u001b[1;33m:\u001b[0m\u001b[1;33m\u001b[0m\u001b[1;33m\u001b[0m\u001b[0m\n",
      "\u001b[1;32m~\\anaconda3\\lib\\site-packages\\selenium\\webdriver\\remote\\webdriver.py\u001b[0m in \u001b[0;36mexecute\u001b[1;34m(self, driver_command, params)\u001b[0m\n\u001b[0;32m    319\u001b[0m         \u001b[0mresponse\u001b[0m \u001b[1;33m=\u001b[0m \u001b[0mself\u001b[0m\u001b[1;33m.\u001b[0m\u001b[0mcommand_executor\u001b[0m\u001b[1;33m.\u001b[0m\u001b[0mexecute\u001b[0m\u001b[1;33m(\u001b[0m\u001b[0mdriver_command\u001b[0m\u001b[1;33m,\u001b[0m \u001b[0mparams\u001b[0m\u001b[1;33m)\u001b[0m\u001b[1;33m\u001b[0m\u001b[1;33m\u001b[0m\u001b[0m\n\u001b[0;32m    320\u001b[0m         \u001b[1;32mif\u001b[0m \u001b[0mresponse\u001b[0m\u001b[1;33m:\u001b[0m\u001b[1;33m\u001b[0m\u001b[1;33m\u001b[0m\u001b[0m\n\u001b[1;32m--> 321\u001b[1;33m             \u001b[0mself\u001b[0m\u001b[1;33m.\u001b[0m\u001b[0merror_handler\u001b[0m\u001b[1;33m.\u001b[0m\u001b[0mcheck_response\u001b[0m\u001b[1;33m(\u001b[0m\u001b[0mresponse\u001b[0m\u001b[1;33m)\u001b[0m\u001b[1;33m\u001b[0m\u001b[1;33m\u001b[0m\u001b[0m\n\u001b[0m\u001b[0;32m    322\u001b[0m             response['value'] = self._unwrap_value(\n\u001b[0;32m    323\u001b[0m                 response.get('value', None))\n",
      "\u001b[1;32m~\\anaconda3\\lib\\site-packages\\selenium\\webdriver\\remote\\errorhandler.py\u001b[0m in \u001b[0;36mcheck_response\u001b[1;34m(self, response)\u001b[0m\n\u001b[0;32m    240\u001b[0m                 \u001b[0malert_text\u001b[0m \u001b[1;33m=\u001b[0m \u001b[0mvalue\u001b[0m\u001b[1;33m[\u001b[0m\u001b[1;34m'alert'\u001b[0m\u001b[1;33m]\u001b[0m\u001b[1;33m.\u001b[0m\u001b[0mget\u001b[0m\u001b[1;33m(\u001b[0m\u001b[1;34m'text'\u001b[0m\u001b[1;33m)\u001b[0m\u001b[1;33m\u001b[0m\u001b[1;33m\u001b[0m\u001b[0m\n\u001b[0;32m    241\u001b[0m             \u001b[1;32mraise\u001b[0m \u001b[0mexception_class\u001b[0m\u001b[1;33m(\u001b[0m\u001b[0mmessage\u001b[0m\u001b[1;33m,\u001b[0m \u001b[0mscreen\u001b[0m\u001b[1;33m,\u001b[0m \u001b[0mstacktrace\u001b[0m\u001b[1;33m,\u001b[0m \u001b[0malert_text\u001b[0m\u001b[1;33m)\u001b[0m\u001b[1;33m\u001b[0m\u001b[1;33m\u001b[0m\u001b[0m\n\u001b[1;32m--> 242\u001b[1;33m         \u001b[1;32mraise\u001b[0m \u001b[0mexception_class\u001b[0m\u001b[1;33m(\u001b[0m\u001b[0mmessage\u001b[0m\u001b[1;33m,\u001b[0m \u001b[0mscreen\u001b[0m\u001b[1;33m,\u001b[0m \u001b[0mstacktrace\u001b[0m\u001b[1;33m)\u001b[0m\u001b[1;33m\u001b[0m\u001b[1;33m\u001b[0m\u001b[0m\n\u001b[0m\u001b[0;32m    243\u001b[0m \u001b[1;33m\u001b[0m\u001b[0m\n\u001b[0;32m    244\u001b[0m     \u001b[1;32mdef\u001b[0m \u001b[0m_value_or_default\u001b[0m\u001b[1;33m(\u001b[0m\u001b[0mself\u001b[0m\u001b[1;33m,\u001b[0m \u001b[0mobj\u001b[0m\u001b[1;33m,\u001b[0m \u001b[0mkey\u001b[0m\u001b[1;33m,\u001b[0m \u001b[0mdefault\u001b[0m\u001b[1;33m)\u001b[0m\u001b[1;33m:\u001b[0m\u001b[1;33m\u001b[0m\u001b[1;33m\u001b[0m\u001b[0m\n",
      "\u001b[1;31mInvalidSessionIdException\u001b[0m: Message: invalid session id\n"
     ]
    }
   ],
   "source": [
    "elements[0].text"
   ]
  },
  {
   "cell_type": "code",
   "execution_count": 98,
   "metadata": {},
   "outputs": [],
   "source": [
    "numbers = [i.text for i in elements2]\n",
    "numbers = numbers[:216]\n",
    "\n",
    "price_last=[numbers[6*i] for i in range(36)]\n",
    "price_high=[numbers[6*i+1] for i in range(36)]\n",
    "price_low=[numbers[6*i+2] for i in range(36)]\n",
    "price_pc=[numbers[6*i+3] for i in range(36)]\n",
    "price_pcp=[numbers[6*i+4] for i in range(36)]\n",
    "price_time=[numbers[6*i+5] for i in range(36)]\n",
    "\n",
    "df = pd.DataFrame({\n",
    "    'Time':price_time\n",
    "    , 'Commodity': names\n",
    "    , 'Last':price_last\n",
    "    , 'High':price_high\n",
    "    , 'Low':price_low\n",
    "    , 'Change':price_pc\n",
    "    , 'Change(%)':price_pcp\n",
    "})\n",
    "\n",
    "df.to_csv('./data/commodity_real_time_test_3rd.csv'\n",
    "         , sep=','\n",
    "          , encoding='utf-8'\n",
    "         )\n"
   ]
  },
  {
   "cell_type": "markdown",
   "metadata": {
    "colab_type": "text",
    "id": "j3kLXidQSXTH"
   },
   "source": [
    "# 인베스팅 자동로그인해서 historical data 다운받기"
   ]
  },
  {
   "cell_type": "markdown",
   "metadata": {
    "colab_type": "text",
    "id": "NSRPf8ScSXTI"
   },
   "source": [
    "stackoverflow 다른 유저들이 시도하는 코드들"
   ]
  },
  {
   "cell_type": "code",
   "execution_count": null,
   "metadata": {
    "colab": {},
    "colab_type": "code",
    "id": "jT5uvqRaSXTI"
   },
   "outputs": [],
   "source": [
    "from selenium import webdriver\n",
    "profile = webdriver.FirefoxProfile()\n",
    "profile.set_preference(\"browser.download.folderList\", 2)\n",
    "profile.set_preference(\"browser.download.manager.showWhenStarting\", False)\n",
    "profile.set_preference(\"browser.download.dir\", './ogdc.csv')\n",
    "profile.set_preference(\"browser.helperApps.neverAsk.saveToDisk\", \"application/x-gzip\")\n",
    "\n",
    "driver = webdriver.Firefox(firefox_profile=profile)\n",
    "driver.get('https://www.investing.com/equities/oil---gas-dev-historical-data')\n",
    "driver.find_element_by_class_name(\"login bold\")\n",
    "driver.find_element_by_id('Email').send_keys('myemail')\n",
    "driver.find_element_by_id('Password').send_keys('mypass')\n",
    "driver.find_element_by_partial_link_text(\"Download Data\").click()"
   ]
  },
  {
   "cell_type": "code",
   "execution_count": null,
   "metadata": {
    "colab": {},
    "colab_type": "code",
    "id": "b4Em_42rSXTK"
   },
   "outputs": [],
   "source": [
    "driver.get('https://www.investing.com/equities/oil---gas-dev-historical-data')\n",
    "driver.find_element_by_css_selector(\"a[class*='login']\").click()\n",
    "driver.find_element_by_id('loginFormUser_email').send_keys('myemail')\n",
    "driver.find_element_by_id('loginForm_password').send_keys('mypass')\n",
    "driver.find_element_by_xpath(\"//div[@id='loginEmailSigning']//following-sibling::a[@class='newButton orange']\").click()"
   ]
  },
  {
   "cell_type": "markdown",
   "metadata": {
    "colab_type": "text",
    "id": "jm1hBT3pSXTM"
   },
   "source": [
    "### 인베스팅 따로 계정을 만들어서 로그인한다. (구글, 페북 연계 X)"
   ]
  },
  {
   "cell_type": "code",
   "execution_count": null,
   "metadata": {
    "colab": {},
    "colab_type": "code",
    "id": "X3pNWN58SXTN"
   },
   "outputs": [],
   "source": [
    "import numpy as np\n",
    "import pandas as pd"
   ]
  },
  {
   "cell_type": "code",
   "execution_count": null,
   "metadata": {
    "colab": {},
    "colab_type": "code",
    "id": "u6DNTAozSXTP"
   },
   "outputs": [],
   "source": [
    "driver = webdriver.Chrome('./webdriver/chromedriver')\n",
    "time.sleep(1)\n",
    "driver.get('https://www.investing.com/commodities/gold-historical-data')\n"
   ]
  },
  {
   "cell_type": "code",
   "execution_count": null,
   "metadata": {
    "colab": {},
    "colab_type": "code",
    "id": "sdnoaUMeSXTR"
   },
   "outputs": [],
   "source": [
    "driver.get('https://www.investing.com/commodities/gold-historical-data')"
   ]
  },
  {
   "cell_type": "code",
   "execution_count": null,
   "metadata": {
    "colab": {},
    "colab_type": "code",
    "id": "npSSH8p4SXTT"
   },
   "outputs": [],
   "source": [
    "#과거 데이터 다운로드 버튼 클릭하기\n",
    "# 과거데이터 다운로드 클릭 버튼 xpath\n",
    "xpath = '''//*[@id=\"column-content\"]/div[4]/div/a'''\n",
    "\n",
    "# 조회 xpath 단일값 선택\n",
    "element_sel_gu = driver.find_element_by_xpath(xpath).click()"
   ]
  },
  {
   "cell_type": "markdown",
   "metadata": {
    "colab_type": "text",
    "id": "NbykT8wdSXTV"
   },
   "source": [
    "### 1단계 완성코드 :\n",
    "-  특정 1가지 종목 1month historical data 획득 : 간단한 기본 구현"
   ]
  },
  {
   "cell_type": "code",
   "execution_count": null,
   "metadata": {
    "colab": {},
    "colab_type": "code",
    "id": "KjGxQNLcSXTX"
   },
   "outputs": [],
   "source": [
    "# 특정 종목 1month historical data 획득 : 1단계 간단한 구현\n",
    "from selenium import webdriver\n",
    "import time\n",
    "\n",
    "driver = webdriver.Chrome('./webdriver/chromedriver')\n",
    "time.sleep(1)\n",
    "# 인베스팅 선물 '금' 항목 페이지 접속\n",
    "driver.get('https://www.investing.com/commodities/gold-historical-data')\n",
    "# 로그인하기\n",
    "driver.find_element_by_css_selector(\"a[class*='login']\").click()\n",
    "time.sleep(1)\n",
    "driver.find_element_by_id('loginFormUser_email').clear()\n",
    "driver.find_element_by_id('loginFormUser_email').send_keys('idmailaddress')\n",
    "time.sleep(0.5)\n",
    "driver.find_element_by_id('loginForm_password').clear()\n",
    "driver.find_element_by_id('loginForm_password').send_keys('password')\n",
    "time.sleep(0.8)\n",
    "driver.find_element_by_xpath(\"//div[@id='loginEmailSigning']//following-sibling::a[@class='newButton orange']\").click()\n",
    "#driver.find_element_by_xpath('''//*[@id=\"signup\"]/a''').click()  # 얘로 하면 안될때도 있다.\n",
    "time.sleep(1.2)\n",
    "#과거 데이터 다운로드 버튼 클릭하기\n",
    "driver.find_element_by_xpath('''//*[@id=\"column-content\"]/div[4]/div/a''').click()\n",
    "time.sleep(1.1)\n",
    "\n",
    "driver.close()"
   ]
  },
  {
   "cell_type": "markdown",
   "metadata": {
    "colab_type": "text",
    "id": "xKXKcKdsSXTY"
   },
   "source": [
    "## 반복문으로 모든 commodities 파일 다운받기\n",
    "- url 반복문 코드 작성하기"
   ]
  },
  {
   "cell_type": "markdown",
   "metadata": {
    "colab_type": "text",
    "id": "WMoCQroiSXTZ"
   },
   "source": [
    "### 1차 완성코드\n",
    "- 브라우저로 과정이 보이니 편하다.\n",
    "- 생각보다 충돌이 없이 다운로드 된다.(장중에 오류없는지 다시 코드 실행해볼것)\n",
    "- 선물 뿐만아니라 주소값 조정해서 다른 항목도 가져올 수 있다.\n",
    "- 예외상황이 있을수 있으니 try except 추가할것."
   ]
  },
  {
   "cell_type": "markdown",
   "metadata": {},
   "source": [
    "#### 아래 마이너한 수정하기\n",
    "- 자동로그인 메서드로 만들기"
   ]
  },
  {
   "cell_type": "code",
   "execution_count": 3,
   "metadata": {},
   "outputs": [],
   "source": [
    "import numpy as np\n",
    "import pandas as pd\n",
    "\n",
    "from selenium import webdriver\n",
    "import time\n",
    "\n",
    "# 반복문으로 14개의 선물 과거데이터 다운로드 받기\n",
    "\n",
    "driver = webdriver.Chrome('./webdriver/chromedriver')\n",
    "time.sleep(1)\n",
    "# 인베스팅 선물 항목 페이지 접속\n",
    "driver.get('https://www.investing.com/commodities/')\n",
    "\n",
    "# 로그인하기\n",
    "driver.find_element_by_css_selector(\"a[class*='login']\").click()\n",
    "time.sleep(1)\n",
    "driver.find_element_by_id('loginFormUser_email').clear()\n",
    "driver.find_element_by_id('loginFormUser_email').send_keys('gkdkssk21@naver.com')\n",
    "time.sleep(0.5)\n",
    "driver.find_element_by_id('loginForm_password').clear()\n",
    "driver.find_element_by_id('loginForm_password').send_keys('wndml12')\n",
    "time.sleep(0.8)\n",
    "driver.find_element_by_xpath(\"//div[@id='loginEmailSigning']//following-sibling::a[@class='newButton orange']\").click()\n",
    "time.sleep(1)\n",
    "\n",
    "# 반복문으로 활용하기 위한 url 리스트를 얻기 위해 href attribute를 get해서, url 을 얻기\n",
    "tds = driver.find_elements_by_css_selector(\"td\")\n",
    "    \n",
    "a =[]\n",
    "for td in tds:\n",
    "    try:\n",
    "        a.append(td.find_element_by_css_selector(\"a\"))\n",
    "    except:\n",
    "        pass\n",
    "\n",
    "# href 값을 얻어 url 리스트를 획득한다.\n",
    "urls = [item.get_attribute('href') for item in a]\n",
    "urls = list(set(urls))\n",
    "\n",
    "# commodities 의 주소 리스트를 얻기.\n",
    "commodities_url = []\n",
    "for url in urls:\n",
    "    if 'commodities' in url:\n",
    "        commodities_url.append(url)\n",
    "\n",
    "# 반복문으로 14개의 선물 과거데이터 다운로드 받기\n",
    "for url in commodities_url:\n",
    "    tmp_url = url + '-historical-data'\n",
    "    driver.get(tmp_url)\n",
    "    time.sleep(1.1)\n",
    "    #과거 데이터 다운로드 버튼 클릭하기\n",
    "    driver.find_element_by_xpath('''//*[@id=\"column-content\"]/div[4]/div/a''').click()\n",
    "    time.sleep(0.6)\n",
    "\n",
    "driver.close()\n",
    "    "
   ]
  },
  {
   "cell_type": "markdown",
   "metadata": {
    "colab_type": "text",
    "id": "Nh_X7uK6SXTb"
   },
   "source": [
    "### 추후 과제 \n",
    "- 다운로드 받을 날짜 지정하는 코드 작성\n",
    "- 기존 파일 혹은 데이터프레임에 데이터 업데이트하는 코드 작성"
   ]
  },
  {
   "cell_type": "markdown",
   "metadata": {
    "colab_type": "text",
    "id": "2R1FMZ6rSXTb"
   },
   "source": [
    "아래부터는 완성 코드 작성 과정"
   ]
  },
  {
   "cell_type": "code",
   "execution_count": 5,
   "metadata": {},
   "outputs": [],
   "source": [
    "from selenium import webdriver\n",
    "import time"
   ]
  },
  {
   "cell_type": "code",
   "execution_count": null,
   "metadata": {
    "colab": {},
    "colab_type": "code",
    "id": "SpHFJ25bSXTc",
    "outputId": "12089c71-6f00-41e4-80d3-19824938de7b"
   },
   "outputs": [
    {
     "data": {
      "text/plain": [
       "'https://www.investing.com/commodities/gold-historical-data'"
      ]
     },
     "execution_count": 86,
     "metadata": {
      "tags": []
     },
     "output_type": "execute_result"
    }
   ],
   "source": [
    "tmp_url"
   ]
  },
  {
   "cell_type": "code",
   "execution_count": 7,
   "metadata": {
    "colab": {},
    "colab_type": "code",
    "id": "C0CrkJOuSXTe"
   },
   "outputs": [],
   "source": [
    "driver = webdriver.Chrome('./webdriver/chromedriver')\n",
    "time.sleep(1)\n",
    "\n",
    "driver.get('https://www.investing.com/commodities/')"
   ]
  },
  {
   "cell_type": "code",
   "execution_count": 8,
   "metadata": {},
   "outputs": [],
   "source": [
    "tds = driver.find_elements_by_css_selector(\"td\")"
   ]
  },
  {
   "cell_type": "code",
   "execution_count": 9,
   "metadata": {
    "collapsed": true
   },
   "outputs": [
    {
     "data": {
      "text/plain": [
       "[<selenium.webdriver.remote.webelement.WebElement (session=\"9e3da16ae5303abbb1c2862e90c9a9ab\", element=\"5a356236-19ac-4d8b-9b95-81862ac5f560\")>,\n",
       " <selenium.webdriver.remote.webelement.WebElement (session=\"9e3da16ae5303abbb1c2862e90c9a9ab\", element=\"1e74b1e2-58c7-47ec-995a-7dfba0c0f6d7\")>,\n",
       " <selenium.webdriver.remote.webelement.WebElement (session=\"9e3da16ae5303abbb1c2862e90c9a9ab\", element=\"527b21e9-4415-4f0f-9528-3687022fb29d\")>,\n",
       " <selenium.webdriver.remote.webelement.WebElement (session=\"9e3da16ae5303abbb1c2862e90c9a9ab\", element=\"3e4db288-63a1-4a5a-9a9f-f2da56cbebad\")>,\n",
       " <selenium.webdriver.remote.webelement.WebElement (session=\"9e3da16ae5303abbb1c2862e90c9a9ab\", element=\"f4388df2-c81a-44ee-a5ed-3546502efe6f\")>,\n",
       " <selenium.webdriver.remote.webelement.WebElement (session=\"9e3da16ae5303abbb1c2862e90c9a9ab\", element=\"207bb965-eb1b-4404-b77e-f126e980842e\")>,\n",
       " <selenium.webdriver.remote.webelement.WebElement (session=\"9e3da16ae5303abbb1c2862e90c9a9ab\", element=\"98691e18-601c-4d22-b288-a8d17e8f7305\")>,\n",
       " <selenium.webdriver.remote.webelement.WebElement (session=\"9e3da16ae5303abbb1c2862e90c9a9ab\", element=\"23eb2407-1181-4fe5-9b35-7739ffc5c3e7\")>,\n",
       " <selenium.webdriver.remote.webelement.WebElement (session=\"9e3da16ae5303abbb1c2862e90c9a9ab\", element=\"8420e84c-efbb-4f3a-ba98-a63aa75e876b\")>,\n",
       " <selenium.webdriver.remote.webelement.WebElement (session=\"9e3da16ae5303abbb1c2862e90c9a9ab\", element=\"67309c0e-a429-44c5-957c-118087ee1675\")>,\n",
       " <selenium.webdriver.remote.webelement.WebElement (session=\"9e3da16ae5303abbb1c2862e90c9a9ab\", element=\"f0b9921d-55a8-4f92-ba11-2d755f9a61a1\")>,\n",
       " <selenium.webdriver.remote.webelement.WebElement (session=\"9e3da16ae5303abbb1c2862e90c9a9ab\", element=\"7b7531a9-a318-430c-8d4b-c2769e396341\")>,\n",
       " <selenium.webdriver.remote.webelement.WebElement (session=\"9e3da16ae5303abbb1c2862e90c9a9ab\", element=\"208fb023-a0d8-4b67-920c-0679dd7bcafa\")>,\n",
       " <selenium.webdriver.remote.webelement.WebElement (session=\"9e3da16ae5303abbb1c2862e90c9a9ab\", element=\"6146ed69-6f93-4ea6-99cb-c9cdcd2f311b\")>,\n",
       " <selenium.webdriver.remote.webelement.WebElement (session=\"9e3da16ae5303abbb1c2862e90c9a9ab\", element=\"e1dca7da-46f1-49d8-8ba3-1b42f7e5da0b\")>,\n",
       " <selenium.webdriver.remote.webelement.WebElement (session=\"9e3da16ae5303abbb1c2862e90c9a9ab\", element=\"abcd0eff-fd2b-4163-a23d-5671c6d1a856\")>,\n",
       " <selenium.webdriver.remote.webelement.WebElement (session=\"9e3da16ae5303abbb1c2862e90c9a9ab\", element=\"9fd2fdc8-37b1-4c09-b0e9-8bf40dcb51aa\")>,\n",
       " <selenium.webdriver.remote.webelement.WebElement (session=\"9e3da16ae5303abbb1c2862e90c9a9ab\", element=\"2284f7bc-86a6-42db-b652-22a177083237\")>,\n",
       " <selenium.webdriver.remote.webelement.WebElement (session=\"9e3da16ae5303abbb1c2862e90c9a9ab\", element=\"ec1a7250-75a6-4276-be78-c4ae813b9e7b\")>,\n",
       " <selenium.webdriver.remote.webelement.WebElement (session=\"9e3da16ae5303abbb1c2862e90c9a9ab\", element=\"546247b3-39b1-49c7-a045-b056203ae6f6\")>,\n",
       " <selenium.webdriver.remote.webelement.WebElement (session=\"9e3da16ae5303abbb1c2862e90c9a9ab\", element=\"15d7a429-c6a3-4af7-b7c3-37ab8fbb2908\")>,\n",
       " <selenium.webdriver.remote.webelement.WebElement (session=\"9e3da16ae5303abbb1c2862e90c9a9ab\", element=\"0a4364d1-3729-4d81-8a90-87173fdd056c\")>,\n",
       " <selenium.webdriver.remote.webelement.WebElement (session=\"9e3da16ae5303abbb1c2862e90c9a9ab\", element=\"89631fb8-67ad-472c-8675-098b8fb5b553\")>,\n",
       " <selenium.webdriver.remote.webelement.WebElement (session=\"9e3da16ae5303abbb1c2862e90c9a9ab\", element=\"6f3ddba9-24a2-46f6-8d78-3ec1d76bb791\")>,\n",
       " <selenium.webdriver.remote.webelement.WebElement (session=\"9e3da16ae5303abbb1c2862e90c9a9ab\", element=\"911d6a64-97bb-4ad1-9c4b-522f7af47f63\")>,\n",
       " <selenium.webdriver.remote.webelement.WebElement (session=\"9e3da16ae5303abbb1c2862e90c9a9ab\", element=\"ef6ef4aa-0042-4c1e-931b-81a95e3f5fc8\")>,\n",
       " <selenium.webdriver.remote.webelement.WebElement (session=\"9e3da16ae5303abbb1c2862e90c9a9ab\", element=\"02acd207-53fe-4523-ae6b-dfea0789787d\")>,\n",
       " <selenium.webdriver.remote.webelement.WebElement (session=\"9e3da16ae5303abbb1c2862e90c9a9ab\", element=\"f9553f84-03ca-48cc-ba25-887dae56ab0b\")>,\n",
       " <selenium.webdriver.remote.webelement.WebElement (session=\"9e3da16ae5303abbb1c2862e90c9a9ab\", element=\"629f7945-4b10-4286-aa39-b29c46756d24\")>,\n",
       " <selenium.webdriver.remote.webelement.WebElement (session=\"9e3da16ae5303abbb1c2862e90c9a9ab\", element=\"13d040af-2204-4834-9d1a-39b79e6be87f\")>,\n",
       " <selenium.webdriver.remote.webelement.WebElement (session=\"9e3da16ae5303abbb1c2862e90c9a9ab\", element=\"26f9dc75-e9c6-4aca-99b2-b9e49d752d61\")>,\n",
       " <selenium.webdriver.remote.webelement.WebElement (session=\"9e3da16ae5303abbb1c2862e90c9a9ab\", element=\"ce674207-fd38-4828-9918-11d870e949f0\")>,\n",
       " <selenium.webdriver.remote.webelement.WebElement (session=\"9e3da16ae5303abbb1c2862e90c9a9ab\", element=\"94df4fb5-873b-4f4d-88ff-7fde0be0ea53\")>,\n",
       " <selenium.webdriver.remote.webelement.WebElement (session=\"9e3da16ae5303abbb1c2862e90c9a9ab\", element=\"b7467313-e916-459d-b440-6293bd16ec2e\")>,\n",
       " <selenium.webdriver.remote.webelement.WebElement (session=\"9e3da16ae5303abbb1c2862e90c9a9ab\", element=\"096d38b4-e559-4101-bebe-f7c74ec5aeb3\")>,\n",
       " <selenium.webdriver.remote.webelement.WebElement (session=\"9e3da16ae5303abbb1c2862e90c9a9ab\", element=\"b857759d-d7c1-43a2-856c-ac5abfe0042e\")>,\n",
       " <selenium.webdriver.remote.webelement.WebElement (session=\"9e3da16ae5303abbb1c2862e90c9a9ab\", element=\"55039b63-5046-4bb1-911e-3b1c3632f7c8\")>,\n",
       " <selenium.webdriver.remote.webelement.WebElement (session=\"9e3da16ae5303abbb1c2862e90c9a9ab\", element=\"709071da-3912-4ff5-b2ec-8255aec8640b\")>,\n",
       " <selenium.webdriver.remote.webelement.WebElement (session=\"9e3da16ae5303abbb1c2862e90c9a9ab\", element=\"5cc0d8a0-74bc-4c96-a31c-c5a1d0cd33f3\")>,\n",
       " <selenium.webdriver.remote.webelement.WebElement (session=\"9e3da16ae5303abbb1c2862e90c9a9ab\", element=\"bdb3fc08-3f28-4a48-9497-aee85a7bb559\")>,\n",
       " <selenium.webdriver.remote.webelement.WebElement (session=\"9e3da16ae5303abbb1c2862e90c9a9ab\", element=\"347eb9c6-88f4-4aa0-a3dd-cda260c363d4\")>,\n",
       " <selenium.webdriver.remote.webelement.WebElement (session=\"9e3da16ae5303abbb1c2862e90c9a9ab\", element=\"62f1245d-0dfb-4f88-bb85-fb5280b8488b\")>,\n",
       " <selenium.webdriver.remote.webelement.WebElement (session=\"9e3da16ae5303abbb1c2862e90c9a9ab\", element=\"50186d8f-94d4-4066-9c45-dce504001209\")>,\n",
       " <selenium.webdriver.remote.webelement.WebElement (session=\"9e3da16ae5303abbb1c2862e90c9a9ab\", element=\"f59c95d0-4c42-4a06-ac73-6e42f1873f92\")>,\n",
       " <selenium.webdriver.remote.webelement.WebElement (session=\"9e3da16ae5303abbb1c2862e90c9a9ab\", element=\"04e3bb0f-d003-4144-82bd-eabefefb19f5\")>,\n",
       " <selenium.webdriver.remote.webelement.WebElement (session=\"9e3da16ae5303abbb1c2862e90c9a9ab\", element=\"45beeeaf-004f-4339-821c-541c0ef96010\")>,\n",
       " <selenium.webdriver.remote.webelement.WebElement (session=\"9e3da16ae5303abbb1c2862e90c9a9ab\", element=\"6f64d5e2-6b83-4ff1-9467-22f42af751b1\")>,\n",
       " <selenium.webdriver.remote.webelement.WebElement (session=\"9e3da16ae5303abbb1c2862e90c9a9ab\", element=\"51f7a3f5-7ce9-4afd-a406-e746c4456703\")>,\n",
       " <selenium.webdriver.remote.webelement.WebElement (session=\"9e3da16ae5303abbb1c2862e90c9a9ab\", element=\"31ce643f-18d0-4f9e-9d6c-3265d8023de8\")>,\n",
       " <selenium.webdriver.remote.webelement.WebElement (session=\"9e3da16ae5303abbb1c2862e90c9a9ab\", element=\"43261211-a39d-4592-8ee8-49f8f146850d\")>,\n",
       " <selenium.webdriver.remote.webelement.WebElement (session=\"9e3da16ae5303abbb1c2862e90c9a9ab\", element=\"e588549d-621d-4480-bace-2ca219942416\")>,\n",
       " <selenium.webdriver.remote.webelement.WebElement (session=\"9e3da16ae5303abbb1c2862e90c9a9ab\", element=\"d828b165-b1f4-467c-aaeb-7acdfe724fc0\")>,\n",
       " <selenium.webdriver.remote.webelement.WebElement (session=\"9e3da16ae5303abbb1c2862e90c9a9ab\", element=\"64927709-6ac0-4c9e-930a-832160ea5ac7\")>,\n",
       " <selenium.webdriver.remote.webelement.WebElement (session=\"9e3da16ae5303abbb1c2862e90c9a9ab\", element=\"c17c9985-4388-4a81-b025-21c368c294b2\")>,\n",
       " <selenium.webdriver.remote.webelement.WebElement (session=\"9e3da16ae5303abbb1c2862e90c9a9ab\", element=\"47caa4ec-0caf-4fd8-9318-95403b2c607e\")>,\n",
       " <selenium.webdriver.remote.webelement.WebElement (session=\"9e3da16ae5303abbb1c2862e90c9a9ab\", element=\"ae09fb7b-3382-49c7-886f-7c7b7cc0e62f\")>,\n",
       " <selenium.webdriver.remote.webelement.WebElement (session=\"9e3da16ae5303abbb1c2862e90c9a9ab\", element=\"0edc8e18-0150-48f5-9ad5-2c4133ba3553\")>,\n",
       " <selenium.webdriver.remote.webelement.WebElement (session=\"9e3da16ae5303abbb1c2862e90c9a9ab\", element=\"eb70eb84-cc79-4c8e-9eec-e5fa59ef4fd6\")>,\n",
       " <selenium.webdriver.remote.webelement.WebElement (session=\"9e3da16ae5303abbb1c2862e90c9a9ab\", element=\"5a26d85a-dbcb-4459-89c5-8d401f7b7c7f\")>,\n",
       " <selenium.webdriver.remote.webelement.WebElement (session=\"9e3da16ae5303abbb1c2862e90c9a9ab\", element=\"078e7c1d-4b35-4f67-8b60-3425fa39d148\")>,\n",
       " <selenium.webdriver.remote.webelement.WebElement (session=\"9e3da16ae5303abbb1c2862e90c9a9ab\", element=\"67d68cb8-f75c-4a71-b63b-058edc6992be\")>,\n",
       " <selenium.webdriver.remote.webelement.WebElement (session=\"9e3da16ae5303abbb1c2862e90c9a9ab\", element=\"5aa7f9d9-e9b0-4b33-970a-38054097fa43\")>,\n",
       " <selenium.webdriver.remote.webelement.WebElement (session=\"9e3da16ae5303abbb1c2862e90c9a9ab\", element=\"242c00aa-19fc-4ed3-96fd-83f3d959e38d\")>,\n",
       " <selenium.webdriver.remote.webelement.WebElement (session=\"9e3da16ae5303abbb1c2862e90c9a9ab\", element=\"e9700d2c-cd83-454d-8432-2d9d341dc181\")>,\n",
       " <selenium.webdriver.remote.webelement.WebElement (session=\"9e3da16ae5303abbb1c2862e90c9a9ab\", element=\"00abab3a-7315-4b5e-8ebb-c883f5fbc103\")>,\n",
       " <selenium.webdriver.remote.webelement.WebElement (session=\"9e3da16ae5303abbb1c2862e90c9a9ab\", element=\"7ef2029a-6ec5-47a9-bfe6-cda1e3013ead\")>,\n",
       " <selenium.webdriver.remote.webelement.WebElement (session=\"9e3da16ae5303abbb1c2862e90c9a9ab\", element=\"ac760734-eae4-4541-8adf-c63d522a22f2\")>,\n",
       " <selenium.webdriver.remote.webelement.WebElement (session=\"9e3da16ae5303abbb1c2862e90c9a9ab\", element=\"ec89768b-3de3-42aa-8017-56a1e0962b1f\")>,\n",
       " <selenium.webdriver.remote.webelement.WebElement (session=\"9e3da16ae5303abbb1c2862e90c9a9ab\", element=\"bc36824c-0416-4a96-9da3-99454dd19afb\")>,\n",
       " <selenium.webdriver.remote.webelement.WebElement (session=\"9e3da16ae5303abbb1c2862e90c9a9ab\", element=\"bda4fc31-6d01-4e69-9db8-1f66c93dd826\")>,\n",
       " <selenium.webdriver.remote.webelement.WebElement (session=\"9e3da16ae5303abbb1c2862e90c9a9ab\", element=\"019e14fb-0381-4775-b105-05fc7a443c33\")>,\n",
       " <selenium.webdriver.remote.webelement.WebElement (session=\"9e3da16ae5303abbb1c2862e90c9a9ab\", element=\"356b89c5-986d-4006-a45b-68fc41d617b7\")>,\n",
       " <selenium.webdriver.remote.webelement.WebElement (session=\"9e3da16ae5303abbb1c2862e90c9a9ab\", element=\"64886ca0-958d-492b-a987-d7ca204a47a6\")>,\n",
       " <selenium.webdriver.remote.webelement.WebElement (session=\"9e3da16ae5303abbb1c2862e90c9a9ab\", element=\"8fc5e9a6-f1d3-4673-8aff-c3564e0ef2be\")>,\n",
       " <selenium.webdriver.remote.webelement.WebElement (session=\"9e3da16ae5303abbb1c2862e90c9a9ab\", element=\"6bf323b3-4917-4a31-9505-f5908a9d3439\")>,\n",
       " <selenium.webdriver.remote.webelement.WebElement (session=\"9e3da16ae5303abbb1c2862e90c9a9ab\", element=\"7a072d33-da48-406e-b123-852ea6a503ff\")>,\n",
       " <selenium.webdriver.remote.webelement.WebElement (session=\"9e3da16ae5303abbb1c2862e90c9a9ab\", element=\"ac4d2d49-b565-41f5-8ce6-dd5ca0788c05\")>,\n",
       " <selenium.webdriver.remote.webelement.WebElement (session=\"9e3da16ae5303abbb1c2862e90c9a9ab\", element=\"4639f68c-0dd8-4aae-8016-5df02c0daa56\")>,\n",
       " <selenium.webdriver.remote.webelement.WebElement (session=\"9e3da16ae5303abbb1c2862e90c9a9ab\", element=\"d237df4f-ad48-4035-b39c-a516c28ead34\")>,\n",
       " <selenium.webdriver.remote.webelement.WebElement (session=\"9e3da16ae5303abbb1c2862e90c9a9ab\", element=\"1b9f3b2b-2c21-4c18-9f3f-0b5614a1b8e9\")>,\n",
       " <selenium.webdriver.remote.webelement.WebElement (session=\"9e3da16ae5303abbb1c2862e90c9a9ab\", element=\"d1123597-592e-4b2f-b5b3-189a44a9362d\")>,\n",
       " <selenium.webdriver.remote.webelement.WebElement (session=\"9e3da16ae5303abbb1c2862e90c9a9ab\", element=\"af5f0464-9988-4b3d-9ca8-5e43926685e1\")>,\n",
       " <selenium.webdriver.remote.webelement.WebElement (session=\"9e3da16ae5303abbb1c2862e90c9a9ab\", element=\"4472d972-4d37-419d-9887-143e7bcd5658\")>,\n",
       " <selenium.webdriver.remote.webelement.WebElement (session=\"9e3da16ae5303abbb1c2862e90c9a9ab\", element=\"27a89e72-6f71-455d-ae17-1b1d0f8c860d\")>,\n",
       " <selenium.webdriver.remote.webelement.WebElement (session=\"9e3da16ae5303abbb1c2862e90c9a9ab\", element=\"23fafa9a-908c-4e9a-ba11-2975de26569a\")>,\n",
       " <selenium.webdriver.remote.webelement.WebElement (session=\"9e3da16ae5303abbb1c2862e90c9a9ab\", element=\"f9ce6fe3-50eb-453b-9314-3898a581d68c\")>,\n",
       " <selenium.webdriver.remote.webelement.WebElement (session=\"9e3da16ae5303abbb1c2862e90c9a9ab\", element=\"c94821b5-9780-4dda-8f19-0f29b3b511da\")>,\n",
       " <selenium.webdriver.remote.webelement.WebElement (session=\"9e3da16ae5303abbb1c2862e90c9a9ab\", element=\"1c0b1f3d-c90a-423c-b6f7-53e80395ba3c\")>,\n",
       " <selenium.webdriver.remote.webelement.WebElement (session=\"9e3da16ae5303abbb1c2862e90c9a9ab\", element=\"5f4e626f-d896-4ed5-b644-47a53daca733\")>,\n",
       " <selenium.webdriver.remote.webelement.WebElement (session=\"9e3da16ae5303abbb1c2862e90c9a9ab\", element=\"43eaec45-94e3-4954-b874-720df6556a60\")>,\n",
       " <selenium.webdriver.remote.webelement.WebElement (session=\"9e3da16ae5303abbb1c2862e90c9a9ab\", element=\"91b4a9ba-ffbb-42d9-a3d8-35dbbf447b10\")>,\n",
       " <selenium.webdriver.remote.webelement.WebElement (session=\"9e3da16ae5303abbb1c2862e90c9a9ab\", element=\"1b05fc10-f776-4a29-be3e-e6b7334210e9\")>,\n",
       " <selenium.webdriver.remote.webelement.WebElement (session=\"9e3da16ae5303abbb1c2862e90c9a9ab\", element=\"539f82ef-8981-4389-861e-516914084845\")>,\n",
       " <selenium.webdriver.remote.webelement.WebElement (session=\"9e3da16ae5303abbb1c2862e90c9a9ab\", element=\"9ed458df-57de-46c3-a8f9-ff2907c0d3ae\")>,\n",
       " <selenium.webdriver.remote.webelement.WebElement (session=\"9e3da16ae5303abbb1c2862e90c9a9ab\", element=\"8199c966-eea0-4c92-ab97-930dd2849c74\")>,\n",
       " <selenium.webdriver.remote.webelement.WebElement (session=\"9e3da16ae5303abbb1c2862e90c9a9ab\", element=\"b7d75c80-aaf8-479d-bec9-e4920b0334ab\")>,\n",
       " <selenium.webdriver.remote.webelement.WebElement (session=\"9e3da16ae5303abbb1c2862e90c9a9ab\", element=\"70fa0971-70ba-4b8c-a9d3-2e4b8aaf1d8e\")>,\n",
       " <selenium.webdriver.remote.webelement.WebElement (session=\"9e3da16ae5303abbb1c2862e90c9a9ab\", element=\"3750ed0c-d220-47c9-a305-fc46c94d5330\")>,\n",
       " <selenium.webdriver.remote.webelement.WebElement (session=\"9e3da16ae5303abbb1c2862e90c9a9ab\", element=\"dbc08de4-6bfa-4af6-8a8c-1809554021b8\")>,\n",
       " <selenium.webdriver.remote.webelement.WebElement (session=\"9e3da16ae5303abbb1c2862e90c9a9ab\", element=\"abc61495-d37e-445b-8be4-619c444d091f\")>,\n",
       " <selenium.webdriver.remote.webelement.WebElement (session=\"9e3da16ae5303abbb1c2862e90c9a9ab\", element=\"80fe4185-db03-4269-9471-0d00a623c9c0\")>,\n",
       " <selenium.webdriver.remote.webelement.WebElement (session=\"9e3da16ae5303abbb1c2862e90c9a9ab\", element=\"0b04c298-c4b7-4a56-94a6-46c26322f9dd\")>,\n",
       " <selenium.webdriver.remote.webelement.WebElement (session=\"9e3da16ae5303abbb1c2862e90c9a9ab\", element=\"d0e7262b-3da6-43a8-a4fe-ab320259f81d\")>,\n",
       " <selenium.webdriver.remote.webelement.WebElement (session=\"9e3da16ae5303abbb1c2862e90c9a9ab\", element=\"a3fbf5bc-290d-4914-9f00-677918359695\")>,\n",
       " <selenium.webdriver.remote.webelement.WebElement (session=\"9e3da16ae5303abbb1c2862e90c9a9ab\", element=\"afb73a3e-4e78-4e80-868a-91c6701dc84a\")>,\n",
       " <selenium.webdriver.remote.webelement.WebElement (session=\"9e3da16ae5303abbb1c2862e90c9a9ab\", element=\"898e397b-480b-4d5e-92ca-22f7385732e6\")>,\n",
       " <selenium.webdriver.remote.webelement.WebElement (session=\"9e3da16ae5303abbb1c2862e90c9a9ab\", element=\"ebc68170-c8db-4129-ab19-f7b5946ea45c\")>,\n",
       " <selenium.webdriver.remote.webelement.WebElement (session=\"9e3da16ae5303abbb1c2862e90c9a9ab\", element=\"9fc1cd79-64b0-458c-a8c6-a4db1d5d6274\")>,\n",
       " <selenium.webdriver.remote.webelement.WebElement (session=\"9e3da16ae5303abbb1c2862e90c9a9ab\", element=\"48777a63-fe48-43be-8b28-6c6ce1da3645\")>,\n",
       " <selenium.webdriver.remote.webelement.WebElement (session=\"9e3da16ae5303abbb1c2862e90c9a9ab\", element=\"cb9f6ee0-1818-43e9-b02c-041a0c029d72\")>,\n",
       " <selenium.webdriver.remote.webelement.WebElement (session=\"9e3da16ae5303abbb1c2862e90c9a9ab\", element=\"45e13baa-a168-4dff-943b-2b9aab6683f2\")>,\n",
       " <selenium.webdriver.remote.webelement.WebElement (session=\"9e3da16ae5303abbb1c2862e90c9a9ab\", element=\"769ad09d-0b60-48ff-bca9-0178f03521bb\")>,\n",
       " <selenium.webdriver.remote.webelement.WebElement (session=\"9e3da16ae5303abbb1c2862e90c9a9ab\", element=\"8dfe3fe1-877b-4412-bb12-5cd747b2ee1c\")>,\n",
       " <selenium.webdriver.remote.webelement.WebElement (session=\"9e3da16ae5303abbb1c2862e90c9a9ab\", element=\"7cbb2ba4-6323-4188-a5ad-91f2e4e499ae\")>,\n",
       " <selenium.webdriver.remote.webelement.WebElement (session=\"9e3da16ae5303abbb1c2862e90c9a9ab\", element=\"d0ae729c-c73e-42fd-960f-41d2cd8283db\")>,\n",
       " <selenium.webdriver.remote.webelement.WebElement (session=\"9e3da16ae5303abbb1c2862e90c9a9ab\", element=\"315c29b3-72f5-47be-a1bf-d0b408bce2ba\")>,\n",
       " <selenium.webdriver.remote.webelement.WebElement (session=\"9e3da16ae5303abbb1c2862e90c9a9ab\", element=\"091e82b5-758c-4f14-a93b-02f0407f7b65\")>,\n",
       " <selenium.webdriver.remote.webelement.WebElement (session=\"9e3da16ae5303abbb1c2862e90c9a9ab\", element=\"6119df47-d64a-4b49-88f3-b0683e919855\")>,\n",
       " <selenium.webdriver.remote.webelement.WebElement (session=\"9e3da16ae5303abbb1c2862e90c9a9ab\", element=\"2af59c1d-90d8-4a64-ba4e-11d8e3e156ad\")>,\n",
       " <selenium.webdriver.remote.webelement.WebElement (session=\"9e3da16ae5303abbb1c2862e90c9a9ab\", element=\"04fbb4eb-53b7-4c58-b90d-69cedd335234\")>,\n",
       " <selenium.webdriver.remote.webelement.WebElement (session=\"9e3da16ae5303abbb1c2862e90c9a9ab\", element=\"ac33937f-d8eb-4284-8e97-0618476cd9b0\")>,\n",
       " <selenium.webdriver.remote.webelement.WebElement (session=\"9e3da16ae5303abbb1c2862e90c9a9ab\", element=\"8568c9ec-c7a2-48f9-ab05-6dc92a56ae88\")>,\n",
       " <selenium.webdriver.remote.webelement.WebElement (session=\"9e3da16ae5303abbb1c2862e90c9a9ab\", element=\"b08f9dd2-11ae-4f01-be9b-8511722e1aa4\")>,\n",
       " <selenium.webdriver.remote.webelement.WebElement (session=\"9e3da16ae5303abbb1c2862e90c9a9ab\", element=\"5d0fd662-7e9b-46ca-9916-da9aa48f15bb\")>,\n",
       " <selenium.webdriver.remote.webelement.WebElement (session=\"9e3da16ae5303abbb1c2862e90c9a9ab\", element=\"0db0dfd2-a92f-4bfd-bc79-7f216f6a4ec6\")>,\n",
       " <selenium.webdriver.remote.webelement.WebElement (session=\"9e3da16ae5303abbb1c2862e90c9a9ab\", element=\"d53751b0-c9ea-432b-9aac-8bbde07dea12\")>,\n",
       " <selenium.webdriver.remote.webelement.WebElement (session=\"9e3da16ae5303abbb1c2862e90c9a9ab\", element=\"c667dc78-3eb7-4cd5-97c8-e57f3a0626bc\")>,\n",
       " <selenium.webdriver.remote.webelement.WebElement (session=\"9e3da16ae5303abbb1c2862e90c9a9ab\", element=\"a26d52e6-949f-48da-bd31-1878ded00129\")>,\n",
       " <selenium.webdriver.remote.webelement.WebElement (session=\"9e3da16ae5303abbb1c2862e90c9a9ab\", element=\"9469dfe6-1f82-4c16-95ef-f8d53aa17005\")>,\n",
       " <selenium.webdriver.remote.webelement.WebElement (session=\"9e3da16ae5303abbb1c2862e90c9a9ab\", element=\"2a82bed0-7104-489e-a32a-e431f437cef4\")>,\n",
       " <selenium.webdriver.remote.webelement.WebElement (session=\"9e3da16ae5303abbb1c2862e90c9a9ab\", element=\"acf68f91-5356-4a56-8dd4-300fc60811b7\")>,\n",
       " <selenium.webdriver.remote.webelement.WebElement (session=\"9e3da16ae5303abbb1c2862e90c9a9ab\", element=\"bce65c94-bb17-4b6e-a9fc-05d18854f02a\")>,\n",
       " <selenium.webdriver.remote.webelement.WebElement (session=\"9e3da16ae5303abbb1c2862e90c9a9ab\", element=\"41338281-9b7a-4e2b-b151-c39e27106086\")>,\n",
       " <selenium.webdriver.remote.webelement.WebElement (session=\"9e3da16ae5303abbb1c2862e90c9a9ab\", element=\"3f418306-d4b9-4b77-9994-4847f20e22c8\")>,\n",
       " <selenium.webdriver.remote.webelement.WebElement (session=\"9e3da16ae5303abbb1c2862e90c9a9ab\", element=\"ca7af593-e48f-452c-9db7-8e16b02643b9\")>,\n",
       " <selenium.webdriver.remote.webelement.WebElement (session=\"9e3da16ae5303abbb1c2862e90c9a9ab\", element=\"aea4a43e-4a16-48d7-aa47-ef251ace2523\")>,\n",
       " <selenium.webdriver.remote.webelement.WebElement (session=\"9e3da16ae5303abbb1c2862e90c9a9ab\", element=\"ef578d44-a9ba-456b-9504-5ca785bca92f\")>,\n",
       " <selenium.webdriver.remote.webelement.WebElement (session=\"9e3da16ae5303abbb1c2862e90c9a9ab\", element=\"7ec4aed1-724c-4719-83f0-89d5b7e701bf\")>,\n",
       " <selenium.webdriver.remote.webelement.WebElement (session=\"9e3da16ae5303abbb1c2862e90c9a9ab\", element=\"cf3ddf68-1a5e-45f8-a6c8-d3c97e138819\")>,\n",
       " <selenium.webdriver.remote.webelement.WebElement (session=\"9e3da16ae5303abbb1c2862e90c9a9ab\", element=\"bd07c4c5-1690-415a-a430-95fdfa8da212\")>,\n",
       " <selenium.webdriver.remote.webelement.WebElement (session=\"9e3da16ae5303abbb1c2862e90c9a9ab\", element=\"7467639e-ece8-4b8f-8e76-0c3b7b6f5a53\")>,\n",
       " <selenium.webdriver.remote.webelement.WebElement (session=\"9e3da16ae5303abbb1c2862e90c9a9ab\", element=\"ce255ffa-d3d6-4a33-9a39-ac0aa797054f\")>,\n",
       " <selenium.webdriver.remote.webelement.WebElement (session=\"9e3da16ae5303abbb1c2862e90c9a9ab\", element=\"982b4eb0-c9b2-4c5f-bd9d-8db59a4128eb\")>,\n",
       " <selenium.webdriver.remote.webelement.WebElement (session=\"9e3da16ae5303abbb1c2862e90c9a9ab\", element=\"3cebcff6-d02c-442e-b39c-baa1ed1fd526\")>,\n",
       " <selenium.webdriver.remote.webelement.WebElement (session=\"9e3da16ae5303abbb1c2862e90c9a9ab\", element=\"b0dd4731-a97a-430f-accd-f3188f95f9f6\")>,\n",
       " <selenium.webdriver.remote.webelement.WebElement (session=\"9e3da16ae5303abbb1c2862e90c9a9ab\", element=\"2996af45-de15-4c67-89a0-e781ec63b689\")>,\n",
       " <selenium.webdriver.remote.webelement.WebElement (session=\"9e3da16ae5303abbb1c2862e90c9a9ab\", element=\"1be4567b-3d48-4209-b1e5-1ffd15784f0b\")>,\n",
       " <selenium.webdriver.remote.webelement.WebElement (session=\"9e3da16ae5303abbb1c2862e90c9a9ab\", element=\"bebfd14f-d6cf-4af0-9218-6346330d0a39\")>,\n",
       " <selenium.webdriver.remote.webelement.WebElement (session=\"9e3da16ae5303abbb1c2862e90c9a9ab\", element=\"d5d5d000-abe8-493b-a029-31a132e49c67\")>,\n",
       " <selenium.webdriver.remote.webelement.WebElement (session=\"9e3da16ae5303abbb1c2862e90c9a9ab\", element=\"f664a60b-414b-4d5b-bf2c-15c3051c5b45\")>,\n",
       " <selenium.webdriver.remote.webelement.WebElement (session=\"9e3da16ae5303abbb1c2862e90c9a9ab\", element=\"ea45ac6c-ef00-45cd-a1fa-6c03c70a0c0c\")>,\n",
       " <selenium.webdriver.remote.webelement.WebElement (session=\"9e3da16ae5303abbb1c2862e90c9a9ab\", element=\"2e686551-ae99-41e7-a499-ad0e0cef3fa5\")>,\n",
       " <selenium.webdriver.remote.webelement.WebElement (session=\"9e3da16ae5303abbb1c2862e90c9a9ab\", element=\"c6f160dd-57ad-489f-8ae6-5efcdea1e787\")>,\n",
       " <selenium.webdriver.remote.webelement.WebElement (session=\"9e3da16ae5303abbb1c2862e90c9a9ab\", element=\"de8ec353-ebc3-41a3-97cc-71d5838c8700\")>,\n",
       " <selenium.webdriver.remote.webelement.WebElement (session=\"9e3da16ae5303abbb1c2862e90c9a9ab\", element=\"c03dc601-824a-407f-b510-7870045b457e\")>,\n",
       " <selenium.webdriver.remote.webelement.WebElement (session=\"9e3da16ae5303abbb1c2862e90c9a9ab\", element=\"21ca267e-abff-4d56-b3be-7889a4e023cc\")>,\n",
       " <selenium.webdriver.remote.webelement.WebElement (session=\"9e3da16ae5303abbb1c2862e90c9a9ab\", element=\"e20d35a8-fdbc-4d32-8901-2e87cc27a3e1\")>,\n",
       " <selenium.webdriver.remote.webelement.WebElement (session=\"9e3da16ae5303abbb1c2862e90c9a9ab\", element=\"4b7a8641-17a4-4524-bdc7-424dc1863ee6\")>,\n",
       " <selenium.webdriver.remote.webelement.WebElement (session=\"9e3da16ae5303abbb1c2862e90c9a9ab\", element=\"26a47ef0-5c3e-4793-8441-f05e3d59710c\")>,\n",
       " <selenium.webdriver.remote.webelement.WebElement (session=\"9e3da16ae5303abbb1c2862e90c9a9ab\", element=\"9a6aab7a-07f3-478f-a60a-3850be5c912b\")>,\n",
       " <selenium.webdriver.remote.webelement.WebElement (session=\"9e3da16ae5303abbb1c2862e90c9a9ab\", element=\"c6e672bd-8fa1-4824-8766-1a0b72b5617a\")>,\n",
       " <selenium.webdriver.remote.webelement.WebElement (session=\"9e3da16ae5303abbb1c2862e90c9a9ab\", element=\"cd13b4b4-952a-446b-82cc-ecdac82f8c63\")>,\n",
       " <selenium.webdriver.remote.webelement.WebElement (session=\"9e3da16ae5303abbb1c2862e90c9a9ab\", element=\"fef7cf9b-0837-48a0-a469-732ffa8af171\")>,\n",
       " <selenium.webdriver.remote.webelement.WebElement (session=\"9e3da16ae5303abbb1c2862e90c9a9ab\", element=\"e89617da-1917-4643-b493-acbed660e5ae\")>,\n",
       " <selenium.webdriver.remote.webelement.WebElement (session=\"9e3da16ae5303abbb1c2862e90c9a9ab\", element=\"9033edda-5761-4016-9761-9064e1362985\")>,\n",
       " <selenium.webdriver.remote.webelement.WebElement (session=\"9e3da16ae5303abbb1c2862e90c9a9ab\", element=\"b7ab54dd-1fbe-4ca3-a2ab-bf602e205e7b\")>,\n",
       " <selenium.webdriver.remote.webelement.WebElement (session=\"9e3da16ae5303abbb1c2862e90c9a9ab\", element=\"70a9cf5c-1aa2-4a8c-84b3-9895cdf53a7c\")>,\n",
       " <selenium.webdriver.remote.webelement.WebElement (session=\"9e3da16ae5303abbb1c2862e90c9a9ab\", element=\"a041938b-3a5c-4211-ab22-80cea65113cc\")>,\n",
       " <selenium.webdriver.remote.webelement.WebElement (session=\"9e3da16ae5303abbb1c2862e90c9a9ab\", element=\"665cd62c-1cf9-4fda-8a2f-63e5cdb2fae2\")>,\n",
       " <selenium.webdriver.remote.webelement.WebElement (session=\"9e3da16ae5303abbb1c2862e90c9a9ab\", element=\"d953f88d-cbe0-4dba-bcf1-4370d4a2c05e\")>,\n",
       " <selenium.webdriver.remote.webelement.WebElement (session=\"9e3da16ae5303abbb1c2862e90c9a9ab\", element=\"6cfd38a5-f42d-4030-b192-51d1bbb60cd0\")>,\n",
       " <selenium.webdriver.remote.webelement.WebElement (session=\"9e3da16ae5303abbb1c2862e90c9a9ab\", element=\"1fec7664-0ced-4438-8b0c-417e4de866ba\")>,\n",
       " <selenium.webdriver.remote.webelement.WebElement (session=\"9e3da16ae5303abbb1c2862e90c9a9ab\", element=\"65285a25-632d-4395-8855-9523438c9f30\")>,\n",
       " <selenium.webdriver.remote.webelement.WebElement (session=\"9e3da16ae5303abbb1c2862e90c9a9ab\", element=\"65fbe99a-f7cf-4a4b-8a5c-5a7e9e273ede\")>,\n",
       " <selenium.webdriver.remote.webelement.WebElement (session=\"9e3da16ae5303abbb1c2862e90c9a9ab\", element=\"760a0f26-b31a-4e2f-a7c7-583576c49f93\")>,\n",
       " <selenium.webdriver.remote.webelement.WebElement (session=\"9e3da16ae5303abbb1c2862e90c9a9ab\", element=\"7cf44140-b14e-4f5d-8cc4-2afa1d789864\")>,\n",
       " <selenium.webdriver.remote.webelement.WebElement (session=\"9e3da16ae5303abbb1c2862e90c9a9ab\", element=\"7703bf82-73c2-4e4b-9d1c-bb8e11bcdcb3\")>,\n",
       " <selenium.webdriver.remote.webelement.WebElement (session=\"9e3da16ae5303abbb1c2862e90c9a9ab\", element=\"1282355d-d07d-4929-8092-24609c1a08e7\")>,\n",
       " <selenium.webdriver.remote.webelement.WebElement (session=\"9e3da16ae5303abbb1c2862e90c9a9ab\", element=\"b855baa4-fe20-40da-956c-574d3fb555e9\")>,\n",
       " <selenium.webdriver.remote.webelement.WebElement (session=\"9e3da16ae5303abbb1c2862e90c9a9ab\", element=\"1476c41e-e643-4d75-959f-d15874472fe8\")>,\n",
       " <selenium.webdriver.remote.webelement.WebElement (session=\"9e3da16ae5303abbb1c2862e90c9a9ab\", element=\"70fbe83b-36d8-4ef8-b694-1cf68f92f520\")>,\n",
       " <selenium.webdriver.remote.webelement.WebElement (session=\"9e3da16ae5303abbb1c2862e90c9a9ab\", element=\"74ecdf91-4c52-4f23-ab41-197a79d6cce9\")>,\n",
       " <selenium.webdriver.remote.webelement.WebElement (session=\"9e3da16ae5303abbb1c2862e90c9a9ab\", element=\"43868099-ddc3-4138-ba80-840af113b77b\")>,\n",
       " <selenium.webdriver.remote.webelement.WebElement (session=\"9e3da16ae5303abbb1c2862e90c9a9ab\", element=\"8b400f2c-dff8-4420-b1ba-14a9e8d02622\")>,\n",
       " <selenium.webdriver.remote.webelement.WebElement (session=\"9e3da16ae5303abbb1c2862e90c9a9ab\", element=\"eb5b8b0e-3694-4fce-a476-d1de69c75f77\")>,\n",
       " <selenium.webdriver.remote.webelement.WebElement (session=\"9e3da16ae5303abbb1c2862e90c9a9ab\", element=\"254ebb0d-3f51-4b24-9648-8b58aaa35218\")>,\n",
       " <selenium.webdriver.remote.webelement.WebElement (session=\"9e3da16ae5303abbb1c2862e90c9a9ab\", element=\"b083f37d-6ca4-46cf-8494-d4be24b7dbb6\")>,\n",
       " <selenium.webdriver.remote.webelement.WebElement (session=\"9e3da16ae5303abbb1c2862e90c9a9ab\", element=\"81d8ec4b-ee4f-4558-80a6-c7add9ee2407\")>,\n",
       " <selenium.webdriver.remote.webelement.WebElement (session=\"9e3da16ae5303abbb1c2862e90c9a9ab\", element=\"0bb5afa4-4927-45c7-a2d8-75704ac08f7f\")>,\n",
       " <selenium.webdriver.remote.webelement.WebElement (session=\"9e3da16ae5303abbb1c2862e90c9a9ab\", element=\"b9161b1d-eac7-4a10-89f2-240489b4213a\")>,\n",
       " <selenium.webdriver.remote.webelement.WebElement (session=\"9e3da16ae5303abbb1c2862e90c9a9ab\", element=\"c948fbb1-c901-43e2-9a2e-c61de3caa96d\")>,\n",
       " <selenium.webdriver.remote.webelement.WebElement (session=\"9e3da16ae5303abbb1c2862e90c9a9ab\", element=\"00fa009f-f18d-4bcf-8f74-303a42740814\")>,\n",
       " <selenium.webdriver.remote.webelement.WebElement (session=\"9e3da16ae5303abbb1c2862e90c9a9ab\", element=\"76432277-fff8-4540-bfd1-3c04a704489d\")>,\n",
       " <selenium.webdriver.remote.webelement.WebElement (session=\"9e3da16ae5303abbb1c2862e90c9a9ab\", element=\"d12018f2-452f-46b8-a00e-0289fd3512fa\")>,\n",
       " <selenium.webdriver.remote.webelement.WebElement (session=\"9e3da16ae5303abbb1c2862e90c9a9ab\", element=\"c3184bc9-a66f-4971-9457-423a4ee3344d\")>,\n",
       " <selenium.webdriver.remote.webelement.WebElement (session=\"9e3da16ae5303abbb1c2862e90c9a9ab\", element=\"b81c5e22-392c-4819-b667-10b644c83544\")>,\n",
       " <selenium.webdriver.remote.webelement.WebElement (session=\"9e3da16ae5303abbb1c2862e90c9a9ab\", element=\"f50c765d-aa2b-4b17-9821-080ac20a9354\")>,\n",
       " <selenium.webdriver.remote.webelement.WebElement (session=\"9e3da16ae5303abbb1c2862e90c9a9ab\", element=\"cbb3c818-d17e-4bfb-ba84-6f809d6781e8\")>,\n",
       " <selenium.webdriver.remote.webelement.WebElement (session=\"9e3da16ae5303abbb1c2862e90c9a9ab\", element=\"1ab9c41f-5511-4d9c-adfe-88e7bcd38c6f\")>,\n",
       " <selenium.webdriver.remote.webelement.WebElement (session=\"9e3da16ae5303abbb1c2862e90c9a9ab\", element=\"1dadd178-aa1d-433e-92e9-bb0b323888ba\")>,\n",
       " <selenium.webdriver.remote.webelement.WebElement (session=\"9e3da16ae5303abbb1c2862e90c9a9ab\", element=\"0822990f-a7d3-4459-a577-7d13c23d184e\")>,\n",
       " <selenium.webdriver.remote.webelement.WebElement (session=\"9e3da16ae5303abbb1c2862e90c9a9ab\", element=\"91168b1d-529c-47a6-9260-e5948569c8e7\")>,\n",
       " <selenium.webdriver.remote.webelement.WebElement (session=\"9e3da16ae5303abbb1c2862e90c9a9ab\", element=\"aaa5f290-cf73-43ad-963f-fb88c6107935\")>,\n",
       " <selenium.webdriver.remote.webelement.WebElement (session=\"9e3da16ae5303abbb1c2862e90c9a9ab\", element=\"fc6e0595-49e6-4c39-afc9-80810bb4f58d\")>,\n",
       " <selenium.webdriver.remote.webelement.WebElement (session=\"9e3da16ae5303abbb1c2862e90c9a9ab\", element=\"4068e23b-bddf-4d27-b039-142801c7ccff\")>,\n",
       " <selenium.webdriver.remote.webelement.WebElement (session=\"9e3da16ae5303abbb1c2862e90c9a9ab\", element=\"bc44540d-7345-40f2-a464-2a4309cb435e\")>,\n",
       " <selenium.webdriver.remote.webelement.WebElement (session=\"9e3da16ae5303abbb1c2862e90c9a9ab\", element=\"62b62617-3d44-46f6-9af6-d244a0c8b1d4\")>,\n",
       " <selenium.webdriver.remote.webelement.WebElement (session=\"9e3da16ae5303abbb1c2862e90c9a9ab\", element=\"1d7a41af-252f-4185-b9a7-f87365117cb9\")>,\n",
       " <selenium.webdriver.remote.webelement.WebElement (session=\"9e3da16ae5303abbb1c2862e90c9a9ab\", element=\"0f7beb46-e8ec-436b-bb37-bdb0e47364a1\")>,\n",
       " <selenium.webdriver.remote.webelement.WebElement (session=\"9e3da16ae5303abbb1c2862e90c9a9ab\", element=\"cf4d178f-2159-4702-a8ed-ad2ded845aa7\")>,\n",
       " <selenium.webdriver.remote.webelement.WebElement (session=\"9e3da16ae5303abbb1c2862e90c9a9ab\", element=\"680ebf5e-3224-46d4-b6f5-3d48b0586889\")>,\n",
       " <selenium.webdriver.remote.webelement.WebElement (session=\"9e3da16ae5303abbb1c2862e90c9a9ab\", element=\"86283572-3875-4b32-8e84-bace98f59a4f\")>,\n",
       " <selenium.webdriver.remote.webelement.WebElement (session=\"9e3da16ae5303abbb1c2862e90c9a9ab\", element=\"10bf987e-893f-4c37-a431-69d973c4d383\")>,\n",
       " <selenium.webdriver.remote.webelement.WebElement (session=\"9e3da16ae5303abbb1c2862e90c9a9ab\", element=\"ed9d0c73-fd24-485a-9df7-10559b96e562\")>,\n",
       " <selenium.webdriver.remote.webelement.WebElement (session=\"9e3da16ae5303abbb1c2862e90c9a9ab\", element=\"5425c179-a642-4a73-83d3-2e70b94f7a3d\")>,\n",
       " <selenium.webdriver.remote.webelement.WebElement (session=\"9e3da16ae5303abbb1c2862e90c9a9ab\", element=\"70ccc556-128f-4c74-bd4f-01a080532905\")>,\n",
       " <selenium.webdriver.remote.webelement.WebElement (session=\"9e3da16ae5303abbb1c2862e90c9a9ab\", element=\"c2b639ea-cd10-4e41-9118-f469cf68d4e5\")>,\n",
       " <selenium.webdriver.remote.webelement.WebElement (session=\"9e3da16ae5303abbb1c2862e90c9a9ab\", element=\"1a69c6e3-3117-4d15-aeaf-73f050f33a8b\")>,\n",
       " <selenium.webdriver.remote.webelement.WebElement (session=\"9e3da16ae5303abbb1c2862e90c9a9ab\", element=\"2bb0df8a-83aa-4eaf-b90b-b9795a47c8a2\")>,\n",
       " <selenium.webdriver.remote.webelement.WebElement (session=\"9e3da16ae5303abbb1c2862e90c9a9ab\", element=\"be80a2b8-280b-42ed-8913-5c40dc0208ca\")>,\n",
       " <selenium.webdriver.remote.webelement.WebElement (session=\"9e3da16ae5303abbb1c2862e90c9a9ab\", element=\"622260fe-9690-493f-887a-7d8960ea3f8e\")>,\n",
       " <selenium.webdriver.remote.webelement.WebElement (session=\"9e3da16ae5303abbb1c2862e90c9a9ab\", element=\"c3a35ae0-58be-4e89-bd9d-e619c1abb7b4\")>,\n",
       " <selenium.webdriver.remote.webelement.WebElement (session=\"9e3da16ae5303abbb1c2862e90c9a9ab\", element=\"4ae7f17b-e63c-4b4c-825c-fd3f83c2beda\")>,\n",
       " <selenium.webdriver.remote.webelement.WebElement (session=\"9e3da16ae5303abbb1c2862e90c9a9ab\", element=\"084357c5-7776-46f4-b33b-d4a6f0e6ebd0\")>,\n",
       " <selenium.webdriver.remote.webelement.WebElement (session=\"9e3da16ae5303abbb1c2862e90c9a9ab\", element=\"97e634ea-d049-4b62-840a-4a5261988107\")>,\n",
       " <selenium.webdriver.remote.webelement.WebElement (session=\"9e3da16ae5303abbb1c2862e90c9a9ab\", element=\"95703ce1-9588-4def-a955-4826f7f89968\")>,\n",
       " <selenium.webdriver.remote.webelement.WebElement (session=\"9e3da16ae5303abbb1c2862e90c9a9ab\", element=\"455b3986-79d3-415d-a4e4-da99b2bd1da1\")>,\n",
       " <selenium.webdriver.remote.webelement.WebElement (session=\"9e3da16ae5303abbb1c2862e90c9a9ab\", element=\"f443201b-dd25-4dc2-81f3-386bffa6ffc3\")>,\n",
       " <selenium.webdriver.remote.webelement.WebElement (session=\"9e3da16ae5303abbb1c2862e90c9a9ab\", element=\"1b30f682-3b06-4285-9758-06e8201b7df9\")>,\n",
       " <selenium.webdriver.remote.webelement.WebElement (session=\"9e3da16ae5303abbb1c2862e90c9a9ab\", element=\"c5e6cf97-f810-4d32-a5a3-4dda588ab143\")>,\n",
       " <selenium.webdriver.remote.webelement.WebElement (session=\"9e3da16ae5303abbb1c2862e90c9a9ab\", element=\"b8bb409e-e2c9-4d1f-8f06-8ae067f3352b\")>,\n",
       " <selenium.webdriver.remote.webelement.WebElement (session=\"9e3da16ae5303abbb1c2862e90c9a9ab\", element=\"5818f796-c134-4607-bdef-d42c31d8aa0a\")>,\n",
       " <selenium.webdriver.remote.webelement.WebElement (session=\"9e3da16ae5303abbb1c2862e90c9a9ab\", element=\"666da706-260d-40f2-ad6e-8d32a77e8568\")>,\n",
       " <selenium.webdriver.remote.webelement.WebElement (session=\"9e3da16ae5303abbb1c2862e90c9a9ab\", element=\"7476a4f1-c388-4378-8f01-8fcb6da59429\")>,\n",
       " <selenium.webdriver.remote.webelement.WebElement (session=\"9e3da16ae5303abbb1c2862e90c9a9ab\", element=\"e2175082-c2d0-44d7-8780-adda81648506\")>,\n",
       " <selenium.webdriver.remote.webelement.WebElement (session=\"9e3da16ae5303abbb1c2862e90c9a9ab\", element=\"4a6cd268-886d-432d-8c3d-287079821810\")>,\n",
       " <selenium.webdriver.remote.webelement.WebElement (session=\"9e3da16ae5303abbb1c2862e90c9a9ab\", element=\"1e3d7d8e-f058-485a-91ef-0198ffcf5928\")>,\n",
       " <selenium.webdriver.remote.webelement.WebElement (session=\"9e3da16ae5303abbb1c2862e90c9a9ab\", element=\"0eeb4a4f-253d-4e30-9df2-047dddc995fc\")>,\n",
       " <selenium.webdriver.remote.webelement.WebElement (session=\"9e3da16ae5303abbb1c2862e90c9a9ab\", element=\"bde52111-c1cd-48a1-855e-00754675d4d2\")>,\n",
       " <selenium.webdriver.remote.webelement.WebElement (session=\"9e3da16ae5303abbb1c2862e90c9a9ab\", element=\"f2a55455-d63f-4d9f-b508-1e11c818e19f\")>,\n",
       " <selenium.webdriver.remote.webelement.WebElement (session=\"9e3da16ae5303abbb1c2862e90c9a9ab\", element=\"1fdc2453-116d-415d-913a-1298f202887a\")>,\n",
       " <selenium.webdriver.remote.webelement.WebElement (session=\"9e3da16ae5303abbb1c2862e90c9a9ab\", element=\"2236ffb2-a344-4941-8fd7-838a26bb8a6f\")>,\n",
       " <selenium.webdriver.remote.webelement.WebElement (session=\"9e3da16ae5303abbb1c2862e90c9a9ab\", element=\"99ef11e5-a8f2-4624-a362-c9bee0e7c191\")>,\n",
       " <selenium.webdriver.remote.webelement.WebElement (session=\"9e3da16ae5303abbb1c2862e90c9a9ab\", element=\"3eaa8770-3308-4a60-9dfa-9224a0e26b24\")>,\n",
       " <selenium.webdriver.remote.webelement.WebElement (session=\"9e3da16ae5303abbb1c2862e90c9a9ab\", element=\"bc0f1d65-9808-4547-bc06-3c86af0fd33b\")>,\n",
       " <selenium.webdriver.remote.webelement.WebElement (session=\"9e3da16ae5303abbb1c2862e90c9a9ab\", element=\"abb6c061-dd89-4222-89a7-e4016e9b2b7b\")>,\n",
       " <selenium.webdriver.remote.webelement.WebElement (session=\"9e3da16ae5303abbb1c2862e90c9a9ab\", element=\"006a3b19-1d7e-43f8-8eb6-87c3431dd663\")>,\n",
       " <selenium.webdriver.remote.webelement.WebElement (session=\"9e3da16ae5303abbb1c2862e90c9a9ab\", element=\"8669aeee-0335-4e3f-bf77-fc97b47f678d\")>,\n",
       " <selenium.webdriver.remote.webelement.WebElement (session=\"9e3da16ae5303abbb1c2862e90c9a9ab\", element=\"4158df49-f3e2-4576-9e93-248d1edf3ffb\")>,\n",
       " <selenium.webdriver.remote.webelement.WebElement (session=\"9e3da16ae5303abbb1c2862e90c9a9ab\", element=\"1cc61aab-63fa-425b-8b9b-83ec24e9df05\")>,\n",
       " <selenium.webdriver.remote.webelement.WebElement (session=\"9e3da16ae5303abbb1c2862e90c9a9ab\", element=\"8fd15aa6-427b-4ff1-9e6b-797b64f59dfc\")>,\n",
       " <selenium.webdriver.remote.webelement.WebElement (session=\"9e3da16ae5303abbb1c2862e90c9a9ab\", element=\"d0a37e7e-9d5b-452f-b893-28f05a437ed5\")>,\n",
       " <selenium.webdriver.remote.webelement.WebElement (session=\"9e3da16ae5303abbb1c2862e90c9a9ab\", element=\"921884b9-aa29-41ef-8f39-4892c680ef9a\")>,\n",
       " <selenium.webdriver.remote.webelement.WebElement (session=\"9e3da16ae5303abbb1c2862e90c9a9ab\", element=\"fce18e55-cea3-4937-83a6-0b121cfe092b\")>,\n",
       " <selenium.webdriver.remote.webelement.WebElement (session=\"9e3da16ae5303abbb1c2862e90c9a9ab\", element=\"f61660c4-a4ce-40a9-95bb-a099c5177556\")>,\n",
       " <selenium.webdriver.remote.webelement.WebElement (session=\"9e3da16ae5303abbb1c2862e90c9a9ab\", element=\"eaf6e692-d416-4b7d-82d9-26b245b0aca0\")>,\n",
       " <selenium.webdriver.remote.webelement.WebElement (session=\"9e3da16ae5303abbb1c2862e90c9a9ab\", element=\"bc85cb63-c164-4117-9e0d-d105c623a9ff\")>,\n",
       " <selenium.webdriver.remote.webelement.WebElement (session=\"9e3da16ae5303abbb1c2862e90c9a9ab\", element=\"79fffc49-7ce1-457a-9ae9-72af3729a42e\")>,\n",
       " <selenium.webdriver.remote.webelement.WebElement (session=\"9e3da16ae5303abbb1c2862e90c9a9ab\", element=\"2334a167-bbc5-45dc-9cce-25225c73e211\")>,\n",
       " <selenium.webdriver.remote.webelement.WebElement (session=\"9e3da16ae5303abbb1c2862e90c9a9ab\", element=\"e7103710-a106-4a60-91a0-7921f5f92620\")>,\n",
       " <selenium.webdriver.remote.webelement.WebElement (session=\"9e3da16ae5303abbb1c2862e90c9a9ab\", element=\"49c33cec-d142-4e6d-9719-b26c99b11899\")>,\n",
       " <selenium.webdriver.remote.webelement.WebElement (session=\"9e3da16ae5303abbb1c2862e90c9a9ab\", element=\"bc04e99f-4fa7-4f28-9ca1-e215b94d6bd5\")>,\n",
       " <selenium.webdriver.remote.webelement.WebElement (session=\"9e3da16ae5303abbb1c2862e90c9a9ab\", element=\"19b883a1-855b-450a-b1c3-63b007f10006\")>,\n",
       " <selenium.webdriver.remote.webelement.WebElement (session=\"9e3da16ae5303abbb1c2862e90c9a9ab\", element=\"3a00e30a-84b1-422a-8071-e9a9a7cfcb1e\")>,\n",
       " <selenium.webdriver.remote.webelement.WebElement (session=\"9e3da16ae5303abbb1c2862e90c9a9ab\", element=\"b4051441-82d1-43f9-943c-d11be4f2295b\")>,\n",
       " <selenium.webdriver.remote.webelement.WebElement (session=\"9e3da16ae5303abbb1c2862e90c9a9ab\", element=\"23d49686-e0c6-4dab-8522-380e86941237\")>,\n",
       " <selenium.webdriver.remote.webelement.WebElement (session=\"9e3da16ae5303abbb1c2862e90c9a9ab\", element=\"63ed286f-7787-4c4d-af1a-8505420440cf\")>,\n",
       " <selenium.webdriver.remote.webelement.WebElement (session=\"9e3da16ae5303abbb1c2862e90c9a9ab\", element=\"a4e8c439-9297-4464-b71f-4660dac2712d\")>,\n",
       " <selenium.webdriver.remote.webelement.WebElement (session=\"9e3da16ae5303abbb1c2862e90c9a9ab\", element=\"8eb3ace1-05f4-42e9-a00a-61ce59616c23\")>,\n",
       " <selenium.webdriver.remote.webelement.WebElement (session=\"9e3da16ae5303abbb1c2862e90c9a9ab\", element=\"6afeba09-2dbb-445b-9c8d-707fe23d7a0a\")>,\n",
       " <selenium.webdriver.remote.webelement.WebElement (session=\"9e3da16ae5303abbb1c2862e90c9a9ab\", element=\"4c53e48e-b4c1-43bf-af94-20c09266517c\")>,\n",
       " <selenium.webdriver.remote.webelement.WebElement (session=\"9e3da16ae5303abbb1c2862e90c9a9ab\", element=\"a13f8b1d-6798-4776-a228-53544bd8f0e3\")>,\n",
       " <selenium.webdriver.remote.webelement.WebElement (session=\"9e3da16ae5303abbb1c2862e90c9a9ab\", element=\"0f70278d-4896-4361-9b9b-9b46ce9a71fb\")>,\n",
       " <selenium.webdriver.remote.webelement.WebElement (session=\"9e3da16ae5303abbb1c2862e90c9a9ab\", element=\"7f97e33a-78ba-4315-a7f7-bfcbf1035135\")>,\n",
       " <selenium.webdriver.remote.webelement.WebElement (session=\"9e3da16ae5303abbb1c2862e90c9a9ab\", element=\"1511f4f7-23b9-4205-8637-c426444fa023\")>,\n",
       " <selenium.webdriver.remote.webelement.WebElement (session=\"9e3da16ae5303abbb1c2862e90c9a9ab\", element=\"291cf470-90ff-4671-aabc-5fb3eb0f688b\")>,\n",
       " <selenium.webdriver.remote.webelement.WebElement (session=\"9e3da16ae5303abbb1c2862e90c9a9ab\", element=\"65eca009-0781-44e6-b1b7-38c9fd43112d\")>,\n",
       " <selenium.webdriver.remote.webelement.WebElement (session=\"9e3da16ae5303abbb1c2862e90c9a9ab\", element=\"7148fdf0-bf04-4626-a32b-96e281978064\")>,\n",
       " <selenium.webdriver.remote.webelement.WebElement (session=\"9e3da16ae5303abbb1c2862e90c9a9ab\", element=\"3c045c32-5bdc-40e4-b7a5-200b27d1c1d8\")>,\n",
       " <selenium.webdriver.remote.webelement.WebElement (session=\"9e3da16ae5303abbb1c2862e90c9a9ab\", element=\"7df23520-33d1-4336-b1eb-901e35e9d255\")>,\n",
       " <selenium.webdriver.remote.webelement.WebElement (session=\"9e3da16ae5303abbb1c2862e90c9a9ab\", element=\"5e77bae2-b18d-484c-9b85-e2bb2673f430\")>,\n",
       " <selenium.webdriver.remote.webelement.WebElement (session=\"9e3da16ae5303abbb1c2862e90c9a9ab\", element=\"c089def8-1e33-44ce-be67-604464f18b2c\")>,\n",
       " <selenium.webdriver.remote.webelement.WebElement (session=\"9e3da16ae5303abbb1c2862e90c9a9ab\", element=\"7e2e2727-5aaa-4dd7-8953-9e5ec2b206e3\")>,\n",
       " <selenium.webdriver.remote.webelement.WebElement (session=\"9e3da16ae5303abbb1c2862e90c9a9ab\", element=\"270612be-ae75-47b0-82f0-86adb7fa7443\")>,\n",
       " <selenium.webdriver.remote.webelement.WebElement (session=\"9e3da16ae5303abbb1c2862e90c9a9ab\", element=\"c50ea320-84b5-49b7-bad6-127a148d41fe\")>,\n",
       " <selenium.webdriver.remote.webelement.WebElement (session=\"9e3da16ae5303abbb1c2862e90c9a9ab\", element=\"48d38b58-b109-483a-9cb9-f69c0e9b5685\")>,\n",
       " <selenium.webdriver.remote.webelement.WebElement (session=\"9e3da16ae5303abbb1c2862e90c9a9ab\", element=\"19e6378e-3851-4ea1-9b26-5cc010548bc5\")>,\n",
       " <selenium.webdriver.remote.webelement.WebElement (session=\"9e3da16ae5303abbb1c2862e90c9a9ab\", element=\"eb6446dc-ecfe-4119-917d-e5e0c90474f2\")>,\n",
       " <selenium.webdriver.remote.webelement.WebElement (session=\"9e3da16ae5303abbb1c2862e90c9a9ab\", element=\"d098a713-f9c9-4179-a123-864e5ff5b7c9\")>,\n",
       " <selenium.webdriver.remote.webelement.WebElement (session=\"9e3da16ae5303abbb1c2862e90c9a9ab\", element=\"a5e83fae-88c5-41c9-b775-bd8a2617dbd8\")>,\n",
       " <selenium.webdriver.remote.webelement.WebElement (session=\"9e3da16ae5303abbb1c2862e90c9a9ab\", element=\"3682224c-5341-4e35-9ad1-ec681a12d4bd\")>,\n",
       " <selenium.webdriver.remote.webelement.WebElement (session=\"9e3da16ae5303abbb1c2862e90c9a9ab\", element=\"27216898-d76b-4ff2-a0ea-2690be8e57be\")>,\n",
       " <selenium.webdriver.remote.webelement.WebElement (session=\"9e3da16ae5303abbb1c2862e90c9a9ab\", element=\"7e371546-0b42-4eff-bd48-ef4ef8843691\")>,\n",
       " <selenium.webdriver.remote.webelement.WebElement (session=\"9e3da16ae5303abbb1c2862e90c9a9ab\", element=\"6dc94751-b8ad-4737-a787-bdf437a45d0d\")>,\n",
       " <selenium.webdriver.remote.webelement.WebElement (session=\"9e3da16ae5303abbb1c2862e90c9a9ab\", element=\"87549da2-55af-49be-81bd-2cba731d3a63\")>,\n",
       " <selenium.webdriver.remote.webelement.WebElement (session=\"9e3da16ae5303abbb1c2862e90c9a9ab\", element=\"90daa453-c3d4-4e46-9741-3702b109bc04\")>,\n",
       " <selenium.webdriver.remote.webelement.WebElement (session=\"9e3da16ae5303abbb1c2862e90c9a9ab\", element=\"0764c793-a407-43b4-af21-2c6299275f88\")>,\n",
       " <selenium.webdriver.remote.webelement.WebElement (session=\"9e3da16ae5303abbb1c2862e90c9a9ab\", element=\"6004378e-2409-4239-b5db-f873250dc3f2\")>,\n",
       " <selenium.webdriver.remote.webelement.WebElement (session=\"9e3da16ae5303abbb1c2862e90c9a9ab\", element=\"a482721a-35de-4dee-b882-5b6b3174c936\")>,\n",
       " <selenium.webdriver.remote.webelement.WebElement (session=\"9e3da16ae5303abbb1c2862e90c9a9ab\", element=\"45815f39-2016-45f6-b648-9658cf95bc2e\")>,\n",
       " <selenium.webdriver.remote.webelement.WebElement (session=\"9e3da16ae5303abbb1c2862e90c9a9ab\", element=\"c971508e-9cb7-48a6-a8fd-825464f9b3cc\")>,\n",
       " <selenium.webdriver.remote.webelement.WebElement (session=\"9e3da16ae5303abbb1c2862e90c9a9ab\", element=\"c2683ca0-ae3c-4dff-8df3-41025b65540b\")>,\n",
       " <selenium.webdriver.remote.webelement.WebElement (session=\"9e3da16ae5303abbb1c2862e90c9a9ab\", element=\"c3142f8d-a52b-4049-a671-5627ec9af13e\")>,\n",
       " <selenium.webdriver.remote.webelement.WebElement (session=\"9e3da16ae5303abbb1c2862e90c9a9ab\", element=\"2eb1dabe-1b37-400a-8163-b1daaf8747f3\")>,\n",
       " <selenium.webdriver.remote.webelement.WebElement (session=\"9e3da16ae5303abbb1c2862e90c9a9ab\", element=\"24b41400-ed16-46fa-8d4a-2c2c0aafbf9b\")>,\n",
       " <selenium.webdriver.remote.webelement.WebElement (session=\"9e3da16ae5303abbb1c2862e90c9a9ab\", element=\"cff95802-05c8-436e-b35d-8f5c0d124f4d\")>,\n",
       " <selenium.webdriver.remote.webelement.WebElement (session=\"9e3da16ae5303abbb1c2862e90c9a9ab\", element=\"ebdb0a1b-215a-4208-9a43-13171e78e3e2\")>,\n",
       " <selenium.webdriver.remote.webelement.WebElement (session=\"9e3da16ae5303abbb1c2862e90c9a9ab\", element=\"a5a5af07-7a54-4fe8-9446-b6f44a0bc9cd\")>,\n",
       " <selenium.webdriver.remote.webelement.WebElement (session=\"9e3da16ae5303abbb1c2862e90c9a9ab\", element=\"acd74b1d-f6e0-4ae2-a871-aa86eb217a84\")>,\n",
       " <selenium.webdriver.remote.webelement.WebElement (session=\"9e3da16ae5303abbb1c2862e90c9a9ab\", element=\"1b61dfbe-130a-4eee-b57a-0faec697dd16\")>,\n",
       " <selenium.webdriver.remote.webelement.WebElement (session=\"9e3da16ae5303abbb1c2862e90c9a9ab\", element=\"c505464f-1a9d-421e-a906-831a309a6188\")>,\n",
       " <selenium.webdriver.remote.webelement.WebElement (session=\"9e3da16ae5303abbb1c2862e90c9a9ab\", element=\"72de4835-0921-498b-b585-a2cab7a767e2\")>,\n",
       " <selenium.webdriver.remote.webelement.WebElement (session=\"9e3da16ae5303abbb1c2862e90c9a9ab\", element=\"19cf5e91-240e-436e-a07a-b954ae402d07\")>,\n",
       " <selenium.webdriver.remote.webelement.WebElement (session=\"9e3da16ae5303abbb1c2862e90c9a9ab\", element=\"c88de24d-a687-436c-98cd-0dfccf4d96f2\")>,\n",
       " <selenium.webdriver.remote.webelement.WebElement (session=\"9e3da16ae5303abbb1c2862e90c9a9ab\", element=\"8c711430-b095-4b17-a43d-89d3ecc576d6\")>,\n",
       " <selenium.webdriver.remote.webelement.WebElement (session=\"9e3da16ae5303abbb1c2862e90c9a9ab\", element=\"54cb10ba-130b-4d2d-b2b8-e62423e7b416\")>,\n",
       " <selenium.webdriver.remote.webelement.WebElement (session=\"9e3da16ae5303abbb1c2862e90c9a9ab\", element=\"9b30e495-6dd0-4255-bf3e-3f41b9948476\")>,\n",
       " <selenium.webdriver.remote.webelement.WebElement (session=\"9e3da16ae5303abbb1c2862e90c9a9ab\", element=\"de325579-0909-4f7b-ad5e-4acc4731eb80\")>,\n",
       " <selenium.webdriver.remote.webelement.WebElement (session=\"9e3da16ae5303abbb1c2862e90c9a9ab\", element=\"e1d51b10-224a-442e-b3be-94e2f415cda2\")>,\n",
       " <selenium.webdriver.remote.webelement.WebElement (session=\"9e3da16ae5303abbb1c2862e90c9a9ab\", element=\"ea7aeed9-8bd1-4afd-8040-ffc00dcf7c4e\")>,\n",
       " <selenium.webdriver.remote.webelement.WebElement (session=\"9e3da16ae5303abbb1c2862e90c9a9ab\", element=\"54c94217-83db-4ce6-b400-7619242a9f24\")>,\n",
       " <selenium.webdriver.remote.webelement.WebElement (session=\"9e3da16ae5303abbb1c2862e90c9a9ab\", element=\"981b97f5-71b1-4ac1-b30a-6806bb11f5da\")>,\n",
       " <selenium.webdriver.remote.webelement.WebElement (session=\"9e3da16ae5303abbb1c2862e90c9a9ab\", element=\"30383d9f-0a6c-4955-a0d8-284c2d8475bd\")>,\n",
       " <selenium.webdriver.remote.webelement.WebElement (session=\"9e3da16ae5303abbb1c2862e90c9a9ab\", element=\"5da13071-20b3-46d2-8f8e-311d05b79a50\")>,\n",
       " <selenium.webdriver.remote.webelement.WebElement (session=\"9e3da16ae5303abbb1c2862e90c9a9ab\", element=\"fe17483f-cd67-4810-9f8a-aa728edf95af\")>,\n",
       " <selenium.webdriver.remote.webelement.WebElement (session=\"9e3da16ae5303abbb1c2862e90c9a9ab\", element=\"c39de883-c2a4-4f60-af6b-26b614783ed8\")>,\n",
       " <selenium.webdriver.remote.webelement.WebElement (session=\"9e3da16ae5303abbb1c2862e90c9a9ab\", element=\"7f79863f-721d-4f63-8d5a-e32831daf88d\")>,\n",
       " <selenium.webdriver.remote.webelement.WebElement (session=\"9e3da16ae5303abbb1c2862e90c9a9ab\", element=\"c865983b-03b7-4c2f-ad9f-3acb6c31bea4\")>,\n",
       " <selenium.webdriver.remote.webelement.WebElement (session=\"9e3da16ae5303abbb1c2862e90c9a9ab\", element=\"02a391b7-39c3-40b9-bb97-d9badd065ce5\")>,\n",
       " <selenium.webdriver.remote.webelement.WebElement (session=\"9e3da16ae5303abbb1c2862e90c9a9ab\", element=\"70ad1100-c341-4b26-984e-4193a49ce026\")>,\n",
       " <selenium.webdriver.remote.webelement.WebElement (session=\"9e3da16ae5303abbb1c2862e90c9a9ab\", element=\"55aabcda-c0db-49c0-bdea-1ab043c61cf6\")>,\n",
       " <selenium.webdriver.remote.webelement.WebElement (session=\"9e3da16ae5303abbb1c2862e90c9a9ab\", element=\"ef2ad0d1-0f8c-407f-9c4e-0ef3f1ad1a5f\")>,\n",
       " <selenium.webdriver.remote.webelement.WebElement (session=\"9e3da16ae5303abbb1c2862e90c9a9ab\", element=\"116bea66-f16e-4ab4-bdb2-1f929dfbeb06\")>,\n",
       " <selenium.webdriver.remote.webelement.WebElement (session=\"9e3da16ae5303abbb1c2862e90c9a9ab\", element=\"ef904e96-3d28-49e7-b7e0-64a395104d07\")>,\n",
       " <selenium.webdriver.remote.webelement.WebElement (session=\"9e3da16ae5303abbb1c2862e90c9a9ab\", element=\"f29f8841-c994-4750-b5bc-3b0c6d998963\")>,\n",
       " <selenium.webdriver.remote.webelement.WebElement (session=\"9e3da16ae5303abbb1c2862e90c9a9ab\", element=\"a2ba8cb9-97b1-4992-a241-d4f5305a4ec1\")>,\n",
       " <selenium.webdriver.remote.webelement.WebElement (session=\"9e3da16ae5303abbb1c2862e90c9a9ab\", element=\"822604c4-1968-4706-a65d-d9e0d15752bc\")>,\n",
       " <selenium.webdriver.remote.webelement.WebElement (session=\"9e3da16ae5303abbb1c2862e90c9a9ab\", element=\"f5f05ac7-4d03-467a-a206-0048f84c56dc\")>,\n",
       " <selenium.webdriver.remote.webelement.WebElement (session=\"9e3da16ae5303abbb1c2862e90c9a9ab\", element=\"2a26a6bc-09b9-4bda-b6ad-34c115011e9a\")>,\n",
       " <selenium.webdriver.remote.webelement.WebElement (session=\"9e3da16ae5303abbb1c2862e90c9a9ab\", element=\"7e5a601f-69d7-439f-b3e0-e78915ae5dd0\")>,\n",
       " <selenium.webdriver.remote.webelement.WebElement (session=\"9e3da16ae5303abbb1c2862e90c9a9ab\", element=\"4cff16a8-ba77-4a3d-b1bb-aed6863fa47c\")>,\n",
       " <selenium.webdriver.remote.webelement.WebElement (session=\"9e3da16ae5303abbb1c2862e90c9a9ab\", element=\"9f6e66c2-85ec-49e1-a7d3-3a8b9f3704cc\")>,\n",
       " <selenium.webdriver.remote.webelement.WebElement (session=\"9e3da16ae5303abbb1c2862e90c9a9ab\", element=\"e09dff1d-ae49-4d49-9092-71a7e6f39f4b\")>,\n",
       " <selenium.webdriver.remote.webelement.WebElement (session=\"9e3da16ae5303abbb1c2862e90c9a9ab\", element=\"fde1a6a3-1106-43cb-b404-a2720268908f\")>,\n",
       " <selenium.webdriver.remote.webelement.WebElement (session=\"9e3da16ae5303abbb1c2862e90c9a9ab\", element=\"d02effa4-eda8-4946-8b76-a6ce1c7ce3c7\")>,\n",
       " <selenium.webdriver.remote.webelement.WebElement (session=\"9e3da16ae5303abbb1c2862e90c9a9ab\", element=\"39250110-6fb8-4003-8d1b-f224a4611bc7\")>,\n",
       " <selenium.webdriver.remote.webelement.WebElement (session=\"9e3da16ae5303abbb1c2862e90c9a9ab\", element=\"5c8645bf-8588-45c4-a8d4-fafdb4d3ea05\")>,\n",
       " <selenium.webdriver.remote.webelement.WebElement (session=\"9e3da16ae5303abbb1c2862e90c9a9ab\", element=\"d439ec98-bba8-4461-bca9-e3ede3984186\")>,\n",
       " <selenium.webdriver.remote.webelement.WebElement (session=\"9e3da16ae5303abbb1c2862e90c9a9ab\", element=\"1d99381d-cd2f-414a-bb10-7d1ddd846f43\")>,\n",
       " <selenium.webdriver.remote.webelement.WebElement (session=\"9e3da16ae5303abbb1c2862e90c9a9ab\", element=\"c16fb117-2d84-4d6b-badc-0d45599738de\")>,\n",
       " <selenium.webdriver.remote.webelement.WebElement (session=\"9e3da16ae5303abbb1c2862e90c9a9ab\", element=\"8d345398-28f2-4860-b0eb-3d92263c30ea\")>,\n",
       " <selenium.webdriver.remote.webelement.WebElement (session=\"9e3da16ae5303abbb1c2862e90c9a9ab\", element=\"83f8bfcb-c48d-4a9e-b099-23f6a9201319\")>,\n",
       " <selenium.webdriver.remote.webelement.WebElement (session=\"9e3da16ae5303abbb1c2862e90c9a9ab\", element=\"866f9a5f-3ffd-4e4b-8b55-2ac8d5abc171\")>,\n",
       " <selenium.webdriver.remote.webelement.WebElement (session=\"9e3da16ae5303abbb1c2862e90c9a9ab\", element=\"208f4b22-471e-42b0-a630-a1c8c8ce6c9d\")>,\n",
       " <selenium.webdriver.remote.webelement.WebElement (session=\"9e3da16ae5303abbb1c2862e90c9a9ab\", element=\"aab904ce-6a68-4256-8302-605f8463e3d8\")>,\n",
       " <selenium.webdriver.remote.webelement.WebElement (session=\"9e3da16ae5303abbb1c2862e90c9a9ab\", element=\"a607de73-38f6-43e1-b3bb-01090fbc7f25\")>,\n",
       " <selenium.webdriver.remote.webelement.WebElement (session=\"9e3da16ae5303abbb1c2862e90c9a9ab\", element=\"674dfeda-693b-47b9-98d0-5a6d917fa86b\")>,\n",
       " <selenium.webdriver.remote.webelement.WebElement (session=\"9e3da16ae5303abbb1c2862e90c9a9ab\", element=\"1adc8270-9737-48f0-9843-e9c715dec1ee\")>,\n",
       " <selenium.webdriver.remote.webelement.WebElement (session=\"9e3da16ae5303abbb1c2862e90c9a9ab\", element=\"ec6ad86e-1083-487a-8394-810ecf42e9dd\")>,\n",
       " <selenium.webdriver.remote.webelement.WebElement (session=\"9e3da16ae5303abbb1c2862e90c9a9ab\", element=\"b6d60a29-9916-403c-8c62-20d41f22295c\")>,\n",
       " <selenium.webdriver.remote.webelement.WebElement (session=\"9e3da16ae5303abbb1c2862e90c9a9ab\", element=\"0ec679b6-9c38-4f70-9781-ce78b3698cef\")>,\n",
       " <selenium.webdriver.remote.webelement.WebElement (session=\"9e3da16ae5303abbb1c2862e90c9a9ab\", element=\"a61c25c9-0abf-411d-bb3f-caad41ded239\")>,\n",
       " <selenium.webdriver.remote.webelement.WebElement (session=\"9e3da16ae5303abbb1c2862e90c9a9ab\", element=\"e55b44d5-0bee-4388-8bf9-ae3cf15f04e6\")>,\n",
       " <selenium.webdriver.remote.webelement.WebElement (session=\"9e3da16ae5303abbb1c2862e90c9a9ab\", element=\"03a98319-2535-4247-90b5-94d223d9d109\")>,\n",
       " <selenium.webdriver.remote.webelement.WebElement (session=\"9e3da16ae5303abbb1c2862e90c9a9ab\", element=\"742de4e2-4b3e-41aa-8c0d-1e7cec322b6b\")>,\n",
       " <selenium.webdriver.remote.webelement.WebElement (session=\"9e3da16ae5303abbb1c2862e90c9a9ab\", element=\"bc925d64-7e64-4bfe-ad68-04621bff6fee\")>,\n",
       " <selenium.webdriver.remote.webelement.WebElement (session=\"9e3da16ae5303abbb1c2862e90c9a9ab\", element=\"4e661e69-69d7-4357-a2c0-2fc0afcd1864\")>,\n",
       " <selenium.webdriver.remote.webelement.WebElement (session=\"9e3da16ae5303abbb1c2862e90c9a9ab\", element=\"c38a5a09-7882-4ac8-bfdb-043c17c155c4\")>,\n",
       " <selenium.webdriver.remote.webelement.WebElement (session=\"9e3da16ae5303abbb1c2862e90c9a9ab\", element=\"43ae2332-ff81-4654-b859-5a9357009389\")>,\n",
       " <selenium.webdriver.remote.webelement.WebElement (session=\"9e3da16ae5303abbb1c2862e90c9a9ab\", element=\"884d5f58-995f-4258-a189-2557cdfa1477\")>,\n",
       " <selenium.webdriver.remote.webelement.WebElement (session=\"9e3da16ae5303abbb1c2862e90c9a9ab\", element=\"08acde28-81e0-446a-a074-0aa8b1186314\")>,\n",
       " <selenium.webdriver.remote.webelement.WebElement (session=\"9e3da16ae5303abbb1c2862e90c9a9ab\", element=\"6629c113-336d-4927-921e-d47bf44c66e5\")>,\n",
       " <selenium.webdriver.remote.webelement.WebElement (session=\"9e3da16ae5303abbb1c2862e90c9a9ab\", element=\"dcee1f9f-953e-474b-81d8-e9efe2f2878e\")>,\n",
       " <selenium.webdriver.remote.webelement.WebElement (session=\"9e3da16ae5303abbb1c2862e90c9a9ab\", element=\"ec47dd5a-a442-4a35-bf25-c629df5a1599\")>,\n",
       " <selenium.webdriver.remote.webelement.WebElement (session=\"9e3da16ae5303abbb1c2862e90c9a9ab\", element=\"4f2f49e1-0231-4d34-9a91-25946990688b\")>,\n",
       " <selenium.webdriver.remote.webelement.WebElement (session=\"9e3da16ae5303abbb1c2862e90c9a9ab\", element=\"e6e2f874-b3d3-49dd-b6df-f68ee4c6eeba\")>,\n",
       " <selenium.webdriver.remote.webelement.WebElement (session=\"9e3da16ae5303abbb1c2862e90c9a9ab\", element=\"6440d79b-3e00-41c6-bc33-f1cf541f5a7a\")>,\n",
       " <selenium.webdriver.remote.webelement.WebElement (session=\"9e3da16ae5303abbb1c2862e90c9a9ab\", element=\"a7c66f28-78a3-489f-ae59-5f7095bc1564\")>,\n",
       " <selenium.webdriver.remote.webelement.WebElement (session=\"9e3da16ae5303abbb1c2862e90c9a9ab\", element=\"08db9156-f8f7-431d-8a89-160fce736f61\")>,\n",
       " <selenium.webdriver.remote.webelement.WebElement (session=\"9e3da16ae5303abbb1c2862e90c9a9ab\", element=\"2778f31d-1686-4888-893c-5df8a65bb67f\")>,\n",
       " <selenium.webdriver.remote.webelement.WebElement (session=\"9e3da16ae5303abbb1c2862e90c9a9ab\", element=\"a78605e1-7c7b-4ef0-912b-4890200d7564\")>,\n",
       " <selenium.webdriver.remote.webelement.WebElement (session=\"9e3da16ae5303abbb1c2862e90c9a9ab\", element=\"d53a0e69-6373-428f-8508-c698c4f69a23\")>,\n",
       " <selenium.webdriver.remote.webelement.WebElement (session=\"9e3da16ae5303abbb1c2862e90c9a9ab\", element=\"ace1426c-4e83-401f-b786-778c9788cab7\")>,\n",
       " <selenium.webdriver.remote.webelement.WebElement (session=\"9e3da16ae5303abbb1c2862e90c9a9ab\", element=\"65e01c67-628a-4ff9-a9c7-16e17a468286\")>,\n",
       " <selenium.webdriver.remote.webelement.WebElement (session=\"9e3da16ae5303abbb1c2862e90c9a9ab\", element=\"8af2e585-2bfd-493e-a7ef-81fa8b8c34d4\")>,\n",
       " <selenium.webdriver.remote.webelement.WebElement (session=\"9e3da16ae5303abbb1c2862e90c9a9ab\", element=\"4f2fc718-8e32-4767-b201-15ca69f6feed\")>,\n",
       " <selenium.webdriver.remote.webelement.WebElement (session=\"9e3da16ae5303abbb1c2862e90c9a9ab\", element=\"35d17acc-dc4c-4ce0-9f39-622d3a21f8d7\")>,\n",
       " <selenium.webdriver.remote.webelement.WebElement (session=\"9e3da16ae5303abbb1c2862e90c9a9ab\", element=\"12f344d4-3888-4e1e-a60d-d7e809e6e524\")>,\n",
       " <selenium.webdriver.remote.webelement.WebElement (session=\"9e3da16ae5303abbb1c2862e90c9a9ab\", element=\"f8695cbd-f8e4-4239-9211-9a02e036944c\")>,\n",
       " <selenium.webdriver.remote.webelement.WebElement (session=\"9e3da16ae5303abbb1c2862e90c9a9ab\", element=\"92f62eaf-a965-4618-8f2c-9383ea0f10e7\")>,\n",
       " <selenium.webdriver.remote.webelement.WebElement (session=\"9e3da16ae5303abbb1c2862e90c9a9ab\", element=\"81b548c9-aad1-4ce7-9b01-e6c196bcc7ab\")>,\n",
       " <selenium.webdriver.remote.webelement.WebElement (session=\"9e3da16ae5303abbb1c2862e90c9a9ab\", element=\"2dbb5cbf-ba90-4489-8790-c8818ba2fae8\")>,\n",
       " <selenium.webdriver.remote.webelement.WebElement (session=\"9e3da16ae5303abbb1c2862e90c9a9ab\", element=\"004a1909-d0c7-4ce7-962a-d02f314bfff1\")>,\n",
       " <selenium.webdriver.remote.webelement.WebElement (session=\"9e3da16ae5303abbb1c2862e90c9a9ab\", element=\"409dbd45-cae7-4f6c-a253-76502663092a\")>,\n",
       " <selenium.webdriver.remote.webelement.WebElement (session=\"9e3da16ae5303abbb1c2862e90c9a9ab\", element=\"c5cb64c5-6d47-4e76-be4d-51ddf9fd06f0\")>,\n",
       " <selenium.webdriver.remote.webelement.WebElement (session=\"9e3da16ae5303abbb1c2862e90c9a9ab\", element=\"f468cd9d-3839-48e3-9619-41bf440fa2c6\")>,\n",
       " <selenium.webdriver.remote.webelement.WebElement (session=\"9e3da16ae5303abbb1c2862e90c9a9ab\", element=\"28e7925e-856b-426c-87aa-e73d587c27e9\")>,\n",
       " <selenium.webdriver.remote.webelement.WebElement (session=\"9e3da16ae5303abbb1c2862e90c9a9ab\", element=\"f51c5e55-2e05-49ff-9af5-4f34d4ded9a6\")>,\n",
       " <selenium.webdriver.remote.webelement.WebElement (session=\"9e3da16ae5303abbb1c2862e90c9a9ab\", element=\"05691abc-ff28-4b08-8f85-8584b910e33c\")>,\n",
       " <selenium.webdriver.remote.webelement.WebElement (session=\"9e3da16ae5303abbb1c2862e90c9a9ab\", element=\"467d7148-b250-400a-89c1-6ed40fe8f6bd\")>,\n",
       " <selenium.webdriver.remote.webelement.WebElement (session=\"9e3da16ae5303abbb1c2862e90c9a9ab\", element=\"f4db0172-6c22-492f-8766-7e7a8be92af0\")>,\n",
       " <selenium.webdriver.remote.webelement.WebElement (session=\"9e3da16ae5303abbb1c2862e90c9a9ab\", element=\"05ff037a-ebb1-46a0-b0c7-7387c13c5aa1\")>,\n",
       " <selenium.webdriver.remote.webelement.WebElement (session=\"9e3da16ae5303abbb1c2862e90c9a9ab\", element=\"afa83513-89fd-4da1-a317-7fac1665dc19\")>,\n",
       " <selenium.webdriver.remote.webelement.WebElement (session=\"9e3da16ae5303abbb1c2862e90c9a9ab\", element=\"26f69fb5-b40d-4f7d-8f6b-ab328c84fbb8\")>,\n",
       " <selenium.webdriver.remote.webelement.WebElement (session=\"9e3da16ae5303abbb1c2862e90c9a9ab\", element=\"6812a5c5-3af7-4437-81ff-91d7fe06049b\")>,\n",
       " <selenium.webdriver.remote.webelement.WebElement (session=\"9e3da16ae5303abbb1c2862e90c9a9ab\", element=\"7df445a6-c415-41f0-b288-06f5b4e39f9f\")>,\n",
       " <selenium.webdriver.remote.webelement.WebElement (session=\"9e3da16ae5303abbb1c2862e90c9a9ab\", element=\"845d4c51-67d7-404c-bd3f-a1b4a31c5ca4\")>,\n",
       " <selenium.webdriver.remote.webelement.WebElement (session=\"9e3da16ae5303abbb1c2862e90c9a9ab\", element=\"4a09df5e-1929-4e1f-8f08-29a9632c5b68\")>,\n",
       " <selenium.webdriver.remote.webelement.WebElement (session=\"9e3da16ae5303abbb1c2862e90c9a9ab\", element=\"3ee11542-6471-4b45-9f2c-a9048f25bcb6\")>,\n",
       " <selenium.webdriver.remote.webelement.WebElement (session=\"9e3da16ae5303abbb1c2862e90c9a9ab\", element=\"83acdb2f-ca54-40b3-843e-eecc7f42d548\")>,\n",
       " <selenium.webdriver.remote.webelement.WebElement (session=\"9e3da16ae5303abbb1c2862e90c9a9ab\", element=\"507fd758-cfdf-466f-934e-e343c6f012b3\")>,\n",
       " <selenium.webdriver.remote.webelement.WebElement (session=\"9e3da16ae5303abbb1c2862e90c9a9ab\", element=\"414206c9-5a3b-442a-bbc3-996aae71173a\")>,\n",
       " <selenium.webdriver.remote.webelement.WebElement (session=\"9e3da16ae5303abbb1c2862e90c9a9ab\", element=\"b19d6ce7-7ae4-4958-9e67-c4300b09a68e\")>,\n",
       " <selenium.webdriver.remote.webelement.WebElement (session=\"9e3da16ae5303abbb1c2862e90c9a9ab\", element=\"8a4ea50b-e13b-44c0-a84a-44017bdf723d\")>,\n",
       " <selenium.webdriver.remote.webelement.WebElement (session=\"9e3da16ae5303abbb1c2862e90c9a9ab\", element=\"0779ce68-a64d-40e7-a35c-d68aa6835664\")>,\n",
       " <selenium.webdriver.remote.webelement.WebElement (session=\"9e3da16ae5303abbb1c2862e90c9a9ab\", element=\"dd3caa02-f918-4475-8d90-4b574c2457e8\")>,\n",
       " <selenium.webdriver.remote.webelement.WebElement (session=\"9e3da16ae5303abbb1c2862e90c9a9ab\", element=\"ab989b15-1d88-4d46-8265-d8d1c70f4691\")>,\n",
       " <selenium.webdriver.remote.webelement.WebElement (session=\"9e3da16ae5303abbb1c2862e90c9a9ab\", element=\"7938b508-0873-42a2-8d48-da12b1df4b2e\")>,\n",
       " <selenium.webdriver.remote.webelement.WebElement (session=\"9e3da16ae5303abbb1c2862e90c9a9ab\", element=\"74be38fb-71b9-41a6-864e-90a6c4eca848\")>,\n",
       " <selenium.webdriver.remote.webelement.WebElement (session=\"9e3da16ae5303abbb1c2862e90c9a9ab\", element=\"ee2dccc4-35e0-48cd-9a3e-63ce6d1e2c8b\")>,\n",
       " <selenium.webdriver.remote.webelement.WebElement (session=\"9e3da16ae5303abbb1c2862e90c9a9ab\", element=\"6db1846b-9b7c-4a43-a8a9-c90adf8bec7a\")>,\n",
       " <selenium.webdriver.remote.webelement.WebElement (session=\"9e3da16ae5303abbb1c2862e90c9a9ab\", element=\"81b194bd-b3a2-4b77-b90e-aa3f0a339d35\")>,\n",
       " <selenium.webdriver.remote.webelement.WebElement (session=\"9e3da16ae5303abbb1c2862e90c9a9ab\", element=\"52373d77-2b35-4dea-9b10-91d1a7974921\")>,\n",
       " <selenium.webdriver.remote.webelement.WebElement (session=\"9e3da16ae5303abbb1c2862e90c9a9ab\", element=\"bd995e25-2a84-4b6d-b267-96472b5b3557\")>,\n",
       " <selenium.webdriver.remote.webelement.WebElement (session=\"9e3da16ae5303abbb1c2862e90c9a9ab\", element=\"fcc9e0ec-057f-47a6-9178-92d0abde5499\")>,\n",
       " <selenium.webdriver.remote.webelement.WebElement (session=\"9e3da16ae5303abbb1c2862e90c9a9ab\", element=\"fc3f1029-7195-46f4-bdf6-9f6862ae6063\")>,\n",
       " <selenium.webdriver.remote.webelement.WebElement (session=\"9e3da16ae5303abbb1c2862e90c9a9ab\", element=\"9a8c27a2-c3c2-44fd-941a-413bb450e752\")>,\n",
       " <selenium.webdriver.remote.webelement.WebElement (session=\"9e3da16ae5303abbb1c2862e90c9a9ab\", element=\"98057b05-966c-4282-b73e-ba8937dc910b\")>,\n",
       " <selenium.webdriver.remote.webelement.WebElement (session=\"9e3da16ae5303abbb1c2862e90c9a9ab\", element=\"1f25103c-147e-45d8-9987-706b94d8f008\")>,\n",
       " <selenium.webdriver.remote.webelement.WebElement (session=\"9e3da16ae5303abbb1c2862e90c9a9ab\", element=\"71d4a1b8-5a37-4f52-8d12-cecc69158b1e\")>,\n",
       " <selenium.webdriver.remote.webelement.WebElement (session=\"9e3da16ae5303abbb1c2862e90c9a9ab\", element=\"d0006fb9-d362-48cf-a8bd-6049b8188d37\")>,\n",
       " <selenium.webdriver.remote.webelement.WebElement (session=\"9e3da16ae5303abbb1c2862e90c9a9ab\", element=\"82dcef44-fb04-4285-8dda-b63ff1a69844\")>,\n",
       " <selenium.webdriver.remote.webelement.WebElement (session=\"9e3da16ae5303abbb1c2862e90c9a9ab\", element=\"9994f0e7-e93a-41b1-afc9-b4750046ddb5\")>,\n",
       " <selenium.webdriver.remote.webelement.WebElement (session=\"9e3da16ae5303abbb1c2862e90c9a9ab\", element=\"c6841e5b-38c1-4026-9973-641409d4cd4d\")>,\n",
       " <selenium.webdriver.remote.webelement.WebElement (session=\"9e3da16ae5303abbb1c2862e90c9a9ab\", element=\"a3ee4c34-4daf-41d8-9bed-668bc09b29f1\")>,\n",
       " <selenium.webdriver.remote.webelement.WebElement (session=\"9e3da16ae5303abbb1c2862e90c9a9ab\", element=\"29e1e002-ef32-4392-b010-3215128693b6\")>,\n",
       " <selenium.webdriver.remote.webelement.WebElement (session=\"9e3da16ae5303abbb1c2862e90c9a9ab\", element=\"927db755-f513-46bd-9efa-7e7b118a9456\")>,\n",
       " <selenium.webdriver.remote.webelement.WebElement (session=\"9e3da16ae5303abbb1c2862e90c9a9ab\", element=\"5d559e3e-fb02-4622-b291-d729df157c5b\")>,\n",
       " <selenium.webdriver.remote.webelement.WebElement (session=\"9e3da16ae5303abbb1c2862e90c9a9ab\", element=\"084fc42d-acfd-4ddf-8422-eaa0ceb7e6ab\")>,\n",
       " <selenium.webdriver.remote.webelement.WebElement (session=\"9e3da16ae5303abbb1c2862e90c9a9ab\", element=\"0e20d6c8-16d1-4734-bbd7-2aa525572ff5\")>,\n",
       " <selenium.webdriver.remote.webelement.WebElement (session=\"9e3da16ae5303abbb1c2862e90c9a9ab\", element=\"260ee10a-ae76-4c6b-9345-7d67ef31b6dc\")>,\n",
       " <selenium.webdriver.remote.webelement.WebElement (session=\"9e3da16ae5303abbb1c2862e90c9a9ab\", element=\"933be199-0955-49c2-8727-acb76486ce2a\")>,\n",
       " <selenium.webdriver.remote.webelement.WebElement (session=\"9e3da16ae5303abbb1c2862e90c9a9ab\", element=\"3703d19d-ad49-4278-b011-62d61bcdecce\")>,\n",
       " <selenium.webdriver.remote.webelement.WebElement (session=\"9e3da16ae5303abbb1c2862e90c9a9ab\", element=\"779e8261-9016-4efe-a0fb-1afa9d672940\")>,\n",
       " <selenium.webdriver.remote.webelement.WebElement (session=\"9e3da16ae5303abbb1c2862e90c9a9ab\", element=\"53e4ceb7-44d1-40cb-bbe1-5482b8caf0d2\")>,\n",
       " <selenium.webdriver.remote.webelement.WebElement (session=\"9e3da16ae5303abbb1c2862e90c9a9ab\", element=\"1408603d-e834-49fd-bdba-2c01bee85fed\")>,\n",
       " <selenium.webdriver.remote.webelement.WebElement (session=\"9e3da16ae5303abbb1c2862e90c9a9ab\", element=\"0db7180d-5df7-4dbd-acee-d78b63b3d3dc\")>,\n",
       " <selenium.webdriver.remote.webelement.WebElement (session=\"9e3da16ae5303abbb1c2862e90c9a9ab\", element=\"e29d7fc9-4646-4494-96e7-d3175bed673d\")>,\n",
       " <selenium.webdriver.remote.webelement.WebElement (session=\"9e3da16ae5303abbb1c2862e90c9a9ab\", element=\"3f7b133d-5ddf-47bd-a774-81e70c06175b\")>,\n",
       " <selenium.webdriver.remote.webelement.WebElement (session=\"9e3da16ae5303abbb1c2862e90c9a9ab\", element=\"32647578-46ac-4244-aef5-6735c306dad0\")>,\n",
       " <selenium.webdriver.remote.webelement.WebElement (session=\"9e3da16ae5303abbb1c2862e90c9a9ab\", element=\"c45963f9-1b24-4615-aba2-28126bffa9c7\")>,\n",
       " <selenium.webdriver.remote.webelement.WebElement (session=\"9e3da16ae5303abbb1c2862e90c9a9ab\", element=\"4202747e-fb37-43df-b9df-e9c7656f383a\")>,\n",
       " <selenium.webdriver.remote.webelement.WebElement (session=\"9e3da16ae5303abbb1c2862e90c9a9ab\", element=\"fd7d4dfe-937b-439b-a61d-45d12a8564d2\")>,\n",
       " <selenium.webdriver.remote.webelement.WebElement (session=\"9e3da16ae5303abbb1c2862e90c9a9ab\", element=\"85c4837d-3600-4fcb-9564-75ab17445ac5\")>,\n",
       " <selenium.webdriver.remote.webelement.WebElement (session=\"9e3da16ae5303abbb1c2862e90c9a9ab\", element=\"f15c78fc-383e-4924-9912-5dce000c006c\")>,\n",
       " <selenium.webdriver.remote.webelement.WebElement (session=\"9e3da16ae5303abbb1c2862e90c9a9ab\", element=\"75140cde-6b83-425a-919b-b872e3d64e10\")>,\n",
       " <selenium.webdriver.remote.webelement.WebElement (session=\"9e3da16ae5303abbb1c2862e90c9a9ab\", element=\"89d618e7-c13a-4745-b6ab-7fc79ebf4759\")>,\n",
       " <selenium.webdriver.remote.webelement.WebElement (session=\"9e3da16ae5303abbb1c2862e90c9a9ab\", element=\"295df38b-5664-407a-9fd7-2eef922fe48a\")>,\n",
       " <selenium.webdriver.remote.webelement.WebElement (session=\"9e3da16ae5303abbb1c2862e90c9a9ab\", element=\"ce4c2c6f-5393-4a47-bfa0-56fa6685fc2a\")>,\n",
       " <selenium.webdriver.remote.webelement.WebElement (session=\"9e3da16ae5303abbb1c2862e90c9a9ab\", element=\"d3e6349d-c1d7-4871-a672-6668df4f350e\")>,\n",
       " <selenium.webdriver.remote.webelement.WebElement (session=\"9e3da16ae5303abbb1c2862e90c9a9ab\", element=\"9c3cc4ae-7f90-4a5a-8036-5a52c5da9c0d\")>,\n",
       " <selenium.webdriver.remote.webelement.WebElement (session=\"9e3da16ae5303abbb1c2862e90c9a9ab\", element=\"fae75448-e496-421e-9f90-664ba852af2a\")>,\n",
       " <selenium.webdriver.remote.webelement.WebElement (session=\"9e3da16ae5303abbb1c2862e90c9a9ab\", element=\"cdb6c73a-dc61-4ebf-adff-cfb5d081a8a6\")>,\n",
       " <selenium.webdriver.remote.webelement.WebElement (session=\"9e3da16ae5303abbb1c2862e90c9a9ab\", element=\"e15439a9-fd40-4458-bb51-f8094cb9315d\")>,\n",
       " <selenium.webdriver.remote.webelement.WebElement (session=\"9e3da16ae5303abbb1c2862e90c9a9ab\", element=\"3b701b9a-988d-4ce7-b493-457af40fcc56\")>,\n",
       " <selenium.webdriver.remote.webelement.WebElement (session=\"9e3da16ae5303abbb1c2862e90c9a9ab\", element=\"7be9079e-4b0b-474e-ae28-bf08d2c570b3\")>,\n",
       " <selenium.webdriver.remote.webelement.WebElement (session=\"9e3da16ae5303abbb1c2862e90c9a9ab\", element=\"a5d70a63-a6d6-4e91-a466-6bb38bede891\")>,\n",
       " <selenium.webdriver.remote.webelement.WebElement (session=\"9e3da16ae5303abbb1c2862e90c9a9ab\", element=\"9a96acaf-1ae2-4438-8263-7d58f424a832\")>,\n",
       " <selenium.webdriver.remote.webelement.WebElement (session=\"9e3da16ae5303abbb1c2862e90c9a9ab\", element=\"6ee8986b-9ed7-470c-bf67-07be768537fe\")>,\n",
       " <selenium.webdriver.remote.webelement.WebElement (session=\"9e3da16ae5303abbb1c2862e90c9a9ab\", element=\"0e191d40-334b-4de1-8bb0-5f8baf3269ef\")>,\n",
       " <selenium.webdriver.remote.webelement.WebElement (session=\"9e3da16ae5303abbb1c2862e90c9a9ab\", element=\"42f70293-4222-4a5a-812f-bc991de02551\")>,\n",
       " <selenium.webdriver.remote.webelement.WebElement (session=\"9e3da16ae5303abbb1c2862e90c9a9ab\", element=\"17e3c6b8-6728-40b0-b0a4-b11a8a6fc84e\")>,\n",
       " <selenium.webdriver.remote.webelement.WebElement (session=\"9e3da16ae5303abbb1c2862e90c9a9ab\", element=\"d72a943c-e33a-460b-8a6a-006d5fb058cb\")>,\n",
       " <selenium.webdriver.remote.webelement.WebElement (session=\"9e3da16ae5303abbb1c2862e90c9a9ab\", element=\"3119dd0a-b621-462f-ae4b-ddc5234fd095\")>,\n",
       " <selenium.webdriver.remote.webelement.WebElement (session=\"9e3da16ae5303abbb1c2862e90c9a9ab\", element=\"ef5e6e04-c5d4-4972-a1c0-617481af3807\")>,\n",
       " <selenium.webdriver.remote.webelement.WebElement (session=\"9e3da16ae5303abbb1c2862e90c9a9ab\", element=\"565f1cde-36f6-49c1-bc60-68d1c5529495\")>,\n",
       " <selenium.webdriver.remote.webelement.WebElement (session=\"9e3da16ae5303abbb1c2862e90c9a9ab\", element=\"d61424b2-2474-487e-a9a6-8f29e81586d0\")>,\n",
       " <selenium.webdriver.remote.webelement.WebElement (session=\"9e3da16ae5303abbb1c2862e90c9a9ab\", element=\"3f2ed838-6f7d-4b51-8d5d-2b30b6caf7df\")>,\n",
       " <selenium.webdriver.remote.webelement.WebElement (session=\"9e3da16ae5303abbb1c2862e90c9a9ab\", element=\"dccc7761-a38a-4fb6-808b-c8e07536f0fb\")>,\n",
       " <selenium.webdriver.remote.webelement.WebElement (session=\"9e3da16ae5303abbb1c2862e90c9a9ab\", element=\"1d3d210d-d72d-4be9-940e-a854b85eb5a1\")>,\n",
       " <selenium.webdriver.remote.webelement.WebElement (session=\"9e3da16ae5303abbb1c2862e90c9a9ab\", element=\"2af75abd-e2be-401e-a4a8-a847de7264fd\")>,\n",
       " <selenium.webdriver.remote.webelement.WebElement (session=\"9e3da16ae5303abbb1c2862e90c9a9ab\", element=\"101ddc55-012a-4b2a-af80-c5c711776589\")>,\n",
       " <selenium.webdriver.remote.webelement.WebElement (session=\"9e3da16ae5303abbb1c2862e90c9a9ab\", element=\"10302e7a-a268-4492-9a70-6033aa238677\")>,\n",
       " <selenium.webdriver.remote.webelement.WebElement (session=\"9e3da16ae5303abbb1c2862e90c9a9ab\", element=\"c786ced5-adef-4a94-a291-668f92ea46cf\")>,\n",
       " <selenium.webdriver.remote.webelement.WebElement (session=\"9e3da16ae5303abbb1c2862e90c9a9ab\", element=\"2f9bc8c2-c4d8-43ce-b980-c49e6788b1d1\")>,\n",
       " <selenium.webdriver.remote.webelement.WebElement (session=\"9e3da16ae5303abbb1c2862e90c9a9ab\", element=\"f21f2123-9899-4a59-86b6-b2da4e798bdd\")>,\n",
       " <selenium.webdriver.remote.webelement.WebElement (session=\"9e3da16ae5303abbb1c2862e90c9a9ab\", element=\"bc53ec98-e190-4612-afb0-0bd3067435e9\")>,\n",
       " <selenium.webdriver.remote.webelement.WebElement (session=\"9e3da16ae5303abbb1c2862e90c9a9ab\", element=\"cdcb6970-7fd6-4b10-beb1-27119ca5216a\")>,\n",
       " <selenium.webdriver.remote.webelement.WebElement (session=\"9e3da16ae5303abbb1c2862e90c9a9ab\", element=\"99392e4a-1306-47f5-8a12-6de08dd091ff\")>,\n",
       " <selenium.webdriver.remote.webelement.WebElement (session=\"9e3da16ae5303abbb1c2862e90c9a9ab\", element=\"b5b2d594-cf88-4fb7-b677-9ce626e25334\")>,\n",
       " <selenium.webdriver.remote.webelement.WebElement (session=\"9e3da16ae5303abbb1c2862e90c9a9ab\", element=\"fa994bea-642f-4748-8371-cea395045a17\")>,\n",
       " <selenium.webdriver.remote.webelement.WebElement (session=\"9e3da16ae5303abbb1c2862e90c9a9ab\", element=\"bdf804b7-357a-475f-98d6-064fefdd4110\")>,\n",
       " <selenium.webdriver.remote.webelement.WebElement (session=\"9e3da16ae5303abbb1c2862e90c9a9ab\", element=\"d702eabc-088c-41bc-bbf9-e5ebb0b2a848\")>,\n",
       " <selenium.webdriver.remote.webelement.WebElement (session=\"9e3da16ae5303abbb1c2862e90c9a9ab\", element=\"b1fe73f9-8af1-4b1d-919a-d222cbda41df\")>,\n",
       " <selenium.webdriver.remote.webelement.WebElement (session=\"9e3da16ae5303abbb1c2862e90c9a9ab\", element=\"e44d8a55-e6da-422b-bc71-95e5fafad210\")>,\n",
       " <selenium.webdriver.remote.webelement.WebElement (session=\"9e3da16ae5303abbb1c2862e90c9a9ab\", element=\"2a9da750-7fc9-4bdd-9f3c-3831d8440e91\")>,\n",
       " <selenium.webdriver.remote.webelement.WebElement (session=\"9e3da16ae5303abbb1c2862e90c9a9ab\", element=\"1cac47a2-0fdf-458f-b998-6ad555e969bb\")>,\n",
       " <selenium.webdriver.remote.webelement.WebElement (session=\"9e3da16ae5303abbb1c2862e90c9a9ab\", element=\"98b262d9-1c67-41f0-af2b-872ad40cf475\")>,\n",
       " <selenium.webdriver.remote.webelement.WebElement (session=\"9e3da16ae5303abbb1c2862e90c9a9ab\", element=\"9daee805-961c-4e68-a6dd-bbe0c9e89162\")>,\n",
       " <selenium.webdriver.remote.webelement.WebElement (session=\"9e3da16ae5303abbb1c2862e90c9a9ab\", element=\"5a8e41a7-19a3-4f14-9355-25d58a52622d\")>,\n",
       " <selenium.webdriver.remote.webelement.WebElement (session=\"9e3da16ae5303abbb1c2862e90c9a9ab\", element=\"35e31a3a-8224-4c0a-aafd-fcb471637a7b\")>,\n",
       " <selenium.webdriver.remote.webelement.WebElement (session=\"9e3da16ae5303abbb1c2862e90c9a9ab\", element=\"2b35cf8b-096d-4b69-bf40-ad20ccb5919b\")>,\n",
       " <selenium.webdriver.remote.webelement.WebElement (session=\"9e3da16ae5303abbb1c2862e90c9a9ab\", element=\"b73980c1-a94e-432e-a957-1d1f34745841\")>,\n",
       " <selenium.webdriver.remote.webelement.WebElement (session=\"9e3da16ae5303abbb1c2862e90c9a9ab\", element=\"4471c2fc-8f8e-468a-8858-165c70c5e00e\")>,\n",
       " <selenium.webdriver.remote.webelement.WebElement (session=\"9e3da16ae5303abbb1c2862e90c9a9ab\", element=\"1af0b15b-2c3a-45cb-87f8-9bb305da3bf1\")>,\n",
       " <selenium.webdriver.remote.webelement.WebElement (session=\"9e3da16ae5303abbb1c2862e90c9a9ab\", element=\"9aa95ab8-9f33-4ab7-81fb-7b272ac6c657\")>,\n",
       " <selenium.webdriver.remote.webelement.WebElement (session=\"9e3da16ae5303abbb1c2862e90c9a9ab\", element=\"6b6def71-521f-4a00-950c-c2b40e04ac9b\")>,\n",
       " <selenium.webdriver.remote.webelement.WebElement (session=\"9e3da16ae5303abbb1c2862e90c9a9ab\", element=\"58dc1ec2-6e3c-457b-94e0-4e587ab58acc\")>,\n",
       " <selenium.webdriver.remote.webelement.WebElement (session=\"9e3da16ae5303abbb1c2862e90c9a9ab\", element=\"7525fea6-68f6-4f16-a66f-932bc4da804e\")>,\n",
       " <selenium.webdriver.remote.webelement.WebElement (session=\"9e3da16ae5303abbb1c2862e90c9a9ab\", element=\"b57c0597-7f1c-4430-a4aa-0b6ad4f181ef\")>,\n",
       " <selenium.webdriver.remote.webelement.WebElement (session=\"9e3da16ae5303abbb1c2862e90c9a9ab\", element=\"62fc4ee7-9521-49f7-8eb6-5bdbd370c77c\")>,\n",
       " <selenium.webdriver.remote.webelement.WebElement (session=\"9e3da16ae5303abbb1c2862e90c9a9ab\", element=\"aad82020-d3fa-49bd-a408-46d6feebfa83\")>,\n",
       " <selenium.webdriver.remote.webelement.WebElement (session=\"9e3da16ae5303abbb1c2862e90c9a9ab\", element=\"bc9b0528-8cdd-4587-a0cf-45401d4daa38\")>,\n",
       " <selenium.webdriver.remote.webelement.WebElement (session=\"9e3da16ae5303abbb1c2862e90c9a9ab\", element=\"5e1a2c8c-f107-4759-8531-28da9e71dd16\")>,\n",
       " <selenium.webdriver.remote.webelement.WebElement (session=\"9e3da16ae5303abbb1c2862e90c9a9ab\", element=\"863cfaea-41ba-4508-8fa9-b631f4baa8cf\")>,\n",
       " <selenium.webdriver.remote.webelement.WebElement (session=\"9e3da16ae5303abbb1c2862e90c9a9ab\", element=\"adbd50b7-416f-46e5-a31a-0a47559299fd\")>,\n",
       " <selenium.webdriver.remote.webelement.WebElement (session=\"9e3da16ae5303abbb1c2862e90c9a9ab\", element=\"e9d52d9e-d29a-475f-8efc-95038bbf4312\")>,\n",
       " <selenium.webdriver.remote.webelement.WebElement (session=\"9e3da16ae5303abbb1c2862e90c9a9ab\", element=\"2586ecca-1fc4-4dac-9803-d1d7ee2ff126\")>,\n",
       " <selenium.webdriver.remote.webelement.WebElement (session=\"9e3da16ae5303abbb1c2862e90c9a9ab\", element=\"c82d4640-0333-45b3-bdb3-a3bcd9f9de51\")>,\n",
       " <selenium.webdriver.remote.webelement.WebElement (session=\"9e3da16ae5303abbb1c2862e90c9a9ab\", element=\"058798c3-0d7e-4a2b-b940-92135d5269bf\")>,\n",
       " <selenium.webdriver.remote.webelement.WebElement (session=\"9e3da16ae5303abbb1c2862e90c9a9ab\", element=\"0b7043dd-5c5a-474b-a47b-414b55daf4f4\")>,\n",
       " <selenium.webdriver.remote.webelement.WebElement (session=\"9e3da16ae5303abbb1c2862e90c9a9ab\", element=\"95b282da-3a51-4663-b1dc-62fa8ea08e70\")>,\n",
       " <selenium.webdriver.remote.webelement.WebElement (session=\"9e3da16ae5303abbb1c2862e90c9a9ab\", element=\"abee817d-40d8-4992-a93d-c66013e2268d\")>,\n",
       " <selenium.webdriver.remote.webelement.WebElement (session=\"9e3da16ae5303abbb1c2862e90c9a9ab\", element=\"d2d180e4-0b8f-4dae-8bd6-1b1bef5e2e16\")>,\n",
       " <selenium.webdriver.remote.webelement.WebElement (session=\"9e3da16ae5303abbb1c2862e90c9a9ab\", element=\"73450f99-3c71-407a-9eb4-8a218cbc4c90\")>,\n",
       " <selenium.webdriver.remote.webelement.WebElement (session=\"9e3da16ae5303abbb1c2862e90c9a9ab\", element=\"4557c22a-0707-4b30-92c6-1c915f6c2ec3\")>,\n",
       " <selenium.webdriver.remote.webelement.WebElement (session=\"9e3da16ae5303abbb1c2862e90c9a9ab\", element=\"77bebbec-21ba-4db5-ae6e-a3e0e96edd07\")>,\n",
       " <selenium.webdriver.remote.webelement.WebElement (session=\"9e3da16ae5303abbb1c2862e90c9a9ab\", element=\"744e5422-db8c-4f32-87c2-8fb1168621a8\")>,\n",
       " <selenium.webdriver.remote.webelement.WebElement (session=\"9e3da16ae5303abbb1c2862e90c9a9ab\", element=\"fd80ab3e-d1ed-4e0f-8db2-21b10f329e82\")>,\n",
       " <selenium.webdriver.remote.webelement.WebElement (session=\"9e3da16ae5303abbb1c2862e90c9a9ab\", element=\"6b1b0f3a-9bfc-407a-8d76-b3ccdef695ec\")>,\n",
       " <selenium.webdriver.remote.webelement.WebElement (session=\"9e3da16ae5303abbb1c2862e90c9a9ab\", element=\"e300b8fc-19e3-471b-9ff2-bed6f9b432d5\")>,\n",
       " <selenium.webdriver.remote.webelement.WebElement (session=\"9e3da16ae5303abbb1c2862e90c9a9ab\", element=\"3b35131c-e72f-467b-8021-90543e5915a2\")>,\n",
       " <selenium.webdriver.remote.webelement.WebElement (session=\"9e3da16ae5303abbb1c2862e90c9a9ab\", element=\"a021a7be-c97f-442e-b8ef-99fda514c66b\")>,\n",
       " <selenium.webdriver.remote.webelement.WebElement (session=\"9e3da16ae5303abbb1c2862e90c9a9ab\", element=\"ab07cbda-e4eb-4489-bca4-4a64635b60d0\")>,\n",
       " <selenium.webdriver.remote.webelement.WebElement (session=\"9e3da16ae5303abbb1c2862e90c9a9ab\", element=\"6b5d1c6d-6475-46c0-9c68-237e90cc3e21\")>,\n",
       " <selenium.webdriver.remote.webelement.WebElement (session=\"9e3da16ae5303abbb1c2862e90c9a9ab\", element=\"53d3ea82-953b-40b7-a8bb-d4459ebecd25\")>,\n",
       " <selenium.webdriver.remote.webelement.WebElement (session=\"9e3da16ae5303abbb1c2862e90c9a9ab\", element=\"50cc49f1-880a-475a-87c6-76dd15a01c25\")>,\n",
       " <selenium.webdriver.remote.webelement.WebElement (session=\"9e3da16ae5303abbb1c2862e90c9a9ab\", element=\"2395e26c-5c0d-4b83-ad0c-631d35695865\")>,\n",
       " <selenium.webdriver.remote.webelement.WebElement (session=\"9e3da16ae5303abbb1c2862e90c9a9ab\", element=\"e15a08ce-2d75-4419-9b2f-90e39154bcab\")>,\n",
       " <selenium.webdriver.remote.webelement.WebElement (session=\"9e3da16ae5303abbb1c2862e90c9a9ab\", element=\"e9192cf6-ae81-4254-8322-916d3f8d7ff6\")>,\n",
       " <selenium.webdriver.remote.webelement.WebElement (session=\"9e3da16ae5303abbb1c2862e90c9a9ab\", element=\"08f3fedb-dcdb-46dc-86f5-6f394ad354d5\")>,\n",
       " <selenium.webdriver.remote.webelement.WebElement (session=\"9e3da16ae5303abbb1c2862e90c9a9ab\", element=\"dbded4ba-5d67-402c-9c63-3c94dccc8fce\")>,\n",
       " <selenium.webdriver.remote.webelement.WebElement (session=\"9e3da16ae5303abbb1c2862e90c9a9ab\", element=\"76e2317f-7337-46e9-8f03-77ee38869919\")>]"
      ]
     },
     "execution_count": 9,
     "metadata": {},
     "output_type": "execute_result"
    }
   ],
   "source": [
    "tds"
   ]
  },
  {
   "cell_type": "code",
   "execution_count": 22,
   "metadata": {},
   "outputs": [],
   "source": [
    "a =[]\n",
    "for td in tds:\n",
    "    try:\n",
    "        a.append(td.find_element_by_css_selector(\"a\"))\n",
    "    except:\n",
    "        pass"
   ]
  },
  {
   "cell_type": "code",
   "execution_count": 23,
   "metadata": {
    "collapsed": true
   },
   "outputs": [
    {
     "data": {
      "text/plain": [
       "[<selenium.webdriver.remote.webelement.WebElement (session=\"9e3da16ae5303abbb1c2862e90c9a9ab\", element=\"04322d5c-298b-42ed-84dd-cf50eebb7051\")>,\n",
       " <selenium.webdriver.remote.webelement.WebElement (session=\"9e3da16ae5303abbb1c2862e90c9a9ab\", element=\"2473028e-e15b-428a-83c8-bc8dad12703f\")>,\n",
       " <selenium.webdriver.remote.webelement.WebElement (session=\"9e3da16ae5303abbb1c2862e90c9a9ab\", element=\"31657389-2947-4b0f-9cf6-69a6bc583241\")>,\n",
       " <selenium.webdriver.remote.webelement.WebElement (session=\"9e3da16ae5303abbb1c2862e90c9a9ab\", element=\"574b5a87-4324-4329-8d32-33f761b7ef5a\")>,\n",
       " <selenium.webdriver.remote.webelement.WebElement (session=\"9e3da16ae5303abbb1c2862e90c9a9ab\", element=\"3035f717-941e-4aae-af70-9d3272abcb17\")>,\n",
       " <selenium.webdriver.remote.webelement.WebElement (session=\"9e3da16ae5303abbb1c2862e90c9a9ab\", element=\"9fcf80e2-c80f-445c-bf3d-70e898ca4d2d\")>,\n",
       " <selenium.webdriver.remote.webelement.WebElement (session=\"9e3da16ae5303abbb1c2862e90c9a9ab\", element=\"9344ce75-960c-401a-a8ed-e17e15e3260b\")>,\n",
       " <selenium.webdriver.remote.webelement.WebElement (session=\"9e3da16ae5303abbb1c2862e90c9a9ab\", element=\"15ce4638-d47b-47fb-af25-1348d5a92c8f\")>,\n",
       " <selenium.webdriver.remote.webelement.WebElement (session=\"9e3da16ae5303abbb1c2862e90c9a9ab\", element=\"f6caff19-ad9a-4e08-8426-ef93b06308da\")>,\n",
       " <selenium.webdriver.remote.webelement.WebElement (session=\"9e3da16ae5303abbb1c2862e90c9a9ab\", element=\"d97e0d0c-c798-47c4-97b2-10adc313c60f\")>,\n",
       " <selenium.webdriver.remote.webelement.WebElement (session=\"9e3da16ae5303abbb1c2862e90c9a9ab\", element=\"2c64644b-76e0-4fe6-b099-7ebdef0655b6\")>,\n",
       " <selenium.webdriver.remote.webelement.WebElement (session=\"9e3da16ae5303abbb1c2862e90c9a9ab\", element=\"f2803da9-f912-478d-b0cd-eeaffa54a25d\")>,\n",
       " <selenium.webdriver.remote.webelement.WebElement (session=\"9e3da16ae5303abbb1c2862e90c9a9ab\", element=\"f102c3e7-c5b7-47bd-8c96-fb61d75c0010\")>,\n",
       " <selenium.webdriver.remote.webelement.WebElement (session=\"9e3da16ae5303abbb1c2862e90c9a9ab\", element=\"e2643cf1-6a7c-418c-8178-405882d83b75\")>,\n",
       " <selenium.webdriver.remote.webelement.WebElement (session=\"9e3da16ae5303abbb1c2862e90c9a9ab\", element=\"a7e3c9a6-dc49-4e5a-9bb1-bde3ee700b6f\")>,\n",
       " <selenium.webdriver.remote.webelement.WebElement (session=\"9e3da16ae5303abbb1c2862e90c9a9ab\", element=\"bc35b676-0819-4bb6-9482-cd4c1f527b4b\")>,\n",
       " <selenium.webdriver.remote.webelement.WebElement (session=\"9e3da16ae5303abbb1c2862e90c9a9ab\", element=\"a1ddd2f1-1db6-49e6-9b66-640441483636\")>,\n",
       " <selenium.webdriver.remote.webelement.WebElement (session=\"9e3da16ae5303abbb1c2862e90c9a9ab\", element=\"89f26d01-5a08-4fed-9e21-6f032b21b5aa\")>,\n",
       " <selenium.webdriver.remote.webelement.WebElement (session=\"9e3da16ae5303abbb1c2862e90c9a9ab\", element=\"a7a41315-d4d2-4733-849e-c81692be03d5\")>,\n",
       " <selenium.webdriver.remote.webelement.WebElement (session=\"9e3da16ae5303abbb1c2862e90c9a9ab\", element=\"13f10f01-681d-400b-b8c4-4212bc86bf57\")>,\n",
       " <selenium.webdriver.remote.webelement.WebElement (session=\"9e3da16ae5303abbb1c2862e90c9a9ab\", element=\"b802770a-0ffa-4b80-bd44-47ef84da054c\")>,\n",
       " <selenium.webdriver.remote.webelement.WebElement (session=\"9e3da16ae5303abbb1c2862e90c9a9ab\", element=\"099de485-e993-4d9f-b108-41d9946568e1\")>,\n",
       " <selenium.webdriver.remote.webelement.WebElement (session=\"9e3da16ae5303abbb1c2862e90c9a9ab\", element=\"45f51841-ab02-4ef8-8519-63bc596c2b00\")>,\n",
       " <selenium.webdriver.remote.webelement.WebElement (session=\"9e3da16ae5303abbb1c2862e90c9a9ab\", element=\"699051c9-a169-4164-b291-13e308cce0ae\")>,\n",
       " <selenium.webdriver.remote.webelement.WebElement (session=\"9e3da16ae5303abbb1c2862e90c9a9ab\", element=\"49645737-174b-4dd7-989b-1cb6f4475005\")>,\n",
       " <selenium.webdriver.remote.webelement.WebElement (session=\"9e3da16ae5303abbb1c2862e90c9a9ab\", element=\"2da11f6e-69a0-4105-b159-9b9a59f74394\")>,\n",
       " <selenium.webdriver.remote.webelement.WebElement (session=\"9e3da16ae5303abbb1c2862e90c9a9ab\", element=\"9e5debed-79f8-48aa-bfb4-8be49f59bcab\")>,\n",
       " <selenium.webdriver.remote.webelement.WebElement (session=\"9e3da16ae5303abbb1c2862e90c9a9ab\", element=\"cfd58156-2a49-4145-a318-67354c15fe90\")>,\n",
       " <selenium.webdriver.remote.webelement.WebElement (session=\"9e3da16ae5303abbb1c2862e90c9a9ab\", element=\"f1de821b-c8d9-4cdb-9332-def7d5c83cb5\")>,\n",
       " <selenium.webdriver.remote.webelement.WebElement (session=\"9e3da16ae5303abbb1c2862e90c9a9ab\", element=\"08eb6913-f192-4048-a75d-413c6a5ed871\")>,\n",
       " <selenium.webdriver.remote.webelement.WebElement (session=\"9e3da16ae5303abbb1c2862e90c9a9ab\", element=\"3a2502c0-dcb0-4670-b49d-09bacfbcee87\")>,\n",
       " <selenium.webdriver.remote.webelement.WebElement (session=\"9e3da16ae5303abbb1c2862e90c9a9ab\", element=\"393370e1-ef74-4fe8-a662-8cc4858b45a8\")>,\n",
       " <selenium.webdriver.remote.webelement.WebElement (session=\"9e3da16ae5303abbb1c2862e90c9a9ab\", element=\"a76c91be-f95c-4a42-a31b-027f7ea8d00f\")>,\n",
       " <selenium.webdriver.remote.webelement.WebElement (session=\"9e3da16ae5303abbb1c2862e90c9a9ab\", element=\"7de63db1-3b9e-4eb1-85b2-49e8747447bf\")>,\n",
       " <selenium.webdriver.remote.webelement.WebElement (session=\"9e3da16ae5303abbb1c2862e90c9a9ab\", element=\"40e3d445-dda3-4e08-9a42-09843ec16cc1\")>,\n",
       " <selenium.webdriver.remote.webelement.WebElement (session=\"9e3da16ae5303abbb1c2862e90c9a9ab\", element=\"38806687-1deb-40af-9292-32af6bdf882b\")>,\n",
       " <selenium.webdriver.remote.webelement.WebElement (session=\"9e3da16ae5303abbb1c2862e90c9a9ab\", element=\"e9b5c16f-a955-4930-bfd1-9e6ee5a5a1f3\")>,\n",
       " <selenium.webdriver.remote.webelement.WebElement (session=\"9e3da16ae5303abbb1c2862e90c9a9ab\", element=\"d3065e75-06b3-495d-8176-a21e757d4b34\")>,\n",
       " <selenium.webdriver.remote.webelement.WebElement (session=\"9e3da16ae5303abbb1c2862e90c9a9ab\", element=\"6e384af3-12a4-4a1a-8d20-e5cae677555c\")>,\n",
       " <selenium.webdriver.remote.webelement.WebElement (session=\"9e3da16ae5303abbb1c2862e90c9a9ab\", element=\"4f2d0e55-598e-4245-83ee-78270eb3d1cf\")>,\n",
       " <selenium.webdriver.remote.webelement.WebElement (session=\"9e3da16ae5303abbb1c2862e90c9a9ab\", element=\"1067d382-d594-4129-bfcf-51e0d276468f\")>,\n",
       " <selenium.webdriver.remote.webelement.WebElement (session=\"9e3da16ae5303abbb1c2862e90c9a9ab\", element=\"0cf778c3-3adf-41b5-9502-628cacfcbded\")>,\n",
       " <selenium.webdriver.remote.webelement.WebElement (session=\"9e3da16ae5303abbb1c2862e90c9a9ab\", element=\"75c28ea9-f518-4920-88de-7d656ca146a2\")>,\n",
       " <selenium.webdriver.remote.webelement.WebElement (session=\"9e3da16ae5303abbb1c2862e90c9a9ab\", element=\"c6690ac2-a53c-483d-b647-7afc47a5fee2\")>,\n",
       " <selenium.webdriver.remote.webelement.WebElement (session=\"9e3da16ae5303abbb1c2862e90c9a9ab\", element=\"ba286f95-cceb-4eaf-b10e-6cb3ecfa9d16\")>,\n",
       " <selenium.webdriver.remote.webelement.WebElement (session=\"9e3da16ae5303abbb1c2862e90c9a9ab\", element=\"4117439c-826c-4023-9ea1-c3ec3d7fdd6d\")>,\n",
       " <selenium.webdriver.remote.webelement.WebElement (session=\"9e3da16ae5303abbb1c2862e90c9a9ab\", element=\"30004b8c-3820-44d9-b2ac-2fa2f48222d5\")>,\n",
       " <selenium.webdriver.remote.webelement.WebElement (session=\"9e3da16ae5303abbb1c2862e90c9a9ab\", element=\"bb40ccd5-7efa-4627-9c4c-d0eb4fa53756\")>,\n",
       " <selenium.webdriver.remote.webelement.WebElement (session=\"9e3da16ae5303abbb1c2862e90c9a9ab\", element=\"3ec9391d-709b-4439-95d6-fb9d281e60ee\")>,\n",
       " <selenium.webdriver.remote.webelement.WebElement (session=\"9e3da16ae5303abbb1c2862e90c9a9ab\", element=\"82071e26-be2b-4f13-8a85-68f00695618a\")>,\n",
       " <selenium.webdriver.remote.webelement.WebElement (session=\"9e3da16ae5303abbb1c2862e90c9a9ab\", element=\"6317f0db-e2be-4706-8ca3-a1c7c8890c99\")>,\n",
       " <selenium.webdriver.remote.webelement.WebElement (session=\"9e3da16ae5303abbb1c2862e90c9a9ab\", element=\"adbfaf47-bf4b-493b-835e-55774223d48a\")>,\n",
       " <selenium.webdriver.remote.webelement.WebElement (session=\"9e3da16ae5303abbb1c2862e90c9a9ab\", element=\"d62d8020-9982-444d-87d7-66f80876b0f3\")>,\n",
       " <selenium.webdriver.remote.webelement.WebElement (session=\"9e3da16ae5303abbb1c2862e90c9a9ab\", element=\"eea0126e-5d42-48df-8412-7f64f395ed3f\")>,\n",
       " <selenium.webdriver.remote.webelement.WebElement (session=\"9e3da16ae5303abbb1c2862e90c9a9ab\", element=\"80bab186-f01b-44c7-9f7f-0aabcb1fec1b\")>,\n",
       " <selenium.webdriver.remote.webelement.WebElement (session=\"9e3da16ae5303abbb1c2862e90c9a9ab\", element=\"7543682f-3726-4443-8193-765690a8be31\")>,\n",
       " <selenium.webdriver.remote.webelement.WebElement (session=\"9e3da16ae5303abbb1c2862e90c9a9ab\", element=\"d158ad7c-12d8-4587-ab46-f586d1587799\")>,\n",
       " <selenium.webdriver.remote.webelement.WebElement (session=\"9e3da16ae5303abbb1c2862e90c9a9ab\", element=\"77475056-de79-4d47-85fc-7dce50936a26\")>,\n",
       " <selenium.webdriver.remote.webelement.WebElement (session=\"9e3da16ae5303abbb1c2862e90c9a9ab\", element=\"3634bfd1-8265-4130-9117-6517ac25fa3b\")>,\n",
       " <selenium.webdriver.remote.webelement.WebElement (session=\"9e3da16ae5303abbb1c2862e90c9a9ab\", element=\"bfbbea63-db63-42df-9e8b-6be51f75e52b\")>,\n",
       " <selenium.webdriver.remote.webelement.WebElement (session=\"9e3da16ae5303abbb1c2862e90c9a9ab\", element=\"d6da705d-287f-4ca2-aa5a-d39bde04dd55\")>,\n",
       " <selenium.webdriver.remote.webelement.WebElement (session=\"9e3da16ae5303abbb1c2862e90c9a9ab\", element=\"4aaa5d9a-280b-46f4-b3a4-7e74b7bdb2c8\")>,\n",
       " <selenium.webdriver.remote.webelement.WebElement (session=\"9e3da16ae5303abbb1c2862e90c9a9ab\", element=\"1e107675-8147-4c05-afa1-f0293280d605\")>,\n",
       " <selenium.webdriver.remote.webelement.WebElement (session=\"9e3da16ae5303abbb1c2862e90c9a9ab\", element=\"11c6ac86-7128-49c8-93b0-3a17b6d3fe88\")>,\n",
       " <selenium.webdriver.remote.webelement.WebElement (session=\"9e3da16ae5303abbb1c2862e90c9a9ab\", element=\"d502cd42-6c72-42b9-a090-b03737787657\")>,\n",
       " <selenium.webdriver.remote.webelement.WebElement (session=\"9e3da16ae5303abbb1c2862e90c9a9ab\", element=\"75b8d7d3-f461-4235-93c6-9977e0e1c297\")>]"
      ]
     },
     "execution_count": 23,
     "metadata": {},
     "output_type": "execute_result"
    }
   ],
   "source": [
    "a"
   ]
  },
  {
   "cell_type": "code",
   "execution_count": 24,
   "metadata": {},
   "outputs": [],
   "source": [
    "urls = [item.get_attribute('href') for item in a]\n",
    "urls = list(set(urls))"
   ]
  },
  {
   "cell_type": "code",
   "execution_count": 25,
   "metadata": {},
   "outputs": [
    {
     "data": {
      "text/plain": [
       "['https://www.investing.com/equities/facebook-inc',\n",
       " 'https://www.investing.com/currencies/eur-usd',\n",
       " 'https://www.investing.com/commodities/london-sugar',\n",
       " 'https://www.investing.com/commodities/us-cotton-no.2',\n",
       " 'https://www.investing.com/indices/reuters-jefferies-crb-natural-gas',\n",
       " 'https://www.investing.com/indices/us-spx-500',\n",
       " 'https://www.investing.com/currencies/eur-chf',\n",
       " 'https://www.investing.com/indices/dj-commodity',\n",
       " 'https://www.investing.com/etfs/ishares-silver-trust',\n",
       " 'https://www.investing.com/currencies/aud-usd',\n",
       " 'https://www.investing.com/equities/apple-computer-inc',\n",
       " 'https://www.investing.com/equities/google-inc',\n",
       " 'https://www.investing.com/indices/reuters-jefferies-crb-gold',\n",
       " 'https://www.investing.com/etfs/proshares-trust-ultrapro-qqq',\n",
       " 'https://www.investing.com/commodities/copper',\n",
       " 'https://www.investing.com/etfs/spdr-s-p-500',\n",
       " 'https://www.investing.com/equities/amazon-com-inc',\n",
       " 'https://www.investing.com/indices/nasdaq-composite',\n",
       " 'https://www.investing.com/commodities/us-coffee-c',\n",
       " 'https://www.investing.com/etfs/proshares-ultra-vix-short-term-fut',\n",
       " 'https://www.investing.com/commodities/silver',\n",
       " 'https://www.investing.com/commodities/us-corn',\n",
       " 'https://www.investing.com/indices/volatility-s-p-500',\n",
       " 'https://www.investing.com/currencies/usd-jpy',\n",
       " 'https://www.investing.com/commodities/heating-oil',\n",
       " 'https://www.investing.com/indices/us-30',\n",
       " 'https://www.investing.com/equities/tesla-motors',\n",
       " 'https://www.investing.com/equities/bank-of-america',\n",
       " 'https://www.investing.com/indices/us-spx-500-futures',\n",
       " 'https://www.investing.com/commodities/gold',\n",
       " 'https://www.investing.com/currencies/eur-jpy',\n",
       " 'https://www.investing.com/equities/netflix,-inc.',\n",
       " 'https://www.investing.com/indices/reuters-jefferies-crb-crude-oil',\n",
       " 'https://www.investing.com/commodities/brent-oil',\n",
       " 'https://www.investing.com/commodities/us-soybeans',\n",
       " 'https://www.investing.com/currencies/gbp-usd',\n",
       " 'https://www.investing.com/commodities/natural-gas',\n",
       " 'https://www.investing.com/commodities/crude-oil',\n",
       " 'https://www.investing.com/etfs/ishares-russell-2000-index-etf',\n",
       " 'https://www.investing.com/indices/us-30-futures',\n",
       " 'https://www.investing.com/currencies/usd-cad',\n",
       " 'https://www.investing.com/currencies/us-dollar-index',\n",
       " 'https://www.investing.com/etfs/direxion-daily-jr-gld-mnrs-bull-3x',\n",
       " 'https://www.investing.com/etfs/powershares-qqqq',\n",
       " 'https://www.investing.com/indices/thomson-reuters---jefferies-crb',\n",
       " 'https://www.investing.com/commodities/platinum',\n",
       " 'https://www.investing.com/commodities/us-wheat']"
      ]
     },
     "execution_count": 25,
     "metadata": {},
     "output_type": "execute_result"
    }
   ],
   "source": []
  },
  {
   "cell_type": "code",
   "execution_count": null,
   "metadata": {
    "colab": {},
    "colab_type": "code",
    "id": "soUkswkVSXTg"
   },
   "outputs": [],
   "source": [
    "# 반복문으로 활용하기 위한 url 리스트를 얻기 위해 href attribute를 get해서, url 을 얻는다.\n",
    "\n",
    "# <td class=\"noWrap bold left noWrap\">\n",
    "#   <a title=\"Platinum Futures (CFD)\" href=\"/commodities/platinum\">Platinum</a>\n",
    "#  <span class=\"alertBellGrayPlus js-plus-icon genToolTip oneliner\" data-tooltip=\"Create Alert\" data-name=\"Platinum Futures\" data-id=\"8910\"></span></td>\n",
    "\n",
    "tds = driver.find_elements_by_css_selector(\"td\")\n",
    "a =[]\n",
    "for td in tds:\n",
    "    if td.find_elements_by_css_selector(\"a\")!=[]:\n",
    "        a.append(td.find_elements_by_css_selector(\"a\"))\n",
    "    else:pass\n",
    "# href 값을 얻어 url 을 획득한다.\n",
    "urls = [item[0].get_attribute('href') for item in a]\n",
    "urls = list(set(urls))"
   ]
  },
  {
   "cell_type": "code",
   "execution_count": null,
   "metadata": {
    "colab": {},
    "colab_type": "code",
    "id": "8R0BKGifSXTi"
   },
   "outputs": [],
   "source": [
    "# 이 코드에서는 by_tag_name으로 선택해도 결과는 같다. 무슨 차이일까?\n",
    "tds = driver.find_elements_by_tag_name(\"td\")\n",
    "a =[]\n",
    "for td in tds:\n",
    "    if td.find_elements_by_tag_name(\"a\")!=[]:\n",
    "        a.append(td.find_elements_by_css_selector(\"a\"))\n",
    "    else:pass\n",
    "# href 값을 얻어 url 을 획득한다.\n",
    "urls = [item[0].get_attribute('href') for item in a]\n",
    "urls = list(set(urls))"
   ]
  },
  {
   "cell_type": "code",
   "execution_count": null,
   "metadata": {
    "colab": {},
    "colab_type": "code",
    "id": "p3yL0FRVSXTk",
    "outputId": "a4d7c4b8-d446-4fe0-d72b-9796baaad132"
   },
   "outputs": [
    {
     "data": {
      "text/plain": [
       "47"
      ]
     },
     "execution_count": 195,
     "metadata": {
      "tags": []
     },
     "output_type": "execute_result"
    }
   ],
   "source": [
    "len(urls)"
   ]
  },
  {
   "cell_type": "code",
   "execution_count": null,
   "metadata": {
    "colab": {},
    "colab_type": "code",
    "id": "ALHQIknnSXTm"
   },
   "outputs": [],
   "source": [
    "# url의 sub 부분을 기준으로 해서 카테고리별로 리스트로 나누기\n",
    "commodities_url = []\n",
    "etfs_url= []\n",
    "currencies_url = []\n",
    "indices_url=[]\n",
    "equities_url=[]\n",
    "\n",
    "for url in urls:\n",
    "    if 'commodities' in url:\n",
    "        commodities_url.append(url)\n",
    "    elif 'etfs' in url:\n",
    "        etfs_url.append(url)\n",
    "    elif 'currencies' in url:\n",
    "        currencies_url.append(url)\n",
    "    elif 'indices' in url:\n",
    "        indices_url.append(url)\n",
    "    elif 'equities' in url:\n",
    "        equities_url.append(url)\n",
    "        "
   ]
  },
  {
   "cell_type": "code",
   "execution_count": null,
   "metadata": {
    "colab": {},
    "colab_type": "code",
    "id": "ndBeBQlISXTn",
    "outputId": "50c8a783-36fb-4349-a9c0-9b72d164269f"
   },
   "outputs": [
    {
     "data": {
      "text/plain": [
       "['https://www.investing.com/commodities/heating-oil',\n",
       " 'https://www.investing.com/commodities/gold',\n",
       " 'https://www.investing.com/commodities/copper',\n",
       " 'https://www.investing.com/commodities/us-cotton-no.2',\n",
       " 'https://www.investing.com/commodities/brent-oil',\n",
       " 'https://www.investing.com/commodities/natural-gas',\n",
       " 'https://www.investing.com/commodities/us-coffee-c',\n",
       " 'https://www.investing.com/commodities/us-soybeans',\n",
       " 'https://www.investing.com/commodities/us-wheat',\n",
       " 'https://www.investing.com/commodities/us-corn',\n",
       " 'https://www.investing.com/commodities/crude-oil',\n",
       " 'https://www.investing.com/commodities/platinum',\n",
       " 'https://www.investing.com/commodities/silver',\n",
       " 'https://www.investing.com/commodities/london-sugar']"
      ]
     },
     "execution_count": 197,
     "metadata": {
      "tags": []
     },
     "output_type": "execute_result"
    }
   ],
   "source": [
    "# commodities 의 주소 리스트를 얻었다.\n",
    "commodities_url"
   ]
  },
  {
   "cell_type": "markdown",
   "metadata": {
    "colab_type": "text",
    "id": "jcXsuDApSXTp"
   },
   "source": [
    "### 번외1.  BeautifulSoup 시도 -> 실패\n",
    "- 인베스팅은 urlopen 막아놓은듯"
   ]
  },
  {
   "cell_type": "code",
   "execution_count": null,
   "metadata": {
    "colab": {},
    "colab_type": "code",
    "collapsed": true,
    "id": "LCYyYbtNSXTq",
    "outputId": "5e8d2bf3-8f2a-4ebb-e646-ce1ecc30695e"
   },
   "outputs": [
    {
     "ename": "HTTPError",
     "evalue": "HTTP Error 403: Forbidden",
     "output_type": "error",
     "traceback": [
      "\u001b[1;31m---------------------------------------------------------------------------\u001b[0m",
      "\u001b[1;31mHTTPError\u001b[0m                                 Traceback (most recent call last)",
      "\u001b[1;32m<ipython-input-94-5bf0b0fbe093>\u001b[0m in \u001b[0;36m<module>\u001b[1;34m\u001b[0m\n\u001b[0;32m      3\u001b[0m \u001b[0murl_sub\u001b[0m \u001b[1;33m=\u001b[0m \u001b[1;34m'/commodities/gold-historical-data'\u001b[0m\u001b[1;33m\u001b[0m\u001b[1;33m\u001b[0m\u001b[0m\n\u001b[0;32m      4\u001b[0m \u001b[0murl\u001b[0m \u001b[1;33m=\u001b[0m \u001b[0murl_base\u001b[0m \u001b[1;33m+\u001b[0m \u001b[0murl_sub\u001b[0m\u001b[1;33m\u001b[0m\u001b[1;33m\u001b[0m\u001b[0m\n\u001b[1;32m----> 5\u001b[1;33m \u001b[0mhtml\u001b[0m \u001b[1;33m=\u001b[0m \u001b[0murlopen\u001b[0m\u001b[1;33m(\u001b[0m\u001b[0murl\u001b[0m\u001b[1;33m)\u001b[0m\u001b[1;33m\u001b[0m\u001b[1;33m\u001b[0m\u001b[0m\n\u001b[0m\u001b[0;32m      6\u001b[0m \u001b[1;31m# html 파싱\u001b[0m\u001b[1;33m\u001b[0m\u001b[1;33m\u001b[0m\u001b[1;33m\u001b[0m\u001b[0m\n\u001b[0;32m      7\u001b[0m \u001b[0msoup\u001b[0m \u001b[1;33m=\u001b[0m \u001b[0mBeautifulSoup\u001b[0m\u001b[1;33m(\u001b[0m\u001b[0mhtml\u001b[0m\u001b[1;33m,\u001b[0m \u001b[1;34m'html.parser'\u001b[0m\u001b[1;33m)\u001b[0m\u001b[1;33m\u001b[0m\u001b[1;33m\u001b[0m\u001b[0m\n",
      "\u001b[1;32m~\\anaconda3\\lib\\urllib\\request.py\u001b[0m in \u001b[0;36murlopen\u001b[1;34m(url, data, timeout, cafile, capath, cadefault, context)\u001b[0m\n\u001b[0;32m    220\u001b[0m     \u001b[1;32melse\u001b[0m\u001b[1;33m:\u001b[0m\u001b[1;33m\u001b[0m\u001b[1;33m\u001b[0m\u001b[0m\n\u001b[0;32m    221\u001b[0m         \u001b[0mopener\u001b[0m \u001b[1;33m=\u001b[0m \u001b[0m_opener\u001b[0m\u001b[1;33m\u001b[0m\u001b[1;33m\u001b[0m\u001b[0m\n\u001b[1;32m--> 222\u001b[1;33m     \u001b[1;32mreturn\u001b[0m \u001b[0mopener\u001b[0m\u001b[1;33m.\u001b[0m\u001b[0mopen\u001b[0m\u001b[1;33m(\u001b[0m\u001b[0murl\u001b[0m\u001b[1;33m,\u001b[0m \u001b[0mdata\u001b[0m\u001b[1;33m,\u001b[0m \u001b[0mtimeout\u001b[0m\u001b[1;33m)\u001b[0m\u001b[1;33m\u001b[0m\u001b[1;33m\u001b[0m\u001b[0m\n\u001b[0m\u001b[0;32m    223\u001b[0m \u001b[1;33m\u001b[0m\u001b[0m\n\u001b[0;32m    224\u001b[0m \u001b[1;32mdef\u001b[0m \u001b[0minstall_opener\u001b[0m\u001b[1;33m(\u001b[0m\u001b[0mopener\u001b[0m\u001b[1;33m)\u001b[0m\u001b[1;33m:\u001b[0m\u001b[1;33m\u001b[0m\u001b[1;33m\u001b[0m\u001b[0m\n",
      "\u001b[1;32m~\\anaconda3\\lib\\urllib\\request.py\u001b[0m in \u001b[0;36mopen\u001b[1;34m(self, fullurl, data, timeout)\u001b[0m\n\u001b[0;32m    529\u001b[0m         \u001b[1;32mfor\u001b[0m \u001b[0mprocessor\u001b[0m \u001b[1;32min\u001b[0m \u001b[0mself\u001b[0m\u001b[1;33m.\u001b[0m\u001b[0mprocess_response\u001b[0m\u001b[1;33m.\u001b[0m\u001b[0mget\u001b[0m\u001b[1;33m(\u001b[0m\u001b[0mprotocol\u001b[0m\u001b[1;33m,\u001b[0m \u001b[1;33m[\u001b[0m\u001b[1;33m]\u001b[0m\u001b[1;33m)\u001b[0m\u001b[1;33m:\u001b[0m\u001b[1;33m\u001b[0m\u001b[1;33m\u001b[0m\u001b[0m\n\u001b[0;32m    530\u001b[0m             \u001b[0mmeth\u001b[0m \u001b[1;33m=\u001b[0m \u001b[0mgetattr\u001b[0m\u001b[1;33m(\u001b[0m\u001b[0mprocessor\u001b[0m\u001b[1;33m,\u001b[0m \u001b[0mmeth_name\u001b[0m\u001b[1;33m)\u001b[0m\u001b[1;33m\u001b[0m\u001b[1;33m\u001b[0m\u001b[0m\n\u001b[1;32m--> 531\u001b[1;33m             \u001b[0mresponse\u001b[0m \u001b[1;33m=\u001b[0m \u001b[0mmeth\u001b[0m\u001b[1;33m(\u001b[0m\u001b[0mreq\u001b[0m\u001b[1;33m,\u001b[0m \u001b[0mresponse\u001b[0m\u001b[1;33m)\u001b[0m\u001b[1;33m\u001b[0m\u001b[1;33m\u001b[0m\u001b[0m\n\u001b[0m\u001b[0;32m    532\u001b[0m \u001b[1;33m\u001b[0m\u001b[0m\n\u001b[0;32m    533\u001b[0m         \u001b[1;32mreturn\u001b[0m \u001b[0mresponse\u001b[0m\u001b[1;33m\u001b[0m\u001b[1;33m\u001b[0m\u001b[0m\n",
      "\u001b[1;32m~\\anaconda3\\lib\\urllib\\request.py\u001b[0m in \u001b[0;36mhttp_response\u001b[1;34m(self, request, response)\u001b[0m\n\u001b[0;32m    638\u001b[0m         \u001b[1;31m# request was successfully received, understood, and accepted.\u001b[0m\u001b[1;33m\u001b[0m\u001b[1;33m\u001b[0m\u001b[1;33m\u001b[0m\u001b[0m\n\u001b[0;32m    639\u001b[0m         \u001b[1;32mif\u001b[0m \u001b[1;32mnot\u001b[0m \u001b[1;33m(\u001b[0m\u001b[1;36m200\u001b[0m \u001b[1;33m<=\u001b[0m \u001b[0mcode\u001b[0m \u001b[1;33m<\u001b[0m \u001b[1;36m300\u001b[0m\u001b[1;33m)\u001b[0m\u001b[1;33m:\u001b[0m\u001b[1;33m\u001b[0m\u001b[1;33m\u001b[0m\u001b[0m\n\u001b[1;32m--> 640\u001b[1;33m             response = self.parent.error(\n\u001b[0m\u001b[0;32m    641\u001b[0m                 'http', request, response, code, msg, hdrs)\n\u001b[0;32m    642\u001b[0m \u001b[1;33m\u001b[0m\u001b[0m\n",
      "\u001b[1;32m~\\anaconda3\\lib\\urllib\\request.py\u001b[0m in \u001b[0;36merror\u001b[1;34m(self, proto, *args)\u001b[0m\n\u001b[0;32m    567\u001b[0m         \u001b[1;32mif\u001b[0m \u001b[0mhttp_err\u001b[0m\u001b[1;33m:\u001b[0m\u001b[1;33m\u001b[0m\u001b[1;33m\u001b[0m\u001b[0m\n\u001b[0;32m    568\u001b[0m             \u001b[0margs\u001b[0m \u001b[1;33m=\u001b[0m \u001b[1;33m(\u001b[0m\u001b[0mdict\u001b[0m\u001b[1;33m,\u001b[0m \u001b[1;34m'default'\u001b[0m\u001b[1;33m,\u001b[0m \u001b[1;34m'http_error_default'\u001b[0m\u001b[1;33m)\u001b[0m \u001b[1;33m+\u001b[0m \u001b[0morig_args\u001b[0m\u001b[1;33m\u001b[0m\u001b[1;33m\u001b[0m\u001b[0m\n\u001b[1;32m--> 569\u001b[1;33m             \u001b[1;32mreturn\u001b[0m \u001b[0mself\u001b[0m\u001b[1;33m.\u001b[0m\u001b[0m_call_chain\u001b[0m\u001b[1;33m(\u001b[0m\u001b[1;33m*\u001b[0m\u001b[0margs\u001b[0m\u001b[1;33m)\u001b[0m\u001b[1;33m\u001b[0m\u001b[1;33m\u001b[0m\u001b[0m\n\u001b[0m\u001b[0;32m    570\u001b[0m \u001b[1;33m\u001b[0m\u001b[0m\n\u001b[0;32m    571\u001b[0m \u001b[1;31m# XXX probably also want an abstract factory that knows when it makes\u001b[0m\u001b[1;33m\u001b[0m\u001b[1;33m\u001b[0m\u001b[1;33m\u001b[0m\u001b[0m\n",
      "\u001b[1;32m~\\anaconda3\\lib\\urllib\\request.py\u001b[0m in \u001b[0;36m_call_chain\u001b[1;34m(self, chain, kind, meth_name, *args)\u001b[0m\n\u001b[0;32m    500\u001b[0m         \u001b[1;32mfor\u001b[0m \u001b[0mhandler\u001b[0m \u001b[1;32min\u001b[0m \u001b[0mhandlers\u001b[0m\u001b[1;33m:\u001b[0m\u001b[1;33m\u001b[0m\u001b[1;33m\u001b[0m\u001b[0m\n\u001b[0;32m    501\u001b[0m             \u001b[0mfunc\u001b[0m \u001b[1;33m=\u001b[0m \u001b[0mgetattr\u001b[0m\u001b[1;33m(\u001b[0m\u001b[0mhandler\u001b[0m\u001b[1;33m,\u001b[0m \u001b[0mmeth_name\u001b[0m\u001b[1;33m)\u001b[0m\u001b[1;33m\u001b[0m\u001b[1;33m\u001b[0m\u001b[0m\n\u001b[1;32m--> 502\u001b[1;33m             \u001b[0mresult\u001b[0m \u001b[1;33m=\u001b[0m \u001b[0mfunc\u001b[0m\u001b[1;33m(\u001b[0m\u001b[1;33m*\u001b[0m\u001b[0margs\u001b[0m\u001b[1;33m)\u001b[0m\u001b[1;33m\u001b[0m\u001b[1;33m\u001b[0m\u001b[0m\n\u001b[0m\u001b[0;32m    503\u001b[0m             \u001b[1;32mif\u001b[0m \u001b[0mresult\u001b[0m \u001b[1;32mis\u001b[0m \u001b[1;32mnot\u001b[0m \u001b[1;32mNone\u001b[0m\u001b[1;33m:\u001b[0m\u001b[1;33m\u001b[0m\u001b[1;33m\u001b[0m\u001b[0m\n\u001b[0;32m    504\u001b[0m                 \u001b[1;32mreturn\u001b[0m \u001b[0mresult\u001b[0m\u001b[1;33m\u001b[0m\u001b[1;33m\u001b[0m\u001b[0m\n",
      "\u001b[1;32m~\\anaconda3\\lib\\urllib\\request.py\u001b[0m in \u001b[0;36mhttp_error_default\u001b[1;34m(self, req, fp, code, msg, hdrs)\u001b[0m\n\u001b[0;32m    647\u001b[0m \u001b[1;32mclass\u001b[0m \u001b[0mHTTPDefaultErrorHandler\u001b[0m\u001b[1;33m(\u001b[0m\u001b[0mBaseHandler\u001b[0m\u001b[1;33m)\u001b[0m\u001b[1;33m:\u001b[0m\u001b[1;33m\u001b[0m\u001b[1;33m\u001b[0m\u001b[0m\n\u001b[0;32m    648\u001b[0m     \u001b[1;32mdef\u001b[0m \u001b[0mhttp_error_default\u001b[0m\u001b[1;33m(\u001b[0m\u001b[0mself\u001b[0m\u001b[1;33m,\u001b[0m \u001b[0mreq\u001b[0m\u001b[1;33m,\u001b[0m \u001b[0mfp\u001b[0m\u001b[1;33m,\u001b[0m \u001b[0mcode\u001b[0m\u001b[1;33m,\u001b[0m \u001b[0mmsg\u001b[0m\u001b[1;33m,\u001b[0m \u001b[0mhdrs\u001b[0m\u001b[1;33m)\u001b[0m\u001b[1;33m:\u001b[0m\u001b[1;33m\u001b[0m\u001b[1;33m\u001b[0m\u001b[0m\n\u001b[1;32m--> 649\u001b[1;33m         \u001b[1;32mraise\u001b[0m \u001b[0mHTTPError\u001b[0m\u001b[1;33m(\u001b[0m\u001b[0mreq\u001b[0m\u001b[1;33m.\u001b[0m\u001b[0mfull_url\u001b[0m\u001b[1;33m,\u001b[0m \u001b[0mcode\u001b[0m\u001b[1;33m,\u001b[0m \u001b[0mmsg\u001b[0m\u001b[1;33m,\u001b[0m \u001b[0mhdrs\u001b[0m\u001b[1;33m,\u001b[0m \u001b[0mfp\u001b[0m\u001b[1;33m)\u001b[0m\u001b[1;33m\u001b[0m\u001b[1;33m\u001b[0m\u001b[0m\n\u001b[0m\u001b[0;32m    650\u001b[0m \u001b[1;33m\u001b[0m\u001b[0m\n\u001b[0;32m    651\u001b[0m \u001b[1;32mclass\u001b[0m \u001b[0mHTTPRedirectHandler\u001b[0m\u001b[1;33m(\u001b[0m\u001b[0mBaseHandler\u001b[0m\u001b[1;33m)\u001b[0m\u001b[1;33m:\u001b[0m\u001b[1;33m\u001b[0m\u001b[1;33m\u001b[0m\u001b[0m\n",
      "\u001b[1;31mHTTPError\u001b[0m: HTTP Error 403: Forbidden"
     ]
    }
   ],
   "source": [
    "# url 이용해서 html 파일 가져오기 => 오류난다. 인베스팅은 urlopen 막아놓은듯하다.\n",
    "from bs4 import BeautifulSoup\n",
    "from urllib.request import urlopen     #url : 웹상 주소, open : 파일 처리\n",
    "url_base = 'https://www.investing.com'\n",
    "url_sub = '/commodities/gold-historical-data'\n",
    "url = url_base + url_sub\n",
    "html = urlopen(url)\n",
    "# html 파싱\n",
    "soup = BeautifulSoup(html, 'html.parser')"
   ]
  },
  {
   "cell_type": "markdown",
   "metadata": {
    "colab_type": "text",
    "id": "fuyM2WHlSXTs"
   },
   "source": [
    "### 번외2(네이버크롤링). web 모듈(파이참 모듈 참고 by hccho) 작동 test \n",
    "- 네이버 일별 시세 페이지를 파싱. 주식(종가, 시가, high, row, 거래량) 가져오는 것이 목적\n",
    "- beautifulsoup 을사용,  모든 종목에 대해, 각 종목 당 하나의 csv 파일을 생성하고 매일 업데이트 되도록 만든 모듈.\n",
    "- csv 로 저장하면서 동시에 db에도 넣는 메소드가 서로 유기적으로 연결되어 있는것이, 데이터 정확도 측면에서 좋을 것 같긴하지만 시스템적으로 좋아보이지 않는다.\n",
    "- 만약 시스템에 구멍이 나면 뭐가 에러났는지 직관적으로 알기 힘들고, 프로세스 자체가 무겁게 느껴진다.\n",
    "- 메소드는 가능한 분리시키되, 데이터 정확성은 유지하는 방법을 찾아야 겠다.\n",
    "- 한번에 하나씩 순차적으로 되게 하는게 좋은 거 같다.\n",
    "- 해당 모듈은 크롤링과 db 연동 연습에 좋은 것 같다\n",
    "- 실상황에서는, 분석 종목을 줄이는게 시스템에 안정적이겠다. 종목이 너무 많다, 쓸데없는 것들은 빼는게 오히려 분석에 좋을 거 같다."
   ]
  },
  {
   "cell_type": "code",
   "execution_count": null,
   "metadata": {
    "colab": {},
    "colab_type": "code",
    "id": "Z-7mVdwFSXTs"
   },
   "outputs": [],
   "source": [
    "import pandas as pd"
   ]
  },
  {
   "cell_type": "code",
   "execution_count": null,
   "metadata": {
    "colab": {},
    "colab_type": "code",
    "collapsed": true,
    "id": "1hCe6EBBSXTt",
    "outputId": "b3341565-b9b3-46ec-f307-992536550d7a"
   },
   "outputs": [
    {
     "ename": "UnicodeDecodeError",
     "evalue": "'utf-8' codec can't decode bytes in position 6-7: invalid continuation byte",
     "output_type": "error",
     "traceback": [
      "\u001b[1;31m---------------------------------------------------------------------------\u001b[0m",
      "\u001b[1;31mUnicodeDecodeError\u001b[0m                        Traceback (most recent call last)",
      "\u001b[1;32m<ipython-input-39-44969ea5cb53>\u001b[0m in \u001b[0;36m<module>\u001b[1;34m\u001b[0m\n\u001b[1;32m----> 1\u001b[1;33m df =pd.read_csv('./data/code.csv'\n\u001b[0m\u001b[0;32m      2\u001b[0m                \u001b[1;33m,\u001b[0m \u001b[0mindex_col\u001b[0m\u001b[1;33m=\u001b[0m\u001b[1;36m0\u001b[0m\u001b[1;33m\u001b[0m\u001b[1;33m\u001b[0m\u001b[0m\n\u001b[0;32m      3\u001b[0m                )\n",
      "\u001b[1;32m~\\anaconda3\\lib\\site-packages\\pandas\\io\\parsers.py\u001b[0m in \u001b[0;36mparser_f\u001b[1;34m(filepath_or_buffer, sep, delimiter, header, names, index_col, usecols, squeeze, prefix, mangle_dupe_cols, dtype, engine, converters, true_values, false_values, skipinitialspace, skiprows, skipfooter, nrows, na_values, keep_default_na, na_filter, verbose, skip_blank_lines, parse_dates, infer_datetime_format, keep_date_col, date_parser, dayfirst, cache_dates, iterator, chunksize, compression, thousands, decimal, lineterminator, quotechar, quoting, doublequote, escapechar, comment, encoding, dialect, error_bad_lines, warn_bad_lines, delim_whitespace, low_memory, memory_map, float_precision)\u001b[0m\n\u001b[0;32m    674\u001b[0m         )\n\u001b[0;32m    675\u001b[0m \u001b[1;33m\u001b[0m\u001b[0m\n\u001b[1;32m--> 676\u001b[1;33m         \u001b[1;32mreturn\u001b[0m \u001b[0m_read\u001b[0m\u001b[1;33m(\u001b[0m\u001b[0mfilepath_or_buffer\u001b[0m\u001b[1;33m,\u001b[0m \u001b[0mkwds\u001b[0m\u001b[1;33m)\u001b[0m\u001b[1;33m\u001b[0m\u001b[1;33m\u001b[0m\u001b[0m\n\u001b[0m\u001b[0;32m    677\u001b[0m \u001b[1;33m\u001b[0m\u001b[0m\n\u001b[0;32m    678\u001b[0m     \u001b[0mparser_f\u001b[0m\u001b[1;33m.\u001b[0m\u001b[0m__name__\u001b[0m \u001b[1;33m=\u001b[0m \u001b[0mname\u001b[0m\u001b[1;33m\u001b[0m\u001b[1;33m\u001b[0m\u001b[0m\n",
      "\u001b[1;32m~\\anaconda3\\lib\\site-packages\\pandas\\io\\parsers.py\u001b[0m in \u001b[0;36m_read\u001b[1;34m(filepath_or_buffer, kwds)\u001b[0m\n\u001b[0;32m    446\u001b[0m \u001b[1;33m\u001b[0m\u001b[0m\n\u001b[0;32m    447\u001b[0m     \u001b[1;31m# Create the parser.\u001b[0m\u001b[1;33m\u001b[0m\u001b[1;33m\u001b[0m\u001b[1;33m\u001b[0m\u001b[0m\n\u001b[1;32m--> 448\u001b[1;33m     \u001b[0mparser\u001b[0m \u001b[1;33m=\u001b[0m \u001b[0mTextFileReader\u001b[0m\u001b[1;33m(\u001b[0m\u001b[0mfp_or_buf\u001b[0m\u001b[1;33m,\u001b[0m \u001b[1;33m**\u001b[0m\u001b[0mkwds\u001b[0m\u001b[1;33m)\u001b[0m\u001b[1;33m\u001b[0m\u001b[1;33m\u001b[0m\u001b[0m\n\u001b[0m\u001b[0;32m    449\u001b[0m \u001b[1;33m\u001b[0m\u001b[0m\n\u001b[0;32m    450\u001b[0m     \u001b[1;32mif\u001b[0m \u001b[0mchunksize\u001b[0m \u001b[1;32mor\u001b[0m \u001b[0miterator\u001b[0m\u001b[1;33m:\u001b[0m\u001b[1;33m\u001b[0m\u001b[1;33m\u001b[0m\u001b[0m\n",
      "\u001b[1;32m~\\anaconda3\\lib\\site-packages\\pandas\\io\\parsers.py\u001b[0m in \u001b[0;36m__init__\u001b[1;34m(self, f, engine, **kwds)\u001b[0m\n\u001b[0;32m    878\u001b[0m             \u001b[0mself\u001b[0m\u001b[1;33m.\u001b[0m\u001b[0moptions\u001b[0m\u001b[1;33m[\u001b[0m\u001b[1;34m\"has_index_names\"\u001b[0m\u001b[1;33m]\u001b[0m \u001b[1;33m=\u001b[0m \u001b[0mkwds\u001b[0m\u001b[1;33m[\u001b[0m\u001b[1;34m\"has_index_names\"\u001b[0m\u001b[1;33m]\u001b[0m\u001b[1;33m\u001b[0m\u001b[1;33m\u001b[0m\u001b[0m\n\u001b[0;32m    879\u001b[0m \u001b[1;33m\u001b[0m\u001b[0m\n\u001b[1;32m--> 880\u001b[1;33m         \u001b[0mself\u001b[0m\u001b[1;33m.\u001b[0m\u001b[0m_make_engine\u001b[0m\u001b[1;33m(\u001b[0m\u001b[0mself\u001b[0m\u001b[1;33m.\u001b[0m\u001b[0mengine\u001b[0m\u001b[1;33m)\u001b[0m\u001b[1;33m\u001b[0m\u001b[1;33m\u001b[0m\u001b[0m\n\u001b[0m\u001b[0;32m    881\u001b[0m \u001b[1;33m\u001b[0m\u001b[0m\n\u001b[0;32m    882\u001b[0m     \u001b[1;32mdef\u001b[0m \u001b[0mclose\u001b[0m\u001b[1;33m(\u001b[0m\u001b[0mself\u001b[0m\u001b[1;33m)\u001b[0m\u001b[1;33m:\u001b[0m\u001b[1;33m\u001b[0m\u001b[1;33m\u001b[0m\u001b[0m\n",
      "\u001b[1;32m~\\anaconda3\\lib\\site-packages\\pandas\\io\\parsers.py\u001b[0m in \u001b[0;36m_make_engine\u001b[1;34m(self, engine)\u001b[0m\n\u001b[0;32m   1112\u001b[0m     \u001b[1;32mdef\u001b[0m \u001b[0m_make_engine\u001b[0m\u001b[1;33m(\u001b[0m\u001b[0mself\u001b[0m\u001b[1;33m,\u001b[0m \u001b[0mengine\u001b[0m\u001b[1;33m=\u001b[0m\u001b[1;34m\"c\"\u001b[0m\u001b[1;33m)\u001b[0m\u001b[1;33m:\u001b[0m\u001b[1;33m\u001b[0m\u001b[1;33m\u001b[0m\u001b[0m\n\u001b[0;32m   1113\u001b[0m         \u001b[1;32mif\u001b[0m \u001b[0mengine\u001b[0m \u001b[1;33m==\u001b[0m \u001b[1;34m\"c\"\u001b[0m\u001b[1;33m:\u001b[0m\u001b[1;33m\u001b[0m\u001b[1;33m\u001b[0m\u001b[0m\n\u001b[1;32m-> 1114\u001b[1;33m             \u001b[0mself\u001b[0m\u001b[1;33m.\u001b[0m\u001b[0m_engine\u001b[0m \u001b[1;33m=\u001b[0m \u001b[0mCParserWrapper\u001b[0m\u001b[1;33m(\u001b[0m\u001b[0mself\u001b[0m\u001b[1;33m.\u001b[0m\u001b[0mf\u001b[0m\u001b[1;33m,\u001b[0m \u001b[1;33m**\u001b[0m\u001b[0mself\u001b[0m\u001b[1;33m.\u001b[0m\u001b[0moptions\u001b[0m\u001b[1;33m)\u001b[0m\u001b[1;33m\u001b[0m\u001b[1;33m\u001b[0m\u001b[0m\n\u001b[0m\u001b[0;32m   1115\u001b[0m         \u001b[1;32melse\u001b[0m\u001b[1;33m:\u001b[0m\u001b[1;33m\u001b[0m\u001b[1;33m\u001b[0m\u001b[0m\n\u001b[0;32m   1116\u001b[0m             \u001b[1;32mif\u001b[0m \u001b[0mengine\u001b[0m \u001b[1;33m==\u001b[0m \u001b[1;34m\"python\"\u001b[0m\u001b[1;33m:\u001b[0m\u001b[1;33m\u001b[0m\u001b[1;33m\u001b[0m\u001b[0m\n",
      "\u001b[1;32m~\\anaconda3\\lib\\site-packages\\pandas\\io\\parsers.py\u001b[0m in \u001b[0;36m__init__\u001b[1;34m(self, src, **kwds)\u001b[0m\n\u001b[0;32m   1889\u001b[0m         \u001b[0mkwds\u001b[0m\u001b[1;33m[\u001b[0m\u001b[1;34m\"usecols\"\u001b[0m\u001b[1;33m]\u001b[0m \u001b[1;33m=\u001b[0m \u001b[0mself\u001b[0m\u001b[1;33m.\u001b[0m\u001b[0musecols\u001b[0m\u001b[1;33m\u001b[0m\u001b[1;33m\u001b[0m\u001b[0m\n\u001b[0;32m   1890\u001b[0m \u001b[1;33m\u001b[0m\u001b[0m\n\u001b[1;32m-> 1891\u001b[1;33m         \u001b[0mself\u001b[0m\u001b[1;33m.\u001b[0m\u001b[0m_reader\u001b[0m \u001b[1;33m=\u001b[0m \u001b[0mparsers\u001b[0m\u001b[1;33m.\u001b[0m\u001b[0mTextReader\u001b[0m\u001b[1;33m(\u001b[0m\u001b[0msrc\u001b[0m\u001b[1;33m,\u001b[0m \u001b[1;33m**\u001b[0m\u001b[0mkwds\u001b[0m\u001b[1;33m)\u001b[0m\u001b[1;33m\u001b[0m\u001b[1;33m\u001b[0m\u001b[0m\n\u001b[0m\u001b[0;32m   1892\u001b[0m         \u001b[0mself\u001b[0m\u001b[1;33m.\u001b[0m\u001b[0munnamed_cols\u001b[0m \u001b[1;33m=\u001b[0m \u001b[0mself\u001b[0m\u001b[1;33m.\u001b[0m\u001b[0m_reader\u001b[0m\u001b[1;33m.\u001b[0m\u001b[0munnamed_cols\u001b[0m\u001b[1;33m\u001b[0m\u001b[1;33m\u001b[0m\u001b[0m\n\u001b[0;32m   1893\u001b[0m \u001b[1;33m\u001b[0m\u001b[0m\n",
      "\u001b[1;32mpandas\\_libs\\parsers.pyx\u001b[0m in \u001b[0;36mpandas._libs.parsers.TextReader.__cinit__\u001b[1;34m()\u001b[0m\n",
      "\u001b[1;32mpandas\\_libs\\parsers.pyx\u001b[0m in \u001b[0;36mpandas._libs.parsers.TextReader._get_header\u001b[1;34m()\u001b[0m\n",
      "\u001b[1;31mUnicodeDecodeError\u001b[0m: 'utf-8' codec can't decode bytes in position 6-7: invalid continuation byte"
     ]
    }
   ],
   "source": [
    "df =pd.read_csv('./data/code.csv'\n",
    "               , index_col=0\n",
    "               )"
   ]
  },
  {
   "cell_type": "code",
   "execution_count": null,
   "metadata": {
    "colab": {},
    "colab_type": "code",
    "id": "zdKpKZT0SXTv"
   },
   "outputs": [],
   "source": [
    "df.to_csv('./data/code.csv')"
   ]
  },
  {
   "cell_type": "code",
   "execution_count": null,
   "metadata": {
    "colab": {},
    "colab_type": "code",
    "id": "FnV9KrodSXTx"
   },
   "outputs": [],
   "source": [
    "df2 = df.set_index('종목코드')"
   ]
  },
  {
   "cell_type": "code",
   "execution_count": null,
   "metadata": {
    "colab": {},
    "colab_type": "code",
    "id": "8pXUl6FkSXTz",
    "outputId": "88483daf-3f41-4b94-aef5-91e799c8abba"
   },
   "outputs": [
    {
     "data": {
      "text/html": [
       "<div>\n",
       "<style scoped>\n",
       "    .dataframe tbody tr th:only-of-type {\n",
       "        vertical-align: middle;\n",
       "    }\n",
       "\n",
       "    .dataframe tbody tr th {\n",
       "        vertical-align: top;\n",
       "    }\n",
       "\n",
       "    .dataframe thead th {\n",
       "        text-align: right;\n",
       "    }\n",
       "</style>\n",
       "<table border=\"1\" class=\"dataframe\">\n",
       "  <thead>\n",
       "    <tr style=\"text-align: right;\">\n",
       "      <th></th>\n",
       "      <th>종목명</th>\n",
       "    </tr>\n",
       "    <tr>\n",
       "      <th>종목코드</th>\n",
       "      <th></th>\n",
       "    </tr>\n",
       "  </thead>\n",
       "  <tbody>\n",
       "    <tr>\n",
       "      <th>000020</th>\n",
       "      <td>동화약품</td>\n",
       "    </tr>\n",
       "    <tr>\n",
       "      <th>000040</th>\n",
       "      <td>KR모터스</td>\n",
       "    </tr>\n",
       "    <tr>\n",
       "      <th>000050</th>\n",
       "      <td>경방</td>\n",
       "    </tr>\n",
       "    <tr>\n",
       "      <th>000060</th>\n",
       "      <td>메리츠화재</td>\n",
       "    </tr>\n",
       "    <tr>\n",
       "      <th>000070</th>\n",
       "      <td>삼양홀딩스</td>\n",
       "    </tr>\n",
       "    <tr>\n",
       "      <th>...</th>\n",
       "      <td>...</td>\n",
       "    </tr>\n",
       "    <tr>\n",
       "      <th>590018</th>\n",
       "      <td>미래에셋 중국 심천 100 ETN</td>\n",
       "    </tr>\n",
       "    <tr>\n",
       "      <th>590012</th>\n",
       "      <td>미래에셋 글로벌 리츠 ETN(H)</td>\n",
       "    </tr>\n",
       "    <tr>\n",
       "      <th>700001</th>\n",
       "      <td>하나 코스피 변동성추세 추종 양매도 ETN</td>\n",
       "    </tr>\n",
       "    <tr>\n",
       "      <th>900140</th>\n",
       "      <td>엘브이엠씨홀딩스</td>\n",
       "    </tr>\n",
       "    <tr>\n",
       "      <th>NaN</th>\n",
       "      <td>NaN</td>\n",
       "    </tr>\n",
       "  </tbody>\n",
       "</table>\n",
       "<p>1561 rows × 1 columns</p>\n",
       "</div>"
      ],
      "text/plain": [
       "                            종목명\n",
       "종목코드                           \n",
       "000020                     동화약품\n",
       "000040                    KR모터스\n",
       "000050                       경방\n",
       "000060                    메리츠화재\n",
       "000070                    삼양홀딩스\n",
       "...                         ...\n",
       "590018       미래에셋 중국 심천 100 ETN\n",
       "590012       미래에셋 글로벌 리츠 ETN(H)\n",
       "700001  하나 코스피 변동성추세 추종 양매도 ETN\n",
       "900140                 엘브이엠씨홀딩스\n",
       "NaN                         NaN\n",
       "\n",
       "[1561 rows x 1 columns]"
      ]
     },
     "execution_count": 44,
     "metadata": {
      "tags": []
     },
     "output_type": "execute_result"
    }
   ],
   "source": [
    "df2"
   ]
  },
  {
   "cell_type": "code",
   "execution_count": null,
   "metadata": {
    "colab": {},
    "colab_type": "code",
    "id": "iRCZsps1SXT0"
   },
   "outputs": [],
   "source": [
    "df2.to_csv('./data/code2.csv')"
   ]
  },
  {
   "cell_type": "code",
   "execution_count": null,
   "metadata": {
    "colab": {},
    "colab_type": "code",
    "id": "yhBMhvtKSXT2"
   },
   "outputs": [],
   "source": [
    "from bs4 import BeautifulSoup\n",
    "from urllib.request import urlopen\n",
    "import re"
   ]
  },
  {
   "cell_type": "code",
   "execution_count": null,
   "metadata": {
    "colab": {},
    "colab_type": "code",
    "id": "VtJnkLG7SXT4"
   },
   "outputs": [],
   "source": [
    "def data_list(web_url):\n",
    "    with urlopen(web_url) as response:\n",
    "        html = response.read()\n",
    "        soup = BeautifulSoup(html, 'html.parser')\n",
    "        span_list = soup.find_all('span')\n",
    "        del span_list[0]\n",
    "        result_list = []\n",
    "        for i in range(len(span_list)):\n",
    "            data = str(span_list[i].get_text()).strip()\n",
    "            data_re = re.sub('[\\.\\,]+', \"\", data)  # 정규식 [,]또는 [.] 없애기\n",
    "            result_list.append(data_re)\n",
    "    return result_list"
   ]
  },
  {
   "cell_type": "code",
   "execution_count": null,
   "metadata": {
    "colab": {},
    "colab_type": "code",
    "id": "RQ5zlYM4SXT6"
   },
   "outputs": [],
   "source": [
    "a =data_list('https://finance.naver.com/item/sise_day.nhn?code=006490&page=1')"
   ]
  },
  {
   "cell_type": "code",
   "execution_count": null,
   "metadata": {
    "colab": {},
    "colab_type": "code",
    "id": "pWGxv-gpSXT7",
    "outputId": "fe00c765-ed0d-43a1-9060-5ff14d0b928d"
   },
   "outputs": [
    {
     "data": {
      "text/plain": [
       "70"
      ]
     },
     "execution_count": 63,
     "metadata": {
      "tags": []
     },
     "output_type": "execute_result"
    }
   ],
   "source": [
    "len(a)"
   ]
  },
  {
   "cell_type": "code",
   "execution_count": null,
   "metadata": {
    "colab": {},
    "colab_type": "code",
    "id": "At0XccGCSXT9",
    "outputId": "d29450e7-20a0-4a97-a5c9-7b8e9a291757"
   },
   "outputs": [
    {
     "data": {
      "text/plain": [
       "11"
      ]
     },
     "execution_count": 65,
     "metadata": {
      "tags": []
     },
     "output_type": "execute_result"
    }
   ],
   "source": [
    "int(len(a) / 7)+1"
   ]
  }
 ],
 "metadata": {
  "colab": {
   "collapsed_sections": [],
   "name": "20200920-investing scraping practice.ipynb",
   "provenance": [],
   "toc_visible": true
  },
  "kernelspec": {
   "display_name": "Python 3",
   "language": "python",
   "name": "python3"
  },
  "language_info": {
   "codemirror_mode": {
    "name": "ipython",
    "version": 3
   },
   "file_extension": ".py",
   "mimetype": "text/x-python",
   "name": "python",
   "nbconvert_exporter": "python",
   "pygments_lexer": "ipython3",
   "version": "3.8.3"
  }
 },
 "nbformat": 4,
 "nbformat_minor": 1
}
