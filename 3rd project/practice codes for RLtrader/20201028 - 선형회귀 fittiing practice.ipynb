{
 "cells": [
  {
   "cell_type": "markdown",
   "metadata": {},
   "source": [
    "### Talib 지표 알고리즘으로 학습 시켜 성능 확인해보기\n",
    "   - csv 파일로 저장된 df 를 불러와서 작업(csv 파일은 앞의 df 생성 코드로부터 생성) \n",
    "   - 알고리즘은 회귀를 써본 후 LSTM 을 적용하여 시계열 데이터에 적합 알고리즘을 비교 파악해보기"
   ]
  },
  {
   "cell_type": "code",
   "execution_count": 1,
   "metadata": {},
   "outputs": [],
   "source": [
    "import numpy as np\n",
    "import pandas as pd"
   ]
  },
  {
   "cell_type": "code",
   "execution_count": 2,
   "metadata": {},
   "outputs": [],
   "source": [
    "samsung_df = pd.read_csv('./data/samsung_df_201028.csv', index_col=0)"
   ]
  },
  {
   "cell_type": "code",
   "execution_count": 3,
   "metadata": {},
   "outputs": [],
   "source": [
    "# NaN 값이 없는 구간의 df만 추출\n",
    "df = samsung_df.loc['2010-03-01':'2020-09-17', :]"
   ]
  },
  {
   "cell_type": "code",
   "execution_count": 4,
   "metadata": {},
   "outputs": [
    {
     "data": {
      "text/html": [
       "<div>\n",
       "<style scoped>\n",
       "    .dataframe tbody tr th:only-of-type {\n",
       "        vertical-align: middle;\n",
       "    }\n",
       "\n",
       "    .dataframe tbody tr th {\n",
       "        vertical-align: top;\n",
       "    }\n",
       "\n",
       "    .dataframe thead th {\n",
       "        text-align: right;\n",
       "    }\n",
       "</style>\n",
       "<table border=\"1\" class=\"dataframe\">\n",
       "  <thead>\n",
       "    <tr style=\"text-align: right;\">\n",
       "      <th></th>\n",
       "      <th>open</th>\n",
       "      <th>high</th>\n",
       "      <th>low</th>\n",
       "      <th>close</th>\n",
       "      <th>volume</th>\n",
       "      <th>change</th>\n",
       "      <th>1month_close</th>\n",
       "      <th>1month_change</th>\n",
       "      <th>TARGET</th>\n",
       "      <th>_qcut</th>\n",
       "      <th>bol_upperband</th>\n",
       "      <th>bol_middleband</th>\n",
       "      <th>bol_lowerband</th>\n",
       "      <th>macd</th>\n",
       "      <th>macd_signal</th>\n",
       "      <th>macd_hist</th>\n",
       "      <th>bolinger_pca</th>\n",
       "    </tr>\n",
       "    <tr>\n",
       "      <th>Date</th>\n",
       "      <th></th>\n",
       "      <th></th>\n",
       "      <th></th>\n",
       "      <th></th>\n",
       "      <th></th>\n",
       "      <th></th>\n",
       "      <th></th>\n",
       "      <th></th>\n",
       "      <th></th>\n",
       "      <th></th>\n",
       "      <th></th>\n",
       "      <th></th>\n",
       "      <th></th>\n",
       "      <th></th>\n",
       "      <th></th>\n",
       "      <th></th>\n",
       "      <th></th>\n",
       "    </tr>\n",
       "  </thead>\n",
       "  <tbody>\n",
       "    <tr>\n",
       "      <th>2010-03-02</th>\n",
       "      <td>15220</td>\n",
       "      <td>15479</td>\n",
       "      <td>15120</td>\n",
       "      <td>15400</td>\n",
       "      <td>471552</td>\n",
       "      <td>0.034946</td>\n",
       "      <td>17380.0</td>\n",
       "      <td>0.128571</td>\n",
       "      <td>3.0</td>\n",
       "      <td>5.0</td>\n",
       "      <td>15738.107634</td>\n",
       "      <td>15241.0</td>\n",
       "      <td>14743.892366</td>\n",
       "      <td>-289.292188</td>\n",
       "      <td>-325.639030</td>\n",
       "      <td>36.346842</td>\n",
       "      <td>-30017.837579</td>\n",
       "    </tr>\n",
       "    <tr>\n",
       "      <th>2010-03-03</th>\n",
       "      <td>15420</td>\n",
       "      <td>15460</td>\n",
       "      <td>15260</td>\n",
       "      <td>15420</td>\n",
       "      <td>194602</td>\n",
       "      <td>0.001299</td>\n",
       "      <td>17180.0</td>\n",
       "      <td>0.114137</td>\n",
       "      <td>3.0</td>\n",
       "      <td>5.0</td>\n",
       "      <td>15720.283422</td>\n",
       "      <td>15235.0</td>\n",
       "      <td>14749.716578</td>\n",
       "      <td>-252.510304</td>\n",
       "      <td>-311.013285</td>\n",
       "      <td>58.502981</td>\n",
       "      <td>-30029.008039</td>\n",
       "    </tr>\n",
       "    <tr>\n",
       "      <th>2010-03-04</th>\n",
       "      <td>15420</td>\n",
       "      <td>15440</td>\n",
       "      <td>15120</td>\n",
       "      <td>15220</td>\n",
       "      <td>204388</td>\n",
       "      <td>-0.012970</td>\n",
       "      <td>17260.0</td>\n",
       "      <td>0.134034</td>\n",
       "      <td>3.0</td>\n",
       "      <td>5.0</td>\n",
       "      <td>15700.084026</td>\n",
       "      <td>15224.0</td>\n",
       "      <td>14747.915974</td>\n",
       "      <td>-236.769394</td>\n",
       "      <td>-296.164507</td>\n",
       "      <td>59.395112</td>\n",
       "      <td>-30048.653775</td>\n",
       "    </tr>\n",
       "  </tbody>\n",
       "</table>\n",
       "</div>"
      ],
      "text/plain": [
       "             open   high    low  close  volume    change  1month_close  \\\n",
       "Date                                                                     \n",
       "2010-03-02  15220  15479  15120  15400  471552  0.034946       17380.0   \n",
       "2010-03-03  15420  15460  15260  15420  194602  0.001299       17180.0   \n",
       "2010-03-04  15420  15440  15120  15220  204388 -0.012970       17260.0   \n",
       "\n",
       "            1month_change  TARGET  _qcut  bol_upperband  bol_middleband  \\\n",
       "Date                                                                      \n",
       "2010-03-02       0.128571     3.0    5.0   15738.107634         15241.0   \n",
       "2010-03-03       0.114137     3.0    5.0   15720.283422         15235.0   \n",
       "2010-03-04       0.134034     3.0    5.0   15700.084026         15224.0   \n",
       "\n",
       "            bol_lowerband        macd  macd_signal  macd_hist  bolinger_pca  \n",
       "Date                                                                         \n",
       "2010-03-02   14743.892366 -289.292188  -325.639030  36.346842 -30017.837579  \n",
       "2010-03-03   14749.716578 -252.510304  -311.013285  58.502981 -30029.008039  \n",
       "2010-03-04   14747.915974 -236.769394  -296.164507  59.395112 -30048.653775  "
      ]
     },
     "execution_count": 4,
     "metadata": {},
     "output_type": "execute_result"
    }
   ],
   "source": [
    "df.head(3)"
   ]
  },
  {
   "cell_type": "code",
   "execution_count": 5,
   "metadata": {},
   "outputs": [],
   "source": [
    "# 데이터와 답 분리\n",
    "\n",
    "# 학습시킬 features 은 종가, 거래량, macd, bolinger 지표만으로 학습시켜 보겠다.\n",
    "X_features = df[['close', 'volume','macd','macd_hist','bolinger_pca']]\n",
    "\n",
    "# 답은 2개로 나누어서 각각 해볼것 : 1: 한달후 change인 1month_change 칼럼, 2: 1번을 카테고라이즈한 TARGET 칼럼\n",
    "y_target_1 = df['1month_change']\n",
    "y_target_2 = df['TARGET']"
   ]
  },
  {
   "cell_type": "code",
   "execution_count": 6,
   "metadata": {},
   "outputs": [
    {
     "data": {
      "text/plain": [
       " 0.000000    11\n",
       "-0.027322     3\n",
       "-0.080000     3\n",
       " 0.019417     3\n",
       " 0.006211     3\n",
       "             ..\n",
       "-0.100389     1\n",
       " 0.107843     1\n",
       " 0.012797     1\n",
       " 0.084135     1\n",
       " 0.111111     1\n",
       "Name: 1month_change, Length: 2551, dtype: int64"
      ]
     },
     "execution_count": 6,
     "metadata": {},
     "output_type": "execute_result"
    }
   ],
   "source": [
    "# 답의 분포 확인 : 수익율 자체를 답으로.\n",
    "y_target_1.value_counts()"
   ]
  },
  {
   "cell_type": "code",
   "execution_count": 7,
   "metadata": {},
   "outputs": [
    {
     "data": {
      "text/plain": [
       " 1.0     755\n",
       "-3.0     698\n",
       "-5.0     360\n",
       " 3.0     327\n",
       " 0.0     279\n",
       "-10.0    163\n",
       " 5.0      24\n",
       "Name: TARGET, dtype: int64"
      ]
     },
     "execution_count": 7,
     "metadata": {},
     "output_type": "execute_result"
    }
   ],
   "source": [
    "# 답의 분포 확인 : 수익율 구간마다 점수를 매기고, 해당 점수를 답으로.\n",
    "y_target_2.value_counts()"
   ]
  },
  {
   "cell_type": "markdown",
   "metadata": {},
   "source": [
    "- 불균형한 데이터 셋은 아니다. "
   ]
  },
  {
   "cell_type": "markdown",
   "metadata": {},
   "source": [
    "### 1.   회귀(기본 선형 or 릿지or 라쏘)로 모델 생성\n",
    "\n",
    "- 모델 생성의 이해를 위한 기본 모델 생성\n",
    "\n",
    "- 시계열을 반영하지 않으므로, 매우 한정적인 정보로만 생성된 모델일 것.\n",
    "- 예상 : 신뢰 수준은 낮을것임"
   ]
  },
  {
   "cell_type": "markdown",
   "metadata": {},
   "source": [
    "#### 정규화하지 않고 해보기"
   ]
  },
  {
   "cell_type": "code",
   "execution_count": 8,
   "metadata": {},
   "outputs": [],
   "source": [
    "from sklearn.model_selection import train_test_split\n",
    "from sklearn.linear_model import LinearRegression\n",
    "from sklearn.metrics import mean_squared_error, r2_score"
   ]
  },
  {
   "cell_type": "code",
   "execution_count": 9,
   "metadata": {},
   "outputs": [],
   "source": [
    "# 학습, 테스트 데이터 분리\n",
    "## 섞이므로 시계열은 아예 무시됨.\n",
    "X_train, X_test, y_train, y_test = train_test_split(X_features, y_target_2, test_size=0.3, random_state = 0)"
   ]
  },
  {
   "cell_type": "code",
   "execution_count": 10,
   "metadata": {},
   "outputs": [
    {
     "name": "stdout",
     "output_type": "stream",
     "text": [
      "MSE : 10.931, RMSE : 3.306, R2 score : -0.010\n"
     ]
    }
   ],
   "source": [
    "# 선형회귀 모델로 학습/예측/평가\n",
    "# mse, rmse는 작을수록, r2는 1에 가까울수록 예측성능이 좋은 것임\n",
    "lr = LinearRegression()\n",
    "lr.fit(X_train, y_train)\n",
    "pred = lr.predict(X_test)\n",
    "mse = mean_squared_error(y_test, pred)\n",
    "rmse = np.sqrt(mse)\n",
    "r2_ = r2_score(y_test, pred)\n",
    "\n",
    "print('MSE : {0:.3f}, RMSE : {1:.3f}, R2 score : {2: .3f}'.format(mse, rmse, r2_))"
   ]
  },
  {
   "cell_type": "markdown",
   "metadata": {},
   "source": [
    "- 예상대로 MSE, RMSE 너무 높고, R2 score 너무 낮다"
   ]
  },
  {
   "cell_type": "code",
   "execution_count": 11,
   "metadata": {},
   "outputs": [],
   "source": [
    "target_ = pd.DataFrame(y_test, columns=['TARGET'])\n"
   ]
  },
  {
   "cell_type": "code",
   "execution_count": 12,
   "metadata": {},
   "outputs": [],
   "source": [
    "target_['pred'] = pred"
   ]
  },
  {
   "cell_type": "code",
   "execution_count": 13,
   "metadata": {},
   "outputs": [
    {
     "data": {
      "text/html": [
       "<div>\n",
       "<style scoped>\n",
       "    .dataframe tbody tr th:only-of-type {\n",
       "        vertical-align: middle;\n",
       "    }\n",
       "\n",
       "    .dataframe tbody tr th {\n",
       "        vertical-align: top;\n",
       "    }\n",
       "\n",
       "    .dataframe thead th {\n",
       "        text-align: right;\n",
       "    }\n",
       "</style>\n",
       "<table border=\"1\" class=\"dataframe\">\n",
       "  <thead>\n",
       "    <tr style=\"text-align: right;\">\n",
       "      <th></th>\n",
       "      <th>TARGET</th>\n",
       "      <th>pred</th>\n",
       "    </tr>\n",
       "    <tr>\n",
       "      <th>Date</th>\n",
       "      <th></th>\n",
       "      <th></th>\n",
       "    </tr>\n",
       "  </thead>\n",
       "  <tbody>\n",
       "    <tr>\n",
       "      <th>2019-07-19</th>\n",
       "      <td>-5.0</td>\n",
       "      <td>-2.004029</td>\n",
       "    </tr>\n",
       "    <tr>\n",
       "      <th>2019-12-13</th>\n",
       "      <td>3.0</td>\n",
       "      <td>-2.666616</td>\n",
       "    </tr>\n",
       "    <tr>\n",
       "      <th>2010-12-03</th>\n",
       "      <td>0.0</td>\n",
       "      <td>-1.433782</td>\n",
       "    </tr>\n",
       "    <tr>\n",
       "      <th>2019-11-01</th>\n",
       "      <td>-3.0</td>\n",
       "      <td>-2.370929</td>\n",
       "    </tr>\n",
       "    <tr>\n",
       "      <th>2013-10-31</th>\n",
       "      <td>-3.0</td>\n",
       "      <td>-1.312262</td>\n",
       "    </tr>\n",
       "    <tr>\n",
       "      <th>2014-08-04</th>\n",
       "      <td>-5.0</td>\n",
       "      <td>-1.216740</td>\n",
       "    </tr>\n",
       "    <tr>\n",
       "      <th>2019-03-11</th>\n",
       "      <td>1.0</td>\n",
       "      <td>-1.878838</td>\n",
       "    </tr>\n",
       "    <tr>\n",
       "      <th>2020-09-07</th>\n",
       "      <td>1.0</td>\n",
       "      <td>-2.396494</td>\n",
       "    </tr>\n",
       "    <tr>\n",
       "      <th>2015-07-02</th>\n",
       "      <td>-10.0</td>\n",
       "      <td>-1.348985</td>\n",
       "    </tr>\n",
       "    <tr>\n",
       "      <th>2018-02-26</th>\n",
       "      <td>0.0</td>\n",
       "      <td>-1.741670</td>\n",
       "    </tr>\n",
       "  </tbody>\n",
       "</table>\n",
       "</div>"
      ],
      "text/plain": [
       "            TARGET      pred\n",
       "Date                        \n",
       "2019-07-19    -5.0 -2.004029\n",
       "2019-12-13     3.0 -2.666616\n",
       "2010-12-03     0.0 -1.433782\n",
       "2019-11-01    -3.0 -2.370929\n",
       "2013-10-31    -3.0 -1.312262\n",
       "2014-08-04    -5.0 -1.216740\n",
       "2019-03-11     1.0 -1.878838\n",
       "2020-09-07     1.0 -2.396494\n",
       "2015-07-02   -10.0 -1.348985\n",
       "2018-02-26     0.0 -1.741670"
      ]
     },
     "execution_count": 13,
     "metadata": {},
     "output_type": "execute_result"
    }
   ],
   "source": [
    "target_[:10]"
   ]
  },
  {
   "cell_type": "code",
   "execution_count": 14,
   "metadata": {},
   "outputs": [],
   "source": [
    "# 학습, 테스트 데이터 분리2\n",
    "## train_test split 사용하지 않고 순서대로 임의로 자르기\n",
    "### 데이터는 섞이지 않음\n",
    "X_train = X_features[:2000]\n",
    "X_test = X_features[2000:]\n",
    "y_train = y_target_2[:2000]\n",
    "y_test = y_target_2[2000:]"
   ]
  },
  {
   "cell_type": "code",
   "execution_count": 15,
   "metadata": {},
   "outputs": [
    {
     "name": "stdout",
     "output_type": "stream",
     "text": [
      "MSE : 983.440, RMSE : 31.360, R2 score : -76.017\n"
     ]
    }
   ],
   "source": [
    "# 선형회귀 모델로 학습/예측/평가\n",
    "# mse, rmse는 작을수록, r2는 1에 가까울수록 예측성능이 좋은 것임\n",
    "lr = LinearRegression()\n",
    "lr.fit(X_train, y_train)\n",
    "pred = lr.predict(X_test)\n",
    "mse = mean_squared_error(y_test, pred)\n",
    "rmse = np.sqrt(mse)\n",
    "r2_ = r2_score(y_test, pred)\n",
    "\n",
    "print('MSE : {0:.3f}, RMSE : {1:.3f}, R2 score : {2: .3f}'.format(mse, rmse, r2_))"
   ]
  },
  {
   "cell_type": "markdown",
   "metadata": {},
   "source": [
    "- 이상한 값이 나옴. 식이 잘못된듯"
   ]
  },
  {
   "cell_type": "code",
   "execution_count": 16,
   "metadata": {},
   "outputs": [],
   "source": [
    "target_ = pd.DataFrame(y_test, columns=['TARGET'])\n",
    "target_['pred'] = pred"
   ]
  },
  {
   "cell_type": "code",
   "execution_count": 17,
   "metadata": {},
   "outputs": [
    {
     "data": {
      "text/html": [
       "<div>\n",
       "<style scoped>\n",
       "    .dataframe tbody tr th:only-of-type {\n",
       "        vertical-align: middle;\n",
       "    }\n",
       "\n",
       "    .dataframe tbody tr th {\n",
       "        vertical-align: top;\n",
       "    }\n",
       "\n",
       "    .dataframe thead th {\n",
       "        text-align: right;\n",
       "    }\n",
       "</style>\n",
       "<table border=\"1\" class=\"dataframe\">\n",
       "  <thead>\n",
       "    <tr style=\"text-align: right;\">\n",
       "      <th></th>\n",
       "      <th>close</th>\n",
       "      <th>volume</th>\n",
       "      <th>macd</th>\n",
       "      <th>macd_hist</th>\n",
       "      <th>bolinger_pca</th>\n",
       "    </tr>\n",
       "    <tr>\n",
       "      <th>Date</th>\n",
       "      <th></th>\n",
       "      <th></th>\n",
       "      <th></th>\n",
       "      <th></th>\n",
       "      <th></th>\n",
       "    </tr>\n",
       "  </thead>\n",
       "  <tbody>\n",
       "    <tr>\n",
       "      <th>2018-04-04</th>\n",
       "      <td>46920</td>\n",
       "      <td>247684</td>\n",
       "      <td>-174.365007</td>\n",
       "      <td>-422.100200</td>\n",
       "      <td>30270.039670</td>\n",
       "    </tr>\n",
       "    <tr>\n",
       "      <th>2018-04-05</th>\n",
       "      <td>48740</td>\n",
       "      <td>264912</td>\n",
       "      <td>-181.786607</td>\n",
       "      <td>-343.617439</td>\n",
       "      <td>30232.602374</td>\n",
       "    </tr>\n",
       "    <tr>\n",
       "      <th>2018-04-06</th>\n",
       "      <td>48400</td>\n",
       "      <td>250654</td>\n",
       "      <td>-212.652115</td>\n",
       "      <td>-299.586358</td>\n",
       "      <td>30122.441807</td>\n",
       "    </tr>\n",
       "    <tr>\n",
       "      <th>2018-04-09</th>\n",
       "      <td>49200</td>\n",
       "      <td>199008</td>\n",
       "      <td>-170.593443</td>\n",
       "      <td>-206.022149</td>\n",
       "      <td>30076.845795</td>\n",
       "    </tr>\n",
       "    <tr>\n",
       "      <th>2018-04-10</th>\n",
       "      <td>48880</td>\n",
       "      <td>219687</td>\n",
       "      <td>-161.224473</td>\n",
       "      <td>-157.322543</td>\n",
       "      <td>29830.231395</td>\n",
       "    </tr>\n",
       "    <tr>\n",
       "      <th>...</th>\n",
       "      <td>...</td>\n",
       "      <td>...</td>\n",
       "      <td>...</td>\n",
       "      <td>...</td>\n",
       "      <td>...</td>\n",
       "    </tr>\n",
       "    <tr>\n",
       "      <th>2020-09-11</th>\n",
       "      <td>59000</td>\n",
       "      <td>16017098</td>\n",
       "      <td>548.112537</td>\n",
       "      <td>359.702716</td>\n",
       "      <td>41698.649517</td>\n",
       "    </tr>\n",
       "    <tr>\n",
       "      <th>2020-09-14</th>\n",
       "      <td>60400</td>\n",
       "      <td>20648281</td>\n",
       "      <td>754.698531</td>\n",
       "      <td>453.030968</td>\n",
       "      <td>41930.720161</td>\n",
       "    </tr>\n",
       "    <tr>\n",
       "      <th>2020-09-15</th>\n",
       "      <td>61000</td>\n",
       "      <td>17877075</td>\n",
       "      <td>955.816349</td>\n",
       "      <td>523.319029</td>\n",
       "      <td>42182.873058</td>\n",
       "    </tr>\n",
       "    <tr>\n",
       "      <th>2020-09-16</th>\n",
       "      <td>61000</td>\n",
       "      <td>17041444</td>\n",
       "      <td>1102.494795</td>\n",
       "      <td>535.997980</td>\n",
       "      <td>42485.385356</td>\n",
       "    </tr>\n",
       "    <tr>\n",
       "      <th>2020-09-17</th>\n",
       "      <td>59500</td>\n",
       "      <td>25108356</td>\n",
       "      <td>1085.191643</td>\n",
       "      <td>414.955862</td>\n",
       "      <td>42844.433669</td>\n",
       "    </tr>\n",
       "  </tbody>\n",
       "</table>\n",
       "<p>606 rows × 5 columns</p>\n",
       "</div>"
      ],
      "text/plain": [
       "            close    volume         macd   macd_hist  bolinger_pca\n",
       "Date                                                              \n",
       "2018-04-04  46920    247684  -174.365007 -422.100200  30270.039670\n",
       "2018-04-05  48740    264912  -181.786607 -343.617439  30232.602374\n",
       "2018-04-06  48400    250654  -212.652115 -299.586358  30122.441807\n",
       "2018-04-09  49200    199008  -170.593443 -206.022149  30076.845795\n",
       "2018-04-10  48880    219687  -161.224473 -157.322543  29830.231395\n",
       "...           ...       ...          ...         ...           ...\n",
       "2020-09-11  59000  16017098   548.112537  359.702716  41698.649517\n",
       "2020-09-14  60400  20648281   754.698531  453.030968  41930.720161\n",
       "2020-09-15  61000  17877075   955.816349  523.319029  42182.873058\n",
       "2020-09-16  61000  17041444  1102.494795  535.997980  42485.385356\n",
       "2020-09-17  59500  25108356  1085.191643  414.955862  42844.433669\n",
       "\n",
       "[606 rows x 5 columns]"
      ]
     },
     "execution_count": 17,
     "metadata": {},
     "output_type": "execute_result"
    }
   ],
   "source": [
    "X_test"
   ]
  },
  {
   "cell_type": "code",
   "execution_count": 18,
   "metadata": {},
   "outputs": [
    {
     "data": {
      "text/html": [
       "<div>\n",
       "<style scoped>\n",
       "    .dataframe tbody tr th:only-of-type {\n",
       "        vertical-align: middle;\n",
       "    }\n",
       "\n",
       "    .dataframe tbody tr th {\n",
       "        vertical-align: top;\n",
       "    }\n",
       "\n",
       "    .dataframe thead th {\n",
       "        text-align: right;\n",
       "    }\n",
       "</style>\n",
       "<table border=\"1\" class=\"dataframe\">\n",
       "  <thead>\n",
       "    <tr style=\"text-align: right;\">\n",
       "      <th></th>\n",
       "      <th>close</th>\n",
       "      <th>volume</th>\n",
       "      <th>macd</th>\n",
       "      <th>macd_hist</th>\n",
       "      <th>bolinger_pca</th>\n",
       "    </tr>\n",
       "    <tr>\n",
       "      <th>Date</th>\n",
       "      <th></th>\n",
       "      <th></th>\n",
       "      <th></th>\n",
       "      <th></th>\n",
       "      <th></th>\n",
       "    </tr>\n",
       "  </thead>\n",
       "  <tbody>\n",
       "    <tr>\n",
       "      <th>2010-03-02</th>\n",
       "      <td>15400</td>\n",
       "      <td>471552</td>\n",
       "      <td>-289.292188</td>\n",
       "      <td>36.346842</td>\n",
       "      <td>-30017.837579</td>\n",
       "    </tr>\n",
       "    <tr>\n",
       "      <th>2010-03-03</th>\n",
       "      <td>15420</td>\n",
       "      <td>194602</td>\n",
       "      <td>-252.510304</td>\n",
       "      <td>58.502981</td>\n",
       "      <td>-30029.008039</td>\n",
       "    </tr>\n",
       "    <tr>\n",
       "      <th>2010-03-04</th>\n",
       "      <td>15220</td>\n",
       "      <td>204388</td>\n",
       "      <td>-236.769394</td>\n",
       "      <td>59.395112</td>\n",
       "      <td>-30048.653775</td>\n",
       "    </tr>\n",
       "    <tr>\n",
       "      <th>2010-03-05</th>\n",
       "      <td>15500</td>\n",
       "      <td>235291</td>\n",
       "      <td>-199.402364</td>\n",
       "      <td>77.409714</td>\n",
       "      <td>-30052.449112</td>\n",
       "    </tr>\n",
       "    <tr>\n",
       "      <th>2010-03-08</th>\n",
       "      <td>15720</td>\n",
       "      <td>391403</td>\n",
       "      <td>-150.303951</td>\n",
       "      <td>101.206502</td>\n",
       "      <td>-30032.992849</td>\n",
       "    </tr>\n",
       "    <tr>\n",
       "      <th>...</th>\n",
       "      <td>...</td>\n",
       "      <td>...</td>\n",
       "      <td>...</td>\n",
       "      <td>...</td>\n",
       "      <td>...</td>\n",
       "    </tr>\n",
       "    <tr>\n",
       "      <th>2018-03-28</th>\n",
       "      <td>48700</td>\n",
       "      <td>303189</td>\n",
       "      <td>467.900923</td>\n",
       "      <td>-150.617083</td>\n",
       "      <td>29664.289474</td>\n",
       "    </tr>\n",
       "    <tr>\n",
       "      <th>2018-03-29</th>\n",
       "      <td>49040</td>\n",
       "      <td>201340</td>\n",
       "      <td>352.475708</td>\n",
       "      <td>-212.833838</td>\n",
       "      <td>29824.243758</td>\n",
       "    </tr>\n",
       "    <tr>\n",
       "      <th>2018-03-30</th>\n",
       "      <td>49220</td>\n",
       "      <td>155542</td>\n",
       "      <td>272.385005</td>\n",
       "      <td>-234.339633</td>\n",
       "      <td>30074.358346</td>\n",
       "    </tr>\n",
       "    <tr>\n",
       "      <th>2018-04-02</th>\n",
       "      <td>48540</td>\n",
       "      <td>142313</td>\n",
       "      <td>152.286762</td>\n",
       "      <td>-283.550301</td>\n",
       "      <td>30316.155119</td>\n",
       "    </tr>\n",
       "    <tr>\n",
       "      <th>2018-04-03</th>\n",
       "      <td>48120</td>\n",
       "      <td>255365</td>\n",
       "      <td>22.952961</td>\n",
       "      <td>-330.307281</td>\n",
       "      <td>30396.377142</td>\n",
       "    </tr>\n",
       "  </tbody>\n",
       "</table>\n",
       "<p>2000 rows × 5 columns</p>\n",
       "</div>"
      ],
      "text/plain": [
       "            close  volume        macd   macd_hist  bolinger_pca\n",
       "Date                                                           \n",
       "2010-03-02  15400  471552 -289.292188   36.346842 -30017.837579\n",
       "2010-03-03  15420  194602 -252.510304   58.502981 -30029.008039\n",
       "2010-03-04  15220  204388 -236.769394   59.395112 -30048.653775\n",
       "2010-03-05  15500  235291 -199.402364   77.409714 -30052.449112\n",
       "2010-03-08  15720  391403 -150.303951  101.206502 -30032.992849\n",
       "...           ...     ...         ...         ...           ...\n",
       "2018-03-28  48700  303189  467.900923 -150.617083  29664.289474\n",
       "2018-03-29  49040  201340  352.475708 -212.833838  29824.243758\n",
       "2018-03-30  49220  155542  272.385005 -234.339633  30074.358346\n",
       "2018-04-02  48540  142313  152.286762 -283.550301  30316.155119\n",
       "2018-04-03  48120  255365   22.952961 -330.307281  30396.377142\n",
       "\n",
       "[2000 rows x 5 columns]"
      ]
     },
     "execution_count": 18,
     "metadata": {},
     "output_type": "execute_result"
    }
   ],
   "source": [
    "X_train"
   ]
  },
  {
   "cell_type": "markdown",
   "metadata": {},
   "source": [
    "- close 값은 빼고 돌리는 것이 좋겠다. "
   ]
  },
  {
   "cell_type": "code",
   "execution_count": 19,
   "metadata": {},
   "outputs": [],
   "source": [
    "# close 값도 빼고, 데이터와 답 분리\n",
    "\n",
    "# 학습시킬 features 은 종가, 거래량, macd, bolinger 지표만으로 학습시켜 보겠다.\n",
    "X_features = df[['volume','macd','macd_hist','bolinger_pca']]\n",
    "\n",
    "# 답은 2개로 나누어서 각각 해볼것 : 1: 한달후 change인 1month_change 칼럼, 2: 1번을 카테고라이즈한 TARGET 칼럼\n",
    "y_target_1 = df['1month_change']\n",
    "y_target_2 = df['TARGET']"
   ]
  },
  {
   "cell_type": "code",
   "execution_count": 20,
   "metadata": {},
   "outputs": [],
   "source": [
    "# 학습, 테스트 데이터 분리\n",
    "## 섞이므로 시계열은 아예 무시됨.\n",
    "X_train, X_test, y_train, y_test = train_test_split(X_features, y_target_1, test_size=0.3, random_state = 0)"
   ]
  },
  {
   "cell_type": "code",
   "execution_count": 21,
   "metadata": {},
   "outputs": [
    {
     "name": "stdout",
     "output_type": "stream",
     "text": [
      "MSE : 0.006, RMSE : 0.075, R2 score : -0.006\n"
     ]
    }
   ],
   "source": [
    "# 선형회귀 모델로 학습/예측/평가\n",
    "# mse, rmse는 작을수록, r2는 1에 가까울수록 예측성능이 좋은 것임\n",
    "lr = LinearRegression()\n",
    "lr.fit(X_train, y_train)\n",
    "pred = lr.predict(X_test)\n",
    "mse = mean_squared_error(y_test, pred)\n",
    "rmse = np.sqrt(mse)\n",
    "r2_ = r2_score(y_test, pred)\n",
    "\n",
    "print('MSE : {0:.3f}, RMSE : {1:.3f}, R2 score : {2: .3f}'.format(mse, rmse, r2_))"
   ]
  },
  {
   "cell_type": "markdown",
   "metadata": {},
   "source": [
    "- 선형회귀는 적합하지 않음을 확인"
   ]
  },
  {
   "cell_type": "code",
   "execution_count": 22,
   "metadata": {},
   "outputs": [],
   "source": [
    "# Feature 정규화하여 확인\n",
    "from sklearn.preprocessing import StandardScaler\n",
    "from sklearn.preprocessing import MinMaxScaler"
   ]
  },
  {
   "cell_type": "code",
   "execution_count": 23,
   "metadata": {},
   "outputs": [],
   "source": [
    "scaler = StandardScaler()"
   ]
  },
  {
   "cell_type": "code",
   "execution_count": 24,
   "metadata": {},
   "outputs": [],
   "source": [
    "X_features_scaled = scaler.fit_transform(X_features)"
   ]
  },
  {
   "cell_type": "code",
   "execution_count": 25,
   "metadata": {},
   "outputs": [],
   "source": [
    "# 학습, 테스트 데이터 분리\n",
    "## 섞이므로 시계열은 아예 무시됨.\n",
    "X_train = X_features_scaled[:2000]\n",
    "X_test = X_features_scaled[2000:]\n",
    "y_train = y_target_1[:2000]\n",
    "y_test = y_target_1[2000:]"
   ]
  },
  {
   "cell_type": "code",
   "execution_count": 26,
   "metadata": {},
   "outputs": [
    {
     "name": "stdout",
     "output_type": "stream",
     "text": [
      "MSE : 0.736, RMSE : 0.858, R2 score : -108.644\n"
     ]
    }
   ],
   "source": [
    "# 선형회귀 모델로 학습/예측/평가\n",
    "# mse, rmse는 작을수록, r2는 1에 가까울수록 예측성능이 좋은 것임\n",
    "lr = LinearRegression()\n",
    "lr.fit(X_train, y_train)\n",
    "pred = lr.predict(X_test)\n",
    "mse = mean_squared_error(y_test, pred)\n",
    "rmse = np.sqrt(mse)\n",
    "r2_ = r2_score(y_test, pred)\n",
    "\n",
    "print('MSE : {0:.3f}, RMSE : {1:.3f}, R2 score : {2: .3f}'.format(mse, rmse, r2_))"
   ]
  },
  {
   "cell_type": "code",
   "execution_count": 27,
   "metadata": {},
   "outputs": [
    {
     "data": {
      "text/html": [
       "<div>\n",
       "<style scoped>\n",
       "    .dataframe tbody tr th:only-of-type {\n",
       "        vertical-align: middle;\n",
       "    }\n",
       "\n",
       "    .dataframe tbody tr th {\n",
       "        vertical-align: top;\n",
       "    }\n",
       "\n",
       "    .dataframe thead th {\n",
       "        text-align: right;\n",
       "    }\n",
       "</style>\n",
       "<table border=\"1\" class=\"dataframe\">\n",
       "  <thead>\n",
       "    <tr style=\"text-align: right;\">\n",
       "      <th></th>\n",
       "      <th>1month_change</th>\n",
       "      <th>pred</th>\n",
       "    </tr>\n",
       "    <tr>\n",
       "      <th>Date</th>\n",
       "      <th></th>\n",
       "      <th></th>\n",
       "    </tr>\n",
       "  </thead>\n",
       "  <tbody>\n",
       "    <tr>\n",
       "      <th>2018-04-04</th>\n",
       "      <td>0.093350</td>\n",
       "      <td>0.006932</td>\n",
       "    </tr>\n",
       "    <tr>\n",
       "      <th>2018-04-05</th>\n",
       "      <td>0.027903</td>\n",
       "      <td>0.007657</td>\n",
       "    </tr>\n",
       "    <tr>\n",
       "      <th>2018-04-06</th>\n",
       "      <td>0.016529</td>\n",
       "      <td>0.006687</td>\n",
       "    </tr>\n",
       "    <tr>\n",
       "      <th>2018-04-09</th>\n",
       "      <td>0.013211</td>\n",
       "      <td>0.004044</td>\n",
       "    </tr>\n",
       "    <tr>\n",
       "      <th>2018-04-10</th>\n",
       "      <td>0.010638</td>\n",
       "      <td>0.005135</td>\n",
       "    </tr>\n",
       "    <tr>\n",
       "      <th>...</th>\n",
       "      <td>...</td>\n",
       "      <td>...</td>\n",
       "    </tr>\n",
       "    <tr>\n",
       "      <th>2020-09-11</th>\n",
       "      <td>0.018644</td>\n",
       "      <td>0.832561</td>\n",
       "    </tr>\n",
       "    <tr>\n",
       "      <th>2020-09-14</th>\n",
       "      <td>-0.003311</td>\n",
       "      <td>1.075871</td>\n",
       "    </tr>\n",
       "    <tr>\n",
       "      <th>2020-09-15</th>\n",
       "      <td>-0.009836</td>\n",
       "      <td>0.931694</td>\n",
       "    </tr>\n",
       "    <tr>\n",
       "      <th>2020-09-16</th>\n",
       "      <td>-0.019672</td>\n",
       "      <td>0.888646</td>\n",
       "    </tr>\n",
       "    <tr>\n",
       "      <th>2020-09-17</th>\n",
       "      <td>-0.008403</td>\n",
       "      <td>1.310988</td>\n",
       "    </tr>\n",
       "  </tbody>\n",
       "</table>\n",
       "<p>606 rows × 2 columns</p>\n",
       "</div>"
      ],
      "text/plain": [
       "            1month_change      pred\n",
       "Date                               \n",
       "2018-04-04       0.093350  0.006932\n",
       "2018-04-05       0.027903  0.007657\n",
       "2018-04-06       0.016529  0.006687\n",
       "2018-04-09       0.013211  0.004044\n",
       "2018-04-10       0.010638  0.005135\n",
       "...                   ...       ...\n",
       "2020-09-11       0.018644  0.832561\n",
       "2020-09-14      -0.003311  1.075871\n",
       "2020-09-15      -0.009836  0.931694\n",
       "2020-09-16      -0.019672  0.888646\n",
       "2020-09-17      -0.008403  1.310988\n",
       "\n",
       "[606 rows x 2 columns]"
      ]
     },
     "execution_count": 27,
     "metadata": {},
     "output_type": "execute_result"
    }
   ],
   "source": [
    "target_ = pd.DataFrame(y_test)\n",
    "target_['pred'] = pred\n",
    "target_"
   ]
  },
  {
   "cell_type": "code",
   "execution_count": 28,
   "metadata": {},
   "outputs": [],
   "source": [
    "import matplotlib.pyplot as plt\n",
    "%matplotlib inline"
   ]
  },
  {
   "cell_type": "code",
   "execution_count": 29,
   "metadata": {},
   "outputs": [],
   "source": [
    "import datetime"
   ]
  },
  {
   "cell_type": "code",
   "execution_count": 30,
   "metadata": {},
   "outputs": [
    {
     "data": {
      "image/png": "[encoded data removed]",
      "text/plain": [
       "<Figure size 432x288 with 1 Axes>"
      ]
     },
     "metadata": {
      "needs_background": "light"
     },
     "output_type": "display_data"
    }
   ],
   "source": [
    "# 테스트 데이터와 예측값의 시각화\n",
    "plt.figure()\n",
    "plt.plot(target_['1month_change'], label='1month_change')\n",
    "plt.plot(target_['pred'], label = 'prediction')\n",
    "plt.legend()\n",
    "plt.show()\n"
   ]
  },
  {
   "cell_type": "markdown",
   "metadata": {},
   "source": [
    "- 예측값과 답 사이에 기본적으로 수준차이가 매우 크게 나타난다.\n",
    "- 근데 뭔가 예측값이 노이즈가 많이 낀 시그널처럼 보이기도 한다\n",
    "\n",
    "- pred 값과 1 month change 값을 0~1사이로 Normalize 해보자"
   ]
  },
  {
   "cell_type": "code",
   "execution_count": 31,
   "metadata": {},
   "outputs": [],
   "source": [
    "scaler = MinMaxScaler()"
   ]
  },
  {
   "cell_type": "code",
   "execution_count": 39,
   "metadata": {},
   "outputs": [],
   "source": [
    "pred = pred.reshape(-1,1)\n",
    "pred_normal = scaler.fit_transform(pred)"
   ]
  },
  {
   "cell_type": "code",
   "execution_count": 46,
   "metadata": {},
   "outputs": [],
   "source": [
    "month_change = target_['1month_change'].values.reshape(-1,1)\n",
    "month_change_normal = scaler.fit_transform(month_change)"
   ]
  },
  {
   "cell_type": "code",
   "execution_count": 48,
   "metadata": {},
   "outputs": [
    {
     "data": {
      "image/png": "[encoded data removed]",
      "text/plain": [
       "<Figure size 432x288 with 1 Axes>"
      ]
     },
     "metadata": {
      "needs_background": "light"
     },
     "output_type": "display_data"
    }
   ],
   "source": [
    "# Normalize 후 테스트 데이터와 예측값의 시각화\n",
    "plt.figure()\n",
    "plt.plot(month_change_normal, label='1month_change_norm')\n",
    "plt.plot(pred_normal, label = 'prediction_norm')\n",
    "plt.legend(loc = 'best')\n",
    "plt.show()\n",
    "\n"
   ]
  },
  {
   "cell_type": "code",
   "execution_count": 45,
   "metadata": {},
   "outputs": [
    {
     "data": {
      "text/plain": [
       "(606,)"
      ]
     },
     "execution_count": 45,
     "metadata": {},
     "output_type": "execute_result"
    }
   ],
   "source": [
    "target_['1month_change'].values.shape"
   ]
  },
  {
   "cell_type": "markdown",
   "metadata": {},
   "source": [
    "- 노이즈의 영향이 더 크게 보인다.\n",
    "\n",
    "- 선형회귀는 예상대로 적합한 툴이 아니다\n",
    "\n",
    "- 다른 알고리즘으로 넘어가자\n",
    "- ## 위 내용 정리해두기!"
   ]
  }
 ],
 "metadata": {
  "kernelspec": {
   "display_name": "py37_32",
   "language": "python",
   "name": "py37_32"
  },
  "language_info": {
   "codemirror_mode": {
    "name": "ipython",
    "version": 3
   },
   "file_extension": ".py",
   "mimetype": "text/x-python",
   "name": "python",
   "nbconvert_exporter": "python",
   "pygments_lexer": "ipython3",
   "version": "3.7.7"
  }
 },
 "nbformat": 4,
 "nbformat_minor": 4
}
